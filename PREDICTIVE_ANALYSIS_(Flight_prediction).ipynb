{
  "cells": [
    {
      "cell_type": "markdown",
      "metadata": {
        "id": "view-in-github",
        "colab_type": "text"
      },
      "source": [
        "<a href=\"https://colab.research.google.com/github/Awangnugrawan/Predictive-Analysis-and-Review/blob/main/PREDICTIVE_ANALYSIS_(Flight_prediction).ipynb\" target=\"_parent\"><img src=\"https://colab.research.google.com/assets/colab-badge.svg\" alt=\"Open In Colab\"/></a>"
      ]
    },
    {
      "cell_type": "markdown",
      "source": [
        "# SUBMISSION PROJECT DICODING Proyek Pertama : Predictive Analytics\n",
        "## DATA DIRI\n",
        "\n",
        "*  Nama= Awang Mulya Nugrawan\n",
        "*  username DICODING= awang_nugrawan\n",
        "*  email = awangmulyanugrawan@gmail.com\n",
        "*  No.hp = 082191862002\n",
        "*  Asal= Makassar, Sulawesi Selatan\n",
        "*  Status = Mahasiswa Sisfor Universitas Hasanuddin\n",
        "\n",
        "\n",
        "\n",
        "\n",
        "\n",
        "\n",
        "\n",
        "\n",
        "\n"
      ],
      "metadata": {
        "id": "W4ZDmrPPEyyP"
      }
    },
    {
      "cell_type": "markdown",
      "source": [
        "#LIBRARY"
      ],
      "metadata": {
        "id": "e4z14FPrE8zq"
      }
    },
    {
      "cell_type": "code",
      "execution_count": null,
      "metadata": {
        "id": "7Sea1EtX8L0z"
      },
      "outputs": [],
      "source": [
        "import numpy as np\n",
        "import matplotlib.pyplot as plt\n",
        "import pandas as pd\n",
        "%matplotlib inline\n",
        "import seaborn as sns\n",
        "from sklearn.model_selection import train_test_split\n",
        "from sklearn.neighbors import KNeighborsRegressor\n",
        "from sklearn.metrics import mean_squared_error,r2_score, mean_absolute_error\n",
        "from sklearn.ensemble import RandomForestRegressor\n",
        "from sklearn.tree import DecisionTreeRegressor\n",
        "from sklearn.metrics import accuracy_score"
      ]
    },
    {
      "cell_type": "markdown",
      "source": [
        "#Explorasi data analysis"
      ],
      "metadata": {
        "id": "lYSKBvjxFFvT"
      }
    },
    {
      "cell_type": "markdown",
      "source": [
        "Dataset yang digunakan pada laporan ini adalah data tarif penerbangan di negara India pada tahun 2019 .Tujuan atau target dari dataset ini adalah menganalisis data  dan membangun model prediksi yang dapat memprediksi harga tiket pesawat berdasarkan fitur-fitur tersebut. [Kaggle Repository] (https://www.kaggle.com/datasets/nikhilmittal/flight-fare-prediction-mh/code)"
      ],
      "metadata": {
        "id": "58IdjEp_laH6"
      }
    },
    {
      "cell_type": "code",
      "execution_count": null,
      "metadata": {
        "id": "T6AXfpIOuOeL"
      },
      "outputs": [],
      "source": [
        "df= pd.read_excel('/content/drive/MyDrive/Machine Learning Terapan/flight.xlsx')"
      ]
    },
    {
      "cell_type": "code",
      "execution_count": null,
      "metadata": {
        "colab": {
          "base_uri": "https://localhost:8080/",
          "height": 206
        },
        "id": "62Cz1g3F5Roj",
        "outputId": "6eae46be-09e5-4f7c-9510-85425d103767"
      },
      "outputs": [
        {
          "output_type": "execute_result",
          "data": {
            "text/plain": [
              "       Airline Date_of_Journey    Source Destination                  Route  \\\n",
              "0       IndiGo      24/03/2019  Banglore   New Delhi              BLR → DEL   \n",
              "1    Air India       1/05/2019   Kolkata    Banglore  CCU → IXR → BBI → BLR   \n",
              "2  Jet Airways       9/06/2019     Delhi      Cochin  DEL → LKO → BOM → COK   \n",
              "3       IndiGo      12/05/2019   Kolkata    Banglore        CCU → NAG → BLR   \n",
              "4       IndiGo      01/03/2019  Banglore   New Delhi        BLR → NAG → DEL   \n",
              "\n",
              "  Dep_Time  Arrival_Time Duration Total_Stops Additional_Info  Price  \n",
              "0    22:20  01:10 22 Mar   2h 50m    non-stop         No info   3897  \n",
              "1    05:50         13:15   7h 25m     2 stops         No info   7662  \n",
              "2    09:25  04:25 10 Jun      19h     2 stops         No info  13882  \n",
              "3    18:05         23:30   5h 25m      1 stop         No info   6218  \n",
              "4    16:50         21:35   4h 45m      1 stop         No info  13302  "
            ],
            "text/html": [
              "\n",
              "  <div id=\"df-94a0c070-a5e5-401a-9fc9-76ee3914e34c\">\n",
              "    <div class=\"colab-df-container\">\n",
              "      <div>\n",
              "<style scoped>\n",
              "    .dataframe tbody tr th:only-of-type {\n",
              "        vertical-align: middle;\n",
              "    }\n",
              "\n",
              "    .dataframe tbody tr th {\n",
              "        vertical-align: top;\n",
              "    }\n",
              "\n",
              "    .dataframe thead th {\n",
              "        text-align: right;\n",
              "    }\n",
              "</style>\n",
              "<table border=\"1\" class=\"dataframe\">\n",
              "  <thead>\n",
              "    <tr style=\"text-align: right;\">\n",
              "      <th></th>\n",
              "      <th>Airline</th>\n",
              "      <th>Date_of_Journey</th>\n",
              "      <th>Source</th>\n",
              "      <th>Destination</th>\n",
              "      <th>Route</th>\n",
              "      <th>Dep_Time</th>\n",
              "      <th>Arrival_Time</th>\n",
              "      <th>Duration</th>\n",
              "      <th>Total_Stops</th>\n",
              "      <th>Additional_Info</th>\n",
              "      <th>Price</th>\n",
              "    </tr>\n",
              "  </thead>\n",
              "  <tbody>\n",
              "    <tr>\n",
              "      <th>0</th>\n",
              "      <td>IndiGo</td>\n",
              "      <td>24/03/2019</td>\n",
              "      <td>Banglore</td>\n",
              "      <td>New Delhi</td>\n",
              "      <td>BLR → DEL</td>\n",
              "      <td>22:20</td>\n",
              "      <td>01:10 22 Mar</td>\n",
              "      <td>2h 50m</td>\n",
              "      <td>non-stop</td>\n",
              "      <td>No info</td>\n",
              "      <td>3897</td>\n",
              "    </tr>\n",
              "    <tr>\n",
              "      <th>1</th>\n",
              "      <td>Air India</td>\n",
              "      <td>1/05/2019</td>\n",
              "      <td>Kolkata</td>\n",
              "      <td>Banglore</td>\n",
              "      <td>CCU → IXR → BBI → BLR</td>\n",
              "      <td>05:50</td>\n",
              "      <td>13:15</td>\n",
              "      <td>7h 25m</td>\n",
              "      <td>2 stops</td>\n",
              "      <td>No info</td>\n",
              "      <td>7662</td>\n",
              "    </tr>\n",
              "    <tr>\n",
              "      <th>2</th>\n",
              "      <td>Jet Airways</td>\n",
              "      <td>9/06/2019</td>\n",
              "      <td>Delhi</td>\n",
              "      <td>Cochin</td>\n",
              "      <td>DEL → LKO → BOM → COK</td>\n",
              "      <td>09:25</td>\n",
              "      <td>04:25 10 Jun</td>\n",
              "      <td>19h</td>\n",
              "      <td>2 stops</td>\n",
              "      <td>No info</td>\n",
              "      <td>13882</td>\n",
              "    </tr>\n",
              "    <tr>\n",
              "      <th>3</th>\n",
              "      <td>IndiGo</td>\n",
              "      <td>12/05/2019</td>\n",
              "      <td>Kolkata</td>\n",
              "      <td>Banglore</td>\n",
              "      <td>CCU → NAG → BLR</td>\n",
              "      <td>18:05</td>\n",
              "      <td>23:30</td>\n",
              "      <td>5h 25m</td>\n",
              "      <td>1 stop</td>\n",
              "      <td>No info</td>\n",
              "      <td>6218</td>\n",
              "    </tr>\n",
              "    <tr>\n",
              "      <th>4</th>\n",
              "      <td>IndiGo</td>\n",
              "      <td>01/03/2019</td>\n",
              "      <td>Banglore</td>\n",
              "      <td>New Delhi</td>\n",
              "      <td>BLR → NAG → DEL</td>\n",
              "      <td>16:50</td>\n",
              "      <td>21:35</td>\n",
              "      <td>4h 45m</td>\n",
              "      <td>1 stop</td>\n",
              "      <td>No info</td>\n",
              "      <td>13302</td>\n",
              "    </tr>\n",
              "  </tbody>\n",
              "</table>\n",
              "</div>\n",
              "      <button class=\"colab-df-convert\" onclick=\"convertToInteractive('df-94a0c070-a5e5-401a-9fc9-76ee3914e34c')\"\n",
              "              title=\"Convert this dataframe to an interactive table.\"\n",
              "              style=\"display:none;\">\n",
              "        \n",
              "  <svg xmlns=\"http://www.w3.org/2000/svg\" height=\"24px\"viewBox=\"0 0 24 24\"\n",
              "       width=\"24px\">\n",
              "    <path d=\"M0 0h24v24H0V0z\" fill=\"none\"/>\n",
              "    <path d=\"M18.56 5.44l.94 2.06.94-2.06 2.06-.94-2.06-.94-.94-2.06-.94 2.06-2.06.94zm-11 1L8.5 8.5l.94-2.06 2.06-.94-2.06-.94L8.5 2.5l-.94 2.06-2.06.94zm10 10l.94 2.06.94-2.06 2.06-.94-2.06-.94-.94-2.06-.94 2.06-2.06.94z\"/><path d=\"M17.41 7.96l-1.37-1.37c-.4-.4-.92-.59-1.43-.59-.52 0-1.04.2-1.43.59L10.3 9.45l-7.72 7.72c-.78.78-.78 2.05 0 2.83L4 21.41c.39.39.9.59 1.41.59.51 0 1.02-.2 1.41-.59l7.78-7.78 2.81-2.81c.8-.78.8-2.07 0-2.86zM5.41 20L4 18.59l7.72-7.72 1.47 1.35L5.41 20z\"/>\n",
              "  </svg>\n",
              "      </button>\n",
              "      \n",
              "  <style>\n",
              "    .colab-df-container {\n",
              "      display:flex;\n",
              "      flex-wrap:wrap;\n",
              "      gap: 12px;\n",
              "    }\n",
              "\n",
              "    .colab-df-convert {\n",
              "      background-color: #E8F0FE;\n",
              "      border: none;\n",
              "      border-radius: 50%;\n",
              "      cursor: pointer;\n",
              "      display: none;\n",
              "      fill: #1967D2;\n",
              "      height: 32px;\n",
              "      padding: 0 0 0 0;\n",
              "      width: 32px;\n",
              "    }\n",
              "\n",
              "    .colab-df-convert:hover {\n",
              "      background-color: #E2EBFA;\n",
              "      box-shadow: 0px 1px 2px rgba(60, 64, 67, 0.3), 0px 1px 3px 1px rgba(60, 64, 67, 0.15);\n",
              "      fill: #174EA6;\n",
              "    }\n",
              "\n",
              "    [theme=dark] .colab-df-convert {\n",
              "      background-color: #3B4455;\n",
              "      fill: #D2E3FC;\n",
              "    }\n",
              "\n",
              "    [theme=dark] .colab-df-convert:hover {\n",
              "      background-color: #434B5C;\n",
              "      box-shadow: 0px 1px 3px 1px rgba(0, 0, 0, 0.15);\n",
              "      filter: drop-shadow(0px 1px 2px rgba(0, 0, 0, 0.3));\n",
              "      fill: #FFFFFF;\n",
              "    }\n",
              "  </style>\n",
              "\n",
              "      <script>\n",
              "        const buttonEl =\n",
              "          document.querySelector('#df-94a0c070-a5e5-401a-9fc9-76ee3914e34c button.colab-df-convert');\n",
              "        buttonEl.style.display =\n",
              "          google.colab.kernel.accessAllowed ? 'block' : 'none';\n",
              "\n",
              "        async function convertToInteractive(key) {\n",
              "          const element = document.querySelector('#df-94a0c070-a5e5-401a-9fc9-76ee3914e34c');\n",
              "          const dataTable =\n",
              "            await google.colab.kernel.invokeFunction('convertToInteractive',\n",
              "                                                     [key], {});\n",
              "          if (!dataTable) return;\n",
              "\n",
              "          const docLinkHtml = 'Like what you see? Visit the ' +\n",
              "            '<a target=\"_blank\" href=https://colab.research.google.com/notebooks/data_table.ipynb>data table notebook</a>'\n",
              "            + ' to learn more about interactive tables.';\n",
              "          element.innerHTML = '';\n",
              "          dataTable['output_type'] = 'display_data';\n",
              "          await google.colab.output.renderOutput(dataTable, element);\n",
              "          const docLink = document.createElement('div');\n",
              "          docLink.innerHTML = docLinkHtml;\n",
              "          element.appendChild(docLink);\n",
              "        }\n",
              "      </script>\n",
              "    </div>\n",
              "  </div>\n",
              "  "
            ]
          },
          "metadata": {},
          "execution_count": 65
        }
      ],
      "source": [
        "df.head()"
      ]
    },
    {
      "cell_type": "markdown",
      "source": [
        "Variabel-variabel pada flight fare prediction Kaggle Dataset adalah sebagai berikut:\n",
        "1. Airline: kolom ini akan berisi semua jenis maskapai penerbangan seperti Indigo, Jet Airways, Air India, dan masih banyak lagi. \n",
        "2. Date_of_Journey: Kolom ini tentang tanggal di mana perjalanan penumpang akan dimulai. \n",
        "3. Source: Kolom ini berisi nama tempat dari mana perjalanan penumpang akan dimulai. \n",
        "4. Destination: Kolom ini menampung nama tempat tujuan perjalanan penumpang. \n",
        "5. Route: Kolom ini tentang rute apa yang dipilih penumpang untuk melakukan perjalanan dari tempat asal ke tempat tujuan. \n",
        "6. Dep_time : merujuk pada waktu keberangkatan (departure time) suatu penerbangan,\n",
        "7. Arrival_Time: Waktu kedatangan adalah kapan penumpang akan sampai di tempat tujuan. \n",
        "8. Duration: Durasi adalah seluruh periode yang dibutuhkan penerbangan untuk menyelesaikan perjalanannya dari sumber ke tujuan. \n",
        "9. Total_Stops: Kolom ini tentang berapa banyak tempat penerbangan akan berhenti di sana untuk penerbangan sepanjang perjalanan. \n",
        "10. Additional_Info: Pada kolom ini, kita akan mendapatkan informasi tentang makanan, jenis makanan, dan fasilitas lainnya. \n",
        "11. Price: Harga penerbangan untuk perjalanan lengkap termasuk semua biaya sebelum naik pesawat.\n"
      ],
      "metadata": {
        "id": "nJZN3q4GkiPK"
      }
    },
    {
      "cell_type": "code",
      "execution_count": null,
      "metadata": {
        "colab": {
          "base_uri": "https://localhost:8080/"
        },
        "id": "RclARId_66vJ",
        "outputId": "96c15391-7154-4506-87b5-3e9ad742f5ed"
      },
      "outputs": [
        {
          "output_type": "stream",
          "name": "stdout",
          "text": [
            "<class 'pandas.core.frame.DataFrame'>\n",
            "RangeIndex: 10683 entries, 0 to 10682\n",
            "Data columns (total 11 columns):\n",
            " #   Column           Non-Null Count  Dtype \n",
            "---  ------           --------------  ----- \n",
            " 0   Airline          10683 non-null  object\n",
            " 1   Date_of_Journey  10683 non-null  object\n",
            " 2   Source           10683 non-null  object\n",
            " 3   Destination      10683 non-null  object\n",
            " 4   Route            10682 non-null  object\n",
            " 5   Dep_Time         10683 non-null  object\n",
            " 6   Arrival_Time     10683 non-null  object\n",
            " 7   Duration         10683 non-null  object\n",
            " 8   Total_Stops      10682 non-null  object\n",
            " 9   Additional_Info  10683 non-null  object\n",
            " 10  Price            10683 non-null  int64 \n",
            "dtypes: int64(1), object(10)\n",
            "memory usage: 918.2+ KB\n"
          ]
        }
      ],
      "source": [
        "df.info()"
      ]
    },
    {
      "cell_type": "markdown",
      "metadata": {
        "id": "LjGrx8drACqy"
      },
      "source": [
        "#DATA PREPARATION"
      ]
    },
    {
      "cell_type": "markdown",
      "metadata": {
        "id": "3a7vEMGkAGPJ"
      },
      "source": [
        "##Missing value"
      ]
    },
    {
      "cell_type": "markdown",
      "source": [
        "tahapan yang akan dilakukan pada adalah menghapus nilai null dan menghapus atribut/kolom yang tidak diperlukan"
      ],
      "metadata": {
        "id": "gQY1IG9FlyH5"
      }
    },
    {
      "cell_type": "code",
      "execution_count": null,
      "metadata": {
        "colab": {
          "base_uri": "https://localhost:8080/"
        },
        "id": "D8QxYEK6AJpZ",
        "outputId": "7eecea3c-db3d-4ef0-aed8-bcad897e4a05"
      },
      "outputs": [
        {
          "output_type": "execute_result",
          "data": {
            "text/plain": [
              "Airline            0\n",
              "Date_of_Journey    0\n",
              "Source             0\n",
              "Destination        0\n",
              "Route              1\n",
              "Dep_Time           0\n",
              "Arrival_Time       0\n",
              "Duration           0\n",
              "Total_Stops        1\n",
              "Additional_Info    0\n",
              "Price              0\n",
              "dtype: int64"
            ]
          },
          "metadata": {},
          "execution_count": 67
        }
      ],
      "source": [
        "df.isnull().sum()"
      ]
    },
    {
      "cell_type": "code",
      "execution_count": null,
      "metadata": {
        "id": "l4O1gXLwAPV9"
      },
      "outputs": [],
      "source": [
        "df.dropna(inplace=True)"
      ]
    },
    {
      "cell_type": "code",
      "execution_count": null,
      "metadata": {
        "colab": {
          "base_uri": "https://localhost:8080/"
        },
        "id": "o7DNJ68bAWsR",
        "outputId": "ad28aca5-df8b-4b2b-a7a9-26fc0931c3a4"
      },
      "outputs": [
        {
          "output_type": "execute_result",
          "data": {
            "text/plain": [
              "Airline            0\n",
              "Date_of_Journey    0\n",
              "Source             0\n",
              "Destination        0\n",
              "Route              0\n",
              "Dep_Time           0\n",
              "Arrival_Time       0\n",
              "Duration           0\n",
              "Total_Stops        0\n",
              "Additional_Info    0\n",
              "Price              0\n",
              "dtype: int64"
            ]
          },
          "metadata": {},
          "execution_count": 69
        }
      ],
      "source": [
        "df.isnull().sum()"
      ]
    },
    {
      "cell_type": "code",
      "source": [
        "df.info()"
      ],
      "metadata": {
        "colab": {
          "base_uri": "https://localhost:8080/"
        },
        "id": "gLotX6pYdd9l",
        "outputId": "601910d7-5bb7-4e9b-d12a-8c5e22ff2585"
      },
      "execution_count": null,
      "outputs": [
        {
          "output_type": "stream",
          "name": "stdout",
          "text": [
            "<class 'pandas.core.frame.DataFrame'>\n",
            "Int64Index: 10682 entries, 0 to 10682\n",
            "Data columns (total 11 columns):\n",
            " #   Column           Non-Null Count  Dtype \n",
            "---  ------           --------------  ----- \n",
            " 0   Airline          10682 non-null  object\n",
            " 1   Date_of_Journey  10682 non-null  object\n",
            " 2   Source           10682 non-null  object\n",
            " 3   Destination      10682 non-null  object\n",
            " 4   Route            10682 non-null  object\n",
            " 5   Dep_Time         10682 non-null  object\n",
            " 6   Arrival_Time     10682 non-null  object\n",
            " 7   Duration         10682 non-null  object\n",
            " 8   Total_Stops      10682 non-null  object\n",
            " 9   Additional_Info  10682 non-null  object\n",
            " 10  Price            10682 non-null  int64 \n",
            "dtypes: int64(1), object(10)\n",
            "memory usage: 1001.4+ KB\n"
          ]
        }
      ]
    },
    {
      "cell_type": "code",
      "source": [
        "plt.figure(dpi=300)\n",
        "plt.figure(figsize=(12,5))\n",
        "sns.countplot(x=\"Airline\", data=df,order = df['Airline'].value_counts().index,ec = \"black\")\n",
        "plt.title(\"Most preferred Airlines\")\n",
        "plt.ylabel(\"Count\")\n",
        "plt.xlabel(\"Airlines\")\n",
        "plt.xticks(rotation= 90)\n",
        "plt.xlim(-1,10.5)\n",
        "plt.show()"
      ],
      "metadata": {
        "colab": {
          "base_uri": "https://localhost:8080/",
          "height": 534
        },
        "id": "FhBBllC9GfJE",
        "outputId": "e73e85da-06af-417c-a88f-9cc2e521902c"
      },
      "execution_count": null,
      "outputs": [
        {
          "output_type": "display_data",
          "data": {
            "text/plain": [
              "<Figure size 1800x1200 with 0 Axes>"
            ]
          },
          "metadata": {}
        },
        {
          "output_type": "display_data",
          "data": {
            "text/plain": [
              "<Figure size 864x360 with 1 Axes>"
            ],
            "image/png": "[encoded data removed]"
          },
          "metadata": {
            "needs_background": "light"
          }
        }
      ]
    },
    {
      "cell_type": "markdown",
      "source": [
        "\n",
        "Dari hasil visualisasipada atribut “Airline” dapat dilihat bahwa jenis maskapai penerbangan  yang paling banyak adalah Jet airways disusul dengan IndiGo kemudian AirIndia sedangkan maskapai penerbangan Visitera premium economy adalah maskapai yang paling sedikit.\n"
      ],
      "metadata": {
        "id": "lVr1Bu3sljVV"
      }
    },
    {
      "cell_type": "code",
      "source": [
        "df['Additional_Info'].value_counts()"
      ],
      "metadata": {
        "colab": {
          "base_uri": "https://localhost:8080/"
        },
        "id": "05vjRacmULbh",
        "outputId": "989c09ee-e744-498a-c4d5-c5616b757e25"
      },
      "execution_count": null,
      "outputs": [
        {
          "output_type": "execute_result",
          "data": {
            "text/plain": [
              "No info                         8344\n",
              "In-flight meal not included     1982\n",
              "No check-in baggage included     320\n",
              "1 Long layover                    19\n",
              "Change airports                    7\n",
              "Business class                     4\n",
              "No Info                            3\n",
              "1 Short layover                    1\n",
              "Red-eye flight                     1\n",
              "2 Long layover                     1\n",
              "Name: Additional_Info, dtype: int64"
            ]
          },
          "metadata": {},
          "execution_count": 72
        }
      ]
    },
    {
      "cell_type": "code",
      "source": [
        "#drop dataset \"Route karena valuenya mirip dengan kolom Total Stops\" dan \"Additional info karena sebagian besar valuenya adalah no info\"\n",
        "df.drop(['Route', 'Additional_Info'], axis=1, inplace=True)"
      ],
      "metadata": {
        "id": "nb_U2b8PUKmJ"
      },
      "execution_count": null,
      "outputs": []
    },
    {
      "cell_type": "markdown",
      "metadata": {
        "id": "LqTHTytVAs9X"
      },
      "source": [
        "##Handling \"Date_of_Journey\""
      ]
    },
    {
      "cell_type": "markdown",
      "source": [
        "Untuk mempermudah dalam modelling maka kita akan memisahkan nya menjadi tiap kolom menjadi kolom hari “Journey_days” dan kolom bulan “Journey_month” sedangkan untuk tahun tidak perlu karena semua value pada dataset ini sama yaitu tahun 2019. "
      ],
      "metadata": {
        "id": "UuAGXNItmDf8"
      }
    },
    {
      "cell_type": "code",
      "execution_count": null,
      "metadata": {
        "colab": {
          "base_uri": "https://localhost:8080/",
          "height": 363
        },
        "id": "l1YwIYaJAY8z",
        "outputId": "c23b86d7-c133-450b-83e8-46df89f259fd"
      },
      "outputs": [
        {
          "output_type": "execute_result",
          "data": {
            "text/plain": [
              "             Airline Date_of_Journey    Source Destination Dep_Time  \\\n",
              "0             IndiGo      24/03/2019  Banglore   New Delhi    22:20   \n",
              "1          Air India       1/05/2019   Kolkata    Banglore    05:50   \n",
              "2        Jet Airways       9/06/2019     Delhi      Cochin    09:25   \n",
              "3             IndiGo      12/05/2019   Kolkata    Banglore    18:05   \n",
              "4             IndiGo      01/03/2019  Banglore   New Delhi    16:50   \n",
              "5           SpiceJet      24/06/2019   Kolkata    Banglore    09:00   \n",
              "6        Jet Airways      12/03/2019  Banglore   New Delhi    18:55   \n",
              "7        Jet Airways      01/03/2019  Banglore   New Delhi    08:00   \n",
              "8        Jet Airways      12/03/2019  Banglore   New Delhi    08:55   \n",
              "9  Multiple carriers      27/05/2019     Delhi      Cochin    11:25   \n",
              "\n",
              "   Arrival_Time Duration Total_Stops  Price  \n",
              "0  01:10 22 Mar   2h 50m    non-stop   3897  \n",
              "1         13:15   7h 25m     2 stops   7662  \n",
              "2  04:25 10 Jun      19h     2 stops  13882  \n",
              "3         23:30   5h 25m      1 stop   6218  \n",
              "4         21:35   4h 45m      1 stop  13302  \n",
              "5         11:25   2h 25m    non-stop   3873  \n",
              "6  10:25 13 Mar  15h 30m      1 stop  11087  \n",
              "7  05:05 02 Mar   21h 5m      1 stop  22270  \n",
              "8  10:25 13 Mar  25h 30m      1 stop  11087  \n",
              "9         19:15   7h 50m      1 stop   8625  "
            ],
            "text/html": [
              "\n",
              "  <div id=\"df-e8768296-7ee6-4f11-a0af-727a63a49918\">\n",
              "    <div class=\"colab-df-container\">\n",
              "      <div>\n",
              "<style scoped>\n",
              "    .dataframe tbody tr th:only-of-type {\n",
              "        vertical-align: middle;\n",
              "    }\n",
              "\n",
              "    .dataframe tbody tr th {\n",
              "        vertical-align: top;\n",
              "    }\n",
              "\n",
              "    .dataframe thead th {\n",
              "        text-align: right;\n",
              "    }\n",
              "</style>\n",
              "<table border=\"1\" class=\"dataframe\">\n",
              "  <thead>\n",
              "    <tr style=\"text-align: right;\">\n",
              "      <th></th>\n",
              "      <th>Airline</th>\n",
              "      <th>Date_of_Journey</th>\n",
              "      <th>Source</th>\n",
              "      <th>Destination</th>\n",
              "      <th>Dep_Time</th>\n",
              "      <th>Arrival_Time</th>\n",
              "      <th>Duration</th>\n",
              "      <th>Total_Stops</th>\n",
              "      <th>Price</th>\n",
              "    </tr>\n",
              "  </thead>\n",
              "  <tbody>\n",
              "    <tr>\n",
              "      <th>0</th>\n",
              "      <td>IndiGo</td>\n",
              "      <td>24/03/2019</td>\n",
              "      <td>Banglore</td>\n",
              "      <td>New Delhi</td>\n",
              "      <td>22:20</td>\n",
              "      <td>01:10 22 Mar</td>\n",
              "      <td>2h 50m</td>\n",
              "      <td>non-stop</td>\n",
              "      <td>3897</td>\n",
              "    </tr>\n",
              "    <tr>\n",
              "      <th>1</th>\n",
              "      <td>Air India</td>\n",
              "      <td>1/05/2019</td>\n",
              "      <td>Kolkata</td>\n",
              "      <td>Banglore</td>\n",
              "      <td>05:50</td>\n",
              "      <td>13:15</td>\n",
              "      <td>7h 25m</td>\n",
              "      <td>2 stops</td>\n",
              "      <td>7662</td>\n",
              "    </tr>\n",
              "    <tr>\n",
              "      <th>2</th>\n",
              "      <td>Jet Airways</td>\n",
              "      <td>9/06/2019</td>\n",
              "      <td>Delhi</td>\n",
              "      <td>Cochin</td>\n",
              "      <td>09:25</td>\n",
              "      <td>04:25 10 Jun</td>\n",
              "      <td>19h</td>\n",
              "      <td>2 stops</td>\n",
              "      <td>13882</td>\n",
              "    </tr>\n",
              "    <tr>\n",
              "      <th>3</th>\n",
              "      <td>IndiGo</td>\n",
              "      <td>12/05/2019</td>\n",
              "      <td>Kolkata</td>\n",
              "      <td>Banglore</td>\n",
              "      <td>18:05</td>\n",
              "      <td>23:30</td>\n",
              "      <td>5h 25m</td>\n",
              "      <td>1 stop</td>\n",
              "      <td>6218</td>\n",
              "    </tr>\n",
              "    <tr>\n",
              "      <th>4</th>\n",
              "      <td>IndiGo</td>\n",
              "      <td>01/03/2019</td>\n",
              "      <td>Banglore</td>\n",
              "      <td>New Delhi</td>\n",
              "      <td>16:50</td>\n",
              "      <td>21:35</td>\n",
              "      <td>4h 45m</td>\n",
              "      <td>1 stop</td>\n",
              "      <td>13302</td>\n",
              "    </tr>\n",
              "    <tr>\n",
              "      <th>5</th>\n",
              "      <td>SpiceJet</td>\n",
              "      <td>24/06/2019</td>\n",
              "      <td>Kolkata</td>\n",
              "      <td>Banglore</td>\n",
              "      <td>09:00</td>\n",
              "      <td>11:25</td>\n",
              "      <td>2h 25m</td>\n",
              "      <td>non-stop</td>\n",
              "      <td>3873</td>\n",
              "    </tr>\n",
              "    <tr>\n",
              "      <th>6</th>\n",
              "      <td>Jet Airways</td>\n",
              "      <td>12/03/2019</td>\n",
              "      <td>Banglore</td>\n",
              "      <td>New Delhi</td>\n",
              "      <td>18:55</td>\n",
              "      <td>10:25 13 Mar</td>\n",
              "      <td>15h 30m</td>\n",
              "      <td>1 stop</td>\n",
              "      <td>11087</td>\n",
              "    </tr>\n",
              "    <tr>\n",
              "      <th>7</th>\n",
              "      <td>Jet Airways</td>\n",
              "      <td>01/03/2019</td>\n",
              "      <td>Banglore</td>\n",
              "      <td>New Delhi</td>\n",
              "      <td>08:00</td>\n",
              "      <td>05:05 02 Mar</td>\n",
              "      <td>21h 5m</td>\n",
              "      <td>1 stop</td>\n",
              "      <td>22270</td>\n",
              "    </tr>\n",
              "    <tr>\n",
              "      <th>8</th>\n",
              "      <td>Jet Airways</td>\n",
              "      <td>12/03/2019</td>\n",
              "      <td>Banglore</td>\n",
              "      <td>New Delhi</td>\n",
              "      <td>08:55</td>\n",
              "      <td>10:25 13 Mar</td>\n",
              "      <td>25h 30m</td>\n",
              "      <td>1 stop</td>\n",
              "      <td>11087</td>\n",
              "    </tr>\n",
              "    <tr>\n",
              "      <th>9</th>\n",
              "      <td>Multiple carriers</td>\n",
              "      <td>27/05/2019</td>\n",
              "      <td>Delhi</td>\n",
              "      <td>Cochin</td>\n",
              "      <td>11:25</td>\n",
              "      <td>19:15</td>\n",
              "      <td>7h 50m</td>\n",
              "      <td>1 stop</td>\n",
              "      <td>8625</td>\n",
              "    </tr>\n",
              "  </tbody>\n",
              "</table>\n",
              "</div>\n",
              "      <button class=\"colab-df-convert\" onclick=\"convertToInteractive('df-e8768296-7ee6-4f11-a0af-727a63a49918')\"\n",
              "              title=\"Convert this dataframe to an interactive table.\"\n",
              "              style=\"display:none;\">\n",
              "        \n",
              "  <svg xmlns=\"http://www.w3.org/2000/svg\" height=\"24px\"viewBox=\"0 0 24 24\"\n",
              "       width=\"24px\">\n",
              "    <path d=\"M0 0h24v24H0V0z\" fill=\"none\"/>\n",
              "    <path d=\"M18.56 5.44l.94 2.06.94-2.06 2.06-.94-2.06-.94-.94-2.06-.94 2.06-2.06.94zm-11 1L8.5 8.5l.94-2.06 2.06-.94-2.06-.94L8.5 2.5l-.94 2.06-2.06.94zm10 10l.94 2.06.94-2.06 2.06-.94-2.06-.94-.94-2.06-.94 2.06-2.06.94z\"/><path d=\"M17.41 7.96l-1.37-1.37c-.4-.4-.92-.59-1.43-.59-.52 0-1.04.2-1.43.59L10.3 9.45l-7.72 7.72c-.78.78-.78 2.05 0 2.83L4 21.41c.39.39.9.59 1.41.59.51 0 1.02-.2 1.41-.59l7.78-7.78 2.81-2.81c.8-.78.8-2.07 0-2.86zM5.41 20L4 18.59l7.72-7.72 1.47 1.35L5.41 20z\"/>\n",
              "  </svg>\n",
              "      </button>\n",
              "      \n",
              "  <style>\n",
              "    .colab-df-container {\n",
              "      display:flex;\n",
              "      flex-wrap:wrap;\n",
              "      gap: 12px;\n",
              "    }\n",
              "\n",
              "    .colab-df-convert {\n",
              "      background-color: #E8F0FE;\n",
              "      border: none;\n",
              "      border-radius: 50%;\n",
              "      cursor: pointer;\n",
              "      display: none;\n",
              "      fill: #1967D2;\n",
              "      height: 32px;\n",
              "      padding: 0 0 0 0;\n",
              "      width: 32px;\n",
              "    }\n",
              "\n",
              "    .colab-df-convert:hover {\n",
              "      background-color: #E2EBFA;\n",
              "      box-shadow: 0px 1px 2px rgba(60, 64, 67, 0.3), 0px 1px 3px 1px rgba(60, 64, 67, 0.15);\n",
              "      fill: #174EA6;\n",
              "    }\n",
              "\n",
              "    [theme=dark] .colab-df-convert {\n",
              "      background-color: #3B4455;\n",
              "      fill: #D2E3FC;\n",
              "    }\n",
              "\n",
              "    [theme=dark] .colab-df-convert:hover {\n",
              "      background-color: #434B5C;\n",
              "      box-shadow: 0px 1px 3px 1px rgba(0, 0, 0, 0.15);\n",
              "      filter: drop-shadow(0px 1px 2px rgba(0, 0, 0, 0.3));\n",
              "      fill: #FFFFFF;\n",
              "    }\n",
              "  </style>\n",
              "\n",
              "      <script>\n",
              "        const buttonEl =\n",
              "          document.querySelector('#df-e8768296-7ee6-4f11-a0af-727a63a49918 button.colab-df-convert');\n",
              "        buttonEl.style.display =\n",
              "          google.colab.kernel.accessAllowed ? 'block' : 'none';\n",
              "\n",
              "        async function convertToInteractive(key) {\n",
              "          const element = document.querySelector('#df-e8768296-7ee6-4f11-a0af-727a63a49918');\n",
              "          const dataTable =\n",
              "            await google.colab.kernel.invokeFunction('convertToInteractive',\n",
              "                                                     [key], {});\n",
              "          if (!dataTable) return;\n",
              "\n",
              "          const docLinkHtml = 'Like what you see? Visit the ' +\n",
              "            '<a target=\"_blank\" href=https://colab.research.google.com/notebooks/data_table.ipynb>data table notebook</a>'\n",
              "            + ' to learn more about interactive tables.';\n",
              "          element.innerHTML = '';\n",
              "          dataTable['output_type'] = 'display_data';\n",
              "          await google.colab.output.renderOutput(dataTable, element);\n",
              "          const docLink = document.createElement('div');\n",
              "          docLink.innerHTML = docLinkHtml;\n",
              "          element.appendChild(docLink);\n",
              "        }\n",
              "      </script>\n",
              "    </div>\n",
              "  </div>\n",
              "  "
            ]
          },
          "metadata": {},
          "execution_count": 74
        }
      ],
      "source": [
        "df.head(10)"
      ]
    },
    {
      "cell_type": "code",
      "execution_count": null,
      "metadata": {
        "id": "lfnTNn4iBBNQ"
      },
      "outputs": [],
      "source": [
        "df['Journey_days']= pd.to_datetime(df['Date_of_Journey'], format='%d/%m/%Y').dt.day"
      ]
    },
    {
      "cell_type": "code",
      "execution_count": null,
      "metadata": {
        "colab": {
          "base_uri": "https://localhost:8080/",
          "height": 206
        },
        "id": "2MRMtwr4B_06",
        "outputId": "56d51730-5dcf-4c28-9e72-0a7f11099d5a"
      },
      "outputs": [
        {
          "output_type": "execute_result",
          "data": {
            "text/plain": [
              "       Airline Date_of_Journey    Source Destination Dep_Time  Arrival_Time  \\\n",
              "0       IndiGo      24/03/2019  Banglore   New Delhi    22:20  01:10 22 Mar   \n",
              "1    Air India       1/05/2019   Kolkata    Banglore    05:50         13:15   \n",
              "2  Jet Airways       9/06/2019     Delhi      Cochin    09:25  04:25 10 Jun   \n",
              "3       IndiGo      12/05/2019   Kolkata    Banglore    18:05         23:30   \n",
              "4       IndiGo      01/03/2019  Banglore   New Delhi    16:50         21:35   \n",
              "\n",
              "  Duration Total_Stops  Price  Journey_days  Journey_month  \n",
              "0   2h 50m    non-stop   3897            24              3  \n",
              "1   7h 25m     2 stops   7662             1              5  \n",
              "2      19h     2 stops  13882             9              6  \n",
              "3   5h 25m      1 stop   6218            12              5  \n",
              "4   4h 45m      1 stop  13302             1              3  "
            ],
            "text/html": [
              "\n",
              "  <div id=\"df-a3450dda-6214-4814-bbb9-ad05f64e1554\">\n",
              "    <div class=\"colab-df-container\">\n",
              "      <div>\n",
              "<style scoped>\n",
              "    .dataframe tbody tr th:only-of-type {\n",
              "        vertical-align: middle;\n",
              "    }\n",
              "\n",
              "    .dataframe tbody tr th {\n",
              "        vertical-align: top;\n",
              "    }\n",
              "\n",
              "    .dataframe thead th {\n",
              "        text-align: right;\n",
              "    }\n",
              "</style>\n",
              "<table border=\"1\" class=\"dataframe\">\n",
              "  <thead>\n",
              "    <tr style=\"text-align: right;\">\n",
              "      <th></th>\n",
              "      <th>Airline</th>\n",
              "      <th>Date_of_Journey</th>\n",
              "      <th>Source</th>\n",
              "      <th>Destination</th>\n",
              "      <th>Dep_Time</th>\n",
              "      <th>Arrival_Time</th>\n",
              "      <th>Duration</th>\n",
              "      <th>Total_Stops</th>\n",
              "      <th>Price</th>\n",
              "      <th>Journey_days</th>\n",
              "      <th>Journey_month</th>\n",
              "    </tr>\n",
              "  </thead>\n",
              "  <tbody>\n",
              "    <tr>\n",
              "      <th>0</th>\n",
              "      <td>IndiGo</td>\n",
              "      <td>24/03/2019</td>\n",
              "      <td>Banglore</td>\n",
              "      <td>New Delhi</td>\n",
              "      <td>22:20</td>\n",
              "      <td>01:10 22 Mar</td>\n",
              "      <td>2h 50m</td>\n",
              "      <td>non-stop</td>\n",
              "      <td>3897</td>\n",
              "      <td>24</td>\n",
              "      <td>3</td>\n",
              "    </tr>\n",
              "    <tr>\n",
              "      <th>1</th>\n",
              "      <td>Air India</td>\n",
              "      <td>1/05/2019</td>\n",
              "      <td>Kolkata</td>\n",
              "      <td>Banglore</td>\n",
              "      <td>05:50</td>\n",
              "      <td>13:15</td>\n",
              "      <td>7h 25m</td>\n",
              "      <td>2 stops</td>\n",
              "      <td>7662</td>\n",
              "      <td>1</td>\n",
              "      <td>5</td>\n",
              "    </tr>\n",
              "    <tr>\n",
              "      <th>2</th>\n",
              "      <td>Jet Airways</td>\n",
              "      <td>9/06/2019</td>\n",
              "      <td>Delhi</td>\n",
              "      <td>Cochin</td>\n",
              "      <td>09:25</td>\n",
              "      <td>04:25 10 Jun</td>\n",
              "      <td>19h</td>\n",
              "      <td>2 stops</td>\n",
              "      <td>13882</td>\n",
              "      <td>9</td>\n",
              "      <td>6</td>\n",
              "    </tr>\n",
              "    <tr>\n",
              "      <th>3</th>\n",
              "      <td>IndiGo</td>\n",
              "      <td>12/05/2019</td>\n",
              "      <td>Kolkata</td>\n",
              "      <td>Banglore</td>\n",
              "      <td>18:05</td>\n",
              "      <td>23:30</td>\n",
              "      <td>5h 25m</td>\n",
              "      <td>1 stop</td>\n",
              "      <td>6218</td>\n",
              "      <td>12</td>\n",
              "      <td>5</td>\n",
              "    </tr>\n",
              "    <tr>\n",
              "      <th>4</th>\n",
              "      <td>IndiGo</td>\n",
              "      <td>01/03/2019</td>\n",
              "      <td>Banglore</td>\n",
              "      <td>New Delhi</td>\n",
              "      <td>16:50</td>\n",
              "      <td>21:35</td>\n",
              "      <td>4h 45m</td>\n",
              "      <td>1 stop</td>\n",
              "      <td>13302</td>\n",
              "      <td>1</td>\n",
              "      <td>3</td>\n",
              "    </tr>\n",
              "  </tbody>\n",
              "</table>\n",
              "</div>\n",
              "      <button class=\"colab-df-convert\" onclick=\"convertToInteractive('df-a3450dda-6214-4814-bbb9-ad05f64e1554')\"\n",
              "              title=\"Convert this dataframe to an interactive table.\"\n",
              "              style=\"display:none;\">\n",
              "        \n",
              "  <svg xmlns=\"http://www.w3.org/2000/svg\" height=\"24px\"viewBox=\"0 0 24 24\"\n",
              "       width=\"24px\">\n",
              "    <path d=\"M0 0h24v24H0V0z\" fill=\"none\"/>\n",
              "    <path d=\"M18.56 5.44l.94 2.06.94-2.06 2.06-.94-2.06-.94-.94-2.06-.94 2.06-2.06.94zm-11 1L8.5 8.5l.94-2.06 2.06-.94-2.06-.94L8.5 2.5l-.94 2.06-2.06.94zm10 10l.94 2.06.94-2.06 2.06-.94-2.06-.94-.94-2.06-.94 2.06-2.06.94z\"/><path d=\"M17.41 7.96l-1.37-1.37c-.4-.4-.92-.59-1.43-.59-.52 0-1.04.2-1.43.59L10.3 9.45l-7.72 7.72c-.78.78-.78 2.05 0 2.83L4 21.41c.39.39.9.59 1.41.59.51 0 1.02-.2 1.41-.59l7.78-7.78 2.81-2.81c.8-.78.8-2.07 0-2.86zM5.41 20L4 18.59l7.72-7.72 1.47 1.35L5.41 20z\"/>\n",
              "  </svg>\n",
              "      </button>\n",
              "      \n",
              "  <style>\n",
              "    .colab-df-container {\n",
              "      display:flex;\n",
              "      flex-wrap:wrap;\n",
              "      gap: 12px;\n",
              "    }\n",
              "\n",
              "    .colab-df-convert {\n",
              "      background-color: #E8F0FE;\n",
              "      border: none;\n",
              "      border-radius: 50%;\n",
              "      cursor: pointer;\n",
              "      display: none;\n",
              "      fill: #1967D2;\n",
              "      height: 32px;\n",
              "      padding: 0 0 0 0;\n",
              "      width: 32px;\n",
              "    }\n",
              "\n",
              "    .colab-df-convert:hover {\n",
              "      background-color: #E2EBFA;\n",
              "      box-shadow: 0px 1px 2px rgba(60, 64, 67, 0.3), 0px 1px 3px 1px rgba(60, 64, 67, 0.15);\n",
              "      fill: #174EA6;\n",
              "    }\n",
              "\n",
              "    [theme=dark] .colab-df-convert {\n",
              "      background-color: #3B4455;\n",
              "      fill: #D2E3FC;\n",
              "    }\n",
              "\n",
              "    [theme=dark] .colab-df-convert:hover {\n",
              "      background-color: #434B5C;\n",
              "      box-shadow: 0px 1px 3px 1px rgba(0, 0, 0, 0.15);\n",
              "      filter: drop-shadow(0px 1px 2px rgba(0, 0, 0, 0.3));\n",
              "      fill: #FFFFFF;\n",
              "    }\n",
              "  </style>\n",
              "\n",
              "      <script>\n",
              "        const buttonEl =\n",
              "          document.querySelector('#df-a3450dda-6214-4814-bbb9-ad05f64e1554 button.colab-df-convert');\n",
              "        buttonEl.style.display =\n",
              "          google.colab.kernel.accessAllowed ? 'block' : 'none';\n",
              "\n",
              "        async function convertToInteractive(key) {\n",
              "          const element = document.querySelector('#df-a3450dda-6214-4814-bbb9-ad05f64e1554');\n",
              "          const dataTable =\n",
              "            await google.colab.kernel.invokeFunction('convertToInteractive',\n",
              "                                                     [key], {});\n",
              "          if (!dataTable) return;\n",
              "\n",
              "          const docLinkHtml = 'Like what you see? Visit the ' +\n",
              "            '<a target=\"_blank\" href=https://colab.research.google.com/notebooks/data_table.ipynb>data table notebook</a>'\n",
              "            + ' to learn more about interactive tables.';\n",
              "          element.innerHTML = '';\n",
              "          dataTable['output_type'] = 'display_data';\n",
              "          await google.colab.output.renderOutput(dataTable, element);\n",
              "          const docLink = document.createElement('div');\n",
              "          docLink.innerHTML = docLinkHtml;\n",
              "          element.appendChild(docLink);\n",
              "        }\n",
              "      </script>\n",
              "    </div>\n",
              "  </div>\n",
              "  "
            ]
          },
          "metadata": {},
          "execution_count": 76
        }
      ],
      "source": [
        "df['Journey_month']=pd.to_datetime(df['Date_of_Journey'], format='%d/%m/%Y').dt.month\n",
        "df.head()"
      ]
    },
    {
      "cell_type": "code",
      "execution_count": null,
      "metadata": {
        "id": "apCAS8UUCsVm"
      },
      "outputs": [],
      "source": [
        "df.drop('Date_of_Journey', axis=1, inplace=True)"
      ]
    },
    {
      "cell_type": "markdown",
      "source": [
        "##Handling \"Dep_Time\""
      ],
      "metadata": {
        "id": "LEf2XtrgRSMd"
      }
    },
    {
      "cell_type": "markdown",
      "source": [
        "Kita akan memisahkan value nya menjadi kolom menit “Dep_minute” dan kolom jam “Dep_Time”. "
      ],
      "metadata": {
        "id": "AOyikYBEmL_Y"
      }
    },
    {
      "cell_type": "code",
      "execution_count": null,
      "metadata": {
        "id": "RrPeLoRCGaBO"
      },
      "outputs": [],
      "source": [
        "#membuat kolom baru dari dep_time menjadi dengan mengekstrak jam(hour) dan menit (minute) \n",
        "df['Dep_hour']= pd.to_datetime(df['Dep_Time']).dt.hour\n",
        "df['Dep_minute']= pd.to_datetime(df['Dep_Time']).dt.minute\n",
        "df.drop('Dep_Time', axis=1 , inplace=True)\n"
      ]
    },
    {
      "cell_type": "markdown",
      "source": [
        "##Handling \"Arrival_Time\""
      ],
      "metadata": {
        "id": "y9DzZzS9AupU"
      }
    },
    {
      "cell_type": "markdown",
      "source": [
        "Atribut ini tentang waktu keberangkatan juga dapat dipisahkan menjadi waktu keberangkatan dalam menit “Arrival_Minute” dan keberangkatan dalam jam “Arrival_hour”."
      ],
      "metadata": {
        "id": "6Kcy1aMMmTm4"
      }
    },
    {
      "cell_type": "code",
      "execution_count": null,
      "metadata": {
        "id": "AeORfNlWIe8q"
      },
      "outputs": [],
      "source": [
        "#membuat kolom baru dari Arrival_time menjadi dengan mengekstrak jam(hour) dan menit (minute)\n",
        "df['Arrival_hour']= pd.to_datetime(df['Arrival_Time']).dt.hour\n",
        "df['Arrival_minute']= pd.to_datetime(df['Arrival_Time']).dt.minute\n",
        "df.drop('Arrival_Time', axis=1 , inplace=True)"
      ]
    },
    {
      "cell_type": "code",
      "execution_count": null,
      "metadata": {
        "colab": {
          "base_uri": "https://localhost:8080/",
          "height": 206
        },
        "id": "gotZb_tZJata",
        "outputId": "d4efe60f-f58c-4057-8a4c-352a69cbf430"
      },
      "outputs": [
        {
          "output_type": "execute_result",
          "data": {
            "text/plain": [
              "       Airline    Source Destination Duration Total_Stops  Price  \\\n",
              "0       IndiGo  Banglore   New Delhi   2h 50m    non-stop   3897   \n",
              "1    Air India   Kolkata    Banglore   7h 25m     2 stops   7662   \n",
              "2  Jet Airways     Delhi      Cochin      19h     2 stops  13882   \n",
              "3       IndiGo   Kolkata    Banglore   5h 25m      1 stop   6218   \n",
              "4       IndiGo  Banglore   New Delhi   4h 45m      1 stop  13302   \n",
              "\n",
              "   Journey_days  Journey_month  Dep_hour  Dep_minute  Arrival_hour  \\\n",
              "0            24              3        22          20             1   \n",
              "1             1              5         5          50            13   \n",
              "2             9              6         9          25             4   \n",
              "3            12              5        18           5            23   \n",
              "4             1              3        16          50            21   \n",
              "\n",
              "   Arrival_minute  \n",
              "0              10  \n",
              "1              15  \n",
              "2              25  \n",
              "3              30  \n",
              "4              35  "
            ],
            "text/html": [
              "\n",
              "  <div id=\"df-ff78cae9-4cb5-4628-897b-bd720edf9fab\">\n",
              "    <div class=\"colab-df-container\">\n",
              "      <div>\n",
              "<style scoped>\n",
              "    .dataframe tbody tr th:only-of-type {\n",
              "        vertical-align: middle;\n",
              "    }\n",
              "\n",
              "    .dataframe tbody tr th {\n",
              "        vertical-align: top;\n",
              "    }\n",
              "\n",
              "    .dataframe thead th {\n",
              "        text-align: right;\n",
              "    }\n",
              "</style>\n",
              "<table border=\"1\" class=\"dataframe\">\n",
              "  <thead>\n",
              "    <tr style=\"text-align: right;\">\n",
              "      <th></th>\n",
              "      <th>Airline</th>\n",
              "      <th>Source</th>\n",
              "      <th>Destination</th>\n",
              "      <th>Duration</th>\n",
              "      <th>Total_Stops</th>\n",
              "      <th>Price</th>\n",
              "      <th>Journey_days</th>\n",
              "      <th>Journey_month</th>\n",
              "      <th>Dep_hour</th>\n",
              "      <th>Dep_minute</th>\n",
              "      <th>Arrival_hour</th>\n",
              "      <th>Arrival_minute</th>\n",
              "    </tr>\n",
              "  </thead>\n",
              "  <tbody>\n",
              "    <tr>\n",
              "      <th>0</th>\n",
              "      <td>IndiGo</td>\n",
              "      <td>Banglore</td>\n",
              "      <td>New Delhi</td>\n",
              "      <td>2h 50m</td>\n",
              "      <td>non-stop</td>\n",
              "      <td>3897</td>\n",
              "      <td>24</td>\n",
              "      <td>3</td>\n",
              "      <td>22</td>\n",
              "      <td>20</td>\n",
              "      <td>1</td>\n",
              "      <td>10</td>\n",
              "    </tr>\n",
              "    <tr>\n",
              "      <th>1</th>\n",
              "      <td>Air India</td>\n",
              "      <td>Kolkata</td>\n",
              "      <td>Banglore</td>\n",
              "      <td>7h 25m</td>\n",
              "      <td>2 stops</td>\n",
              "      <td>7662</td>\n",
              "      <td>1</td>\n",
              "      <td>5</td>\n",
              "      <td>5</td>\n",
              "      <td>50</td>\n",
              "      <td>13</td>\n",
              "      <td>15</td>\n",
              "    </tr>\n",
              "    <tr>\n",
              "      <th>2</th>\n",
              "      <td>Jet Airways</td>\n",
              "      <td>Delhi</td>\n",
              "      <td>Cochin</td>\n",
              "      <td>19h</td>\n",
              "      <td>2 stops</td>\n",
              "      <td>13882</td>\n",
              "      <td>9</td>\n",
              "      <td>6</td>\n",
              "      <td>9</td>\n",
              "      <td>25</td>\n",
              "      <td>4</td>\n",
              "      <td>25</td>\n",
              "    </tr>\n",
              "    <tr>\n",
              "      <th>3</th>\n",
              "      <td>IndiGo</td>\n",
              "      <td>Kolkata</td>\n",
              "      <td>Banglore</td>\n",
              "      <td>5h 25m</td>\n",
              "      <td>1 stop</td>\n",
              "      <td>6218</td>\n",
              "      <td>12</td>\n",
              "      <td>5</td>\n",
              "      <td>18</td>\n",
              "      <td>5</td>\n",
              "      <td>23</td>\n",
              "      <td>30</td>\n",
              "    </tr>\n",
              "    <tr>\n",
              "      <th>4</th>\n",
              "      <td>IndiGo</td>\n",
              "      <td>Banglore</td>\n",
              "      <td>New Delhi</td>\n",
              "      <td>4h 45m</td>\n",
              "      <td>1 stop</td>\n",
              "      <td>13302</td>\n",
              "      <td>1</td>\n",
              "      <td>3</td>\n",
              "      <td>16</td>\n",
              "      <td>50</td>\n",
              "      <td>21</td>\n",
              "      <td>35</td>\n",
              "    </tr>\n",
              "  </tbody>\n",
              "</table>\n",
              "</div>\n",
              "      <button class=\"colab-df-convert\" onclick=\"convertToInteractive('df-ff78cae9-4cb5-4628-897b-bd720edf9fab')\"\n",
              "              title=\"Convert this dataframe to an interactive table.\"\n",
              "              style=\"display:none;\">\n",
              "        \n",
              "  <svg xmlns=\"http://www.w3.org/2000/svg\" height=\"24px\"viewBox=\"0 0 24 24\"\n",
              "       width=\"24px\">\n",
              "    <path d=\"M0 0h24v24H0V0z\" fill=\"none\"/>\n",
              "    <path d=\"M18.56 5.44l.94 2.06.94-2.06 2.06-.94-2.06-.94-.94-2.06-.94 2.06-2.06.94zm-11 1L8.5 8.5l.94-2.06 2.06-.94-2.06-.94L8.5 2.5l-.94 2.06-2.06.94zm10 10l.94 2.06.94-2.06 2.06-.94-2.06-.94-.94-2.06-.94 2.06-2.06.94z\"/><path d=\"M17.41 7.96l-1.37-1.37c-.4-.4-.92-.59-1.43-.59-.52 0-1.04.2-1.43.59L10.3 9.45l-7.72 7.72c-.78.78-.78 2.05 0 2.83L4 21.41c.39.39.9.59 1.41.59.51 0 1.02-.2 1.41-.59l7.78-7.78 2.81-2.81c.8-.78.8-2.07 0-2.86zM5.41 20L4 18.59l7.72-7.72 1.47 1.35L5.41 20z\"/>\n",
              "  </svg>\n",
              "      </button>\n",
              "      \n",
              "  <style>\n",
              "    .colab-df-container {\n",
              "      display:flex;\n",
              "      flex-wrap:wrap;\n",
              "      gap: 12px;\n",
              "    }\n",
              "\n",
              "    .colab-df-convert {\n",
              "      background-color: #E8F0FE;\n",
              "      border: none;\n",
              "      border-radius: 50%;\n",
              "      cursor: pointer;\n",
              "      display: none;\n",
              "      fill: #1967D2;\n",
              "      height: 32px;\n",
              "      padding: 0 0 0 0;\n",
              "      width: 32px;\n",
              "    }\n",
              "\n",
              "    .colab-df-convert:hover {\n",
              "      background-color: #E2EBFA;\n",
              "      box-shadow: 0px 1px 2px rgba(60, 64, 67, 0.3), 0px 1px 3px 1px rgba(60, 64, 67, 0.15);\n",
              "      fill: #174EA6;\n",
              "    }\n",
              "\n",
              "    [theme=dark] .colab-df-convert {\n",
              "      background-color: #3B4455;\n",
              "      fill: #D2E3FC;\n",
              "    }\n",
              "\n",
              "    [theme=dark] .colab-df-convert:hover {\n",
              "      background-color: #434B5C;\n",
              "      box-shadow: 0px 1px 3px 1px rgba(0, 0, 0, 0.15);\n",
              "      filter: drop-shadow(0px 1px 2px rgba(0, 0, 0, 0.3));\n",
              "      fill: #FFFFFF;\n",
              "    }\n",
              "  </style>\n",
              "\n",
              "      <script>\n",
              "        const buttonEl =\n",
              "          document.querySelector('#df-ff78cae9-4cb5-4628-897b-bd720edf9fab button.colab-df-convert');\n",
              "        buttonEl.style.display =\n",
              "          google.colab.kernel.accessAllowed ? 'block' : 'none';\n",
              "\n",
              "        async function convertToInteractive(key) {\n",
              "          const element = document.querySelector('#df-ff78cae9-4cb5-4628-897b-bd720edf9fab');\n",
              "          const dataTable =\n",
              "            await google.colab.kernel.invokeFunction('convertToInteractive',\n",
              "                                                     [key], {});\n",
              "          if (!dataTable) return;\n",
              "\n",
              "          const docLinkHtml = 'Like what you see? Visit the ' +\n",
              "            '<a target=\"_blank\" href=https://colab.research.google.com/notebooks/data_table.ipynb>data table notebook</a>'\n",
              "            + ' to learn more about interactive tables.';\n",
              "          element.innerHTML = '';\n",
              "          dataTable['output_type'] = 'display_data';\n",
              "          await google.colab.output.renderOutput(dataTable, element);\n",
              "          const docLink = document.createElement('div');\n",
              "          docLink.innerHTML = docLinkHtml;\n",
              "          element.appendChild(docLink);\n",
              "        }\n",
              "      </script>\n",
              "    </div>\n",
              "  </div>\n",
              "  "
            ]
          },
          "metadata": {},
          "execution_count": 80
        }
      ],
      "source": [
        "df.head()"
      ]
    },
    {
      "cell_type": "markdown",
      "source": [
        "## Handling \"Duration\""
      ],
      "metadata": {
        "id": "geYSyVdbRZf1"
      }
    },
    {
      "cell_type": "markdown",
      "source": [
        "Sama seperti proses sebelumnya pada kolom ini kita juga akan memisahkan nya menjadi durasi dalam menit “Duration_mins” dan Durasi dalam jam “Duration_hour”. "
      ],
      "metadata": {
        "id": "yKwBr2OLmXNO"
      }
    },
    {
      "cell_type": "code",
      "execution_count": null,
      "metadata": {
        "id": "tRKlqrVnJgyl"
      },
      "outputs": [],
      "source": [
        "duration = list(df[\"Duration\"])"
      ]
    },
    {
      "cell_type": "code",
      "execution_count": null,
      "metadata": {
        "colab": {
          "base_uri": "https://localhost:8080/"
        },
        "id": "hwew6vdjKXG2",
        "outputId": "852ce43b-aa11-4632-c1fa-2054e3bedeaa"
      },
      "outputs": [
        {
          "output_type": "stream",
          "name": "stdout",
          "text": [
            "['2h 50m', '7h 25m', '19h', '5h 25m', '4h 45m', '2h 25m', '15h 30m', '21h 5m', '25h 30m', '7h 50m', '13h 15m', '2h 35m', '2h 15m', '12h 10m', '2h 35m', '26h 35m', '4h 30m', '22h 35m', '23h', '20h 35m', '5h 10m', '15h 20m', '2h 50m', '2h 55m', '13h 20m', '15h 10m', '5h 45m', '5h 55m', '2h 50m', '2h 15m', '2h 15m', '13h 25m', '2h 50m', '22h', '5h 30m', '10h 25m', '5h 15m', '2h 30m', '6h 15m', '11h 55m', '11h 5m', '8h 30m', '22h 5m', '2h 45m', '12h', '2h 50m', '2h 50m', '2h 15m', '16h 5m', '19h 55m', '3h 15m', '25h 20m', '2h 50m', '3h', '2h 50m', '16h 15m', '15h 5m', '2h 15m', '6h 30m', '25h 5m', '12h 25m', '27h 20m', '10h 15m', '10h 30m', '2h 15m', '10h 25m', '2h 50m', '1h 30m', '13h 20m', '2h 15m', '1h 25m', '26h 30m', '7h 20m', '13h 30m', '5h', '2h 45m', '2h 50m', '1h 30m', '19h 5m', '2h 15m', '14h 50m', '2h 40m', '22h 10m', '9h 35m', '10h', '21h 20m', '5h 25m', '18h 45m', '12h 20m', '18h', '9h 15m', '11h 5m', '17h 30m', '13h 20m', '2h 35m', '2h 25m', '2h 40m', '3h', '1h 25m', '16h 35m', '12h 20m', '12h 15m', '7h 30m', '24h', '2h 45m', '8h 55m', '7h 10m', '14h 30m', '30h 20m', '19h 55m', '15h', '2h 55m', '12h 45m', '10h 10m', '5h 55m', '15h 25m', '16h 5m', '10h 10m', '2h 40m', '11h 55m', '2h 40m', '1h 25m', '14h 5m', '20h 15m', '2h 25m', '23h 10m', '18h 10m', '16h', '2h 50m', '2h 20m', '8h', '16h 55m', '3h 10m', '2h 45m', '14h', '23h 50m', '21h 40m', '21h 15m', '2h 45m', '10h 50m', '8h', '8h 15m', '5h 25m', '8h 35m', '11h 50m', '27h 35m', '8h 25m', '20h 55m', '4h 50m', '8h 10m', '2h 20m', '24h 25m', '2h 50m', '12h 20m', '12h 15m', '23h 35m', '16h 35m', '2h 50m', '25h 45m', '26h 10m', '28h 50m', '2h 45m', '25h 15m', '9h 20m', '4h 30m', '15h 25m', '1h 30m', '2h 40m', '9h 10m', '2h 45m', '22h 35m', '3h 5m', '11h 30m', '9h 30m', '12h 10m', '17h 35m', '5h 5m', '25h 50m', '20h', '13h', '18h 25m', '1h 30m', '9h 30m', '16h', '2h 20m', '4h 30m', '5h 45m', '24h 10m', '2h 35m', '2h 45m', '4h 55m', '25h 35m', '6h 20m', '3h 5m', '18h 40m', '2h 15m', '12h 10m', '19h 25m', '2h 50m', '8h 25m', '9h 15m', '2h 50m', '3h 15m', '2h 50m', '12h 20m', '2h 55m', '9h 35m', '2h 35m', '9h 30m', '29h 20m', '2h 55m', '5h 15m', '9h 5m', '10h 45m', '4h 55m', '1h 30m', '11h 40m', '2h 45m', '2h 55m', '10h', '2h 45m', '10h 15m', '1h 25m', '9h 15m', '22h 55m', '28h 50m', '37h 25m', '2h 50m', '1h 30m', '1h 30m', '25h 40m', '2h 35m', '6h 15m', '17h 30m', '5h 45m', '2h 35m', '25h 30m', '13h 55m', '2h 55m', '10h 15m', '8h 40m', '5h 30m', '12h', '2h 15m', '2h 15m', '2h 50m', '9h 10m', '10h 25m', '2h 20m', '4h 30m', '3h 10m', '23h 30m', '27h 20m', '12h 35m', '24h 15m', '1h 20m', '2h 45m', '3h', '11h', '13h 30m', '2h 50m', '2h 55m', '2h 45m', '11h 15m', '14h 35m', '13h 55m', '14h 5m', '15h 5m', '2h 15m', '15h', '12h 55m', '9h', '12h 15m', '7h 40m', '27h 20m', '1h 25m', '1h 20m', '5h 30m', '11h 45m', '3h 15m', '24h 55m', '27h 20m', '2h 55m', '17h 5m', '2h 40m', '8h', '3h', '27h 35m', '7h 30m', '22h 55m', '8h 35m', '29h 55m', '22h 15m', '1h 20m', '2h 40m', '3h', '12h 10m', '2h 35m', '11h 45m', '2h 35m', '1h 30m', '2h 40m', '2h 35m', '22h 55m', '14h 40m', '15h 25m', '7h 15m', '20h 10m', '20h 45m', '2h 30m', '23h 50m', '27h', '5h 30m', '11h 50m', '2h 15m', '24h 30m', '2h 20m', '6h 30m', '20h 25m', '2h 35m', '2h 55m', '5h 35m', '2h 30m', '14h 45m', '12h 20m', '25h 30m', '5h 35m', '11h 45m', '2h 55m', '5h 40m', '4h 5m', '8h', '2h 45m', '2h 40m', '2h 55m', '15h 55m', '23h 10m', '7h 20m', '2h 50m', '7h 30m', '3h', '7h 45m', '25h 20m', '10h 25m', '30h 20m', '2h 35m', '9h', '15h 10m', '28h 20m', '3h', '2h 45m', '4h 55m', '2h 40m', '22h 10m', '10h 10m', '2h 50m', '4h 20m', '11h', '3h', '22h 35m', '3h 5m', '2h 40m', '2h 50m', '21h 5m', '11h 50m', '25h 35m', '15h 25m', '2h 25m', '3h 40m', '2h 55m', '3h 10m', '11h 50m', '2h 50m', '2h 50m', '1h 30m', '11h 30m', '8h 50m', '20h 15m', '20h 10m', '16h 5m', '12h 35m', '17h 5m', '3h', '15h 30m', '11h 30m', '2h 20m', '23h 45m', '1h 30m', '2h 35m', '24h 45m', '21h 35m', '5h 30m', '12h 15m', '8h 5m', '5h', '2h 50m', '6h 25m', '2h 20m', '2h 45m', '12h 45m', '15h 50m', '27h', '26h 25m', '2h 55m', '24h 50m', '8h 40m', '25h 45m', '2h 50m', '6h 15m', '10h 30m', '26h', '17h 5m', '21h 20m', '5h 35m', '2h 50m', '25h 50m', '12h 10m', '17h 5m', '8h 30m', '23h 5m', '9h 20m', '7h 55m', '1h 30m', '2h 50m', '2h 15m', '10h', '2h 35m', '7h 45m', '2h 55m', '26h 20m', '2h 40m', '11h', '19h 25m', '2h 55m', '2h 45m', '23h 15m', '9h', '3h 10m', '6h 25m', '8h 40m', '2h 50m', '12h 20m', '5h 20m', '4h', '9h 45m', '2h 55m', '26h 20m', '2h 15m', '9h 45m', '24h 55m', '11h 55m', '8h 20m', '17h 25m', '2h 50m', '7h 5m', '21h 15m', '5h', '2h 25m', '5h 15m', '15h 10m', '11h 45m', '3h', '4h 55m', '2h 45m', '2h 30m', '9h 45m', '2h 40m', '6h 30m', '5h 30m', '2h 40m', '34h 5m', '15h 25m', '9h 30m', '6h 5m', '2h 40m', '5h 50m', '2h 45m', '27h 20m', '3h', '5h 15m', '16h', '7h', '8h 40m', '9h', '2h 20m', '2h 20m', '6h 20m', '4h 25m', '2h 20m', '11h 5m', '16h 55m', '13h 45m', '25h 45m', '13h 55m', '5h 15m', '19h 15m', '7h 30m', '9h', '24h', '18h 10m', '2h 55m', '1h 30m', '21h 20m', '6h 15m', '14h 30m', '1h 20m', '12h 55m', '2h 25m', '22h 30m', '22h 55m', '5h 25m', '1h 25m', '7h 15m', '12h 20m', '20h 10m', '21h 15m', '2h 15m', '10h 30m', '14h 5m', '2h 50m', '16h 25m', '5h 15m', '13h 50m', '2h 15m', '7h 15m', '27h 5m', '27h 35m', '5h', '2h 50m', '2h 50m', '15h 20m', '5h 20m', '10h 10m', '27h 35m', '9h 35m', '28h 10m', '14h', '2h 35m', '2h 55m', '2h 35m', '4h 40m', '2h 30m', '11h 15m', '7h 55m', '8h 50m', '1h 25m', '15h 40m', '2h 35m', '2h 55m', '13h 25m', '4h 35m', '18h 30m', '2h 15m', '38h 15m', '3h 5m', '25h 50m', '3h 10m', '2h 50m', '11h 30m', '6h 35m', '27h 35m', '2h 35m', '7h 30m', '3h 15m', '9h 35m', '12h 30m', '11h 20m', '3h', '2h 35m', '1h 30m', '26h 10m', '4h 55m', '2h 45m', '8h 40m', '7h 5m', '2h 45m', '24h 50m', '2h 20m', '11h', '9h', '2h 55m', '3h 5m', '2h 35m', '13h', '1h 25m', '7h 35m', '2h 40m', '12h 55m', '29h 20m', '5h', '8h 40m', '3h', '3h', '2h 45m', '12h 10m', '2h 20m', '7h 55m', '29h 35m', '26h 55m', '12h 45m', '7h 35m', '2h 30m', '11h 45m', '23h 40m', '13h 50m', '12h 50m', '9h 50m', '2h 30m', '21h 55m', '26h 10m', '2h 55m', '20h 15m', '20h 10m', '10h 55m', '2h 30m', '21h 10m', '2h 35m', '20h 40m', '2h 50m', '6h 30m', '30h', '13h 10m', '2h 55m', '18h', '8h', '8h 45m', '12h 30m', '13h 20m', '6h 10m', '7h 30m', '19h 15m', '2h 35m', '12h', '3h', '2h 50m', '1h 25m', '23h 5m', '2h 50m', '22h 5m', '2h 15m', '5h 45m', '2h 50m', '9h 30m', '8h 55m', '17h 45m', '2h 50m', '21h 45m', '12h 35m', '1h 30m', '2h 15m', '3h 55m', '2h 45m', '7h 30m', '17h 20m', '1h 30m', '1h 30m', '30h 30m', '5h', '11h 15m', '2h 50m', '19h 5m', '6h 35m', '7h 30m', '2h 15m', '2h 45m', '12h 45m', '2h 50m', '26h 35m', '12h 55m', '1h 30m', '8h 40m', '14h', '23h 30m', '29h 55m', '22h 10m', '4h 50m', '2h 45m', '13h 30m', '13h 20m', '2h 20m', '11h 55m', '5h 10m', '11h 45m', '13h 50m', '3h', '6h 10m', '2h 20m', '10h 45m', '2h 15m', '2h 55m', '1h 30m', '7h 35m', '26h 35m', '4h 45m', '21h 25m', '8h 35m', '8h 30m', '2h 15m', '12h 40m', '8h 25m', '25h 40m', '2h 45m', '29h 20m', '2h 40m', '2h 50m', '2h 20m', '7h 15m', '20h 15m', '11h 45m', '2h 35m', '13h 30m', '1h 30m', '24h 35m', '20h 35m', '2h 50m', '4h 35m', '2h 20m', '11h 45m', '1h 30m', '12h 50m', '24h 30m', '11h 30m', '4h', '11h', '5h 25m', '2h 35m', '5h 10m', '10h 10m', '26h 55m', '7h 15m', '8h 10m', '2h 55m', '5h 15m', '2h 20m', '1h 25m', '4h 50m', '2h 20m', '2h 20m', '13h 15m', '19h 10m', '22h 40m', '14h 50m', '15h 10m', '7h 5m', '1h 25m', '2h 55m', '8h', '2h 45m', '14h 55m', '1h 30m', '16h 15m', '2h 50m', '5h', '22h 15m', '5h 30m', '8h 35m', '15h 25m', '21h', '13h 30m', '2h 50m', '6h 45m', '1h 30m', '8h 40m', '1h 30m', '2h 50m', '2h 35m', '16h 5m', '23h 50m', '27h 5m', '16h 15m', '15h 25m', '2h 50m', '8h 35m', '13h 50m', '2h 40m', '2h 25m', '3h 10m', '2h 55m', '28h 40m', '2h 50m', '2h 35m', '9h 40m', '16h 40m', '6h 20m', '27h', '14h 35m', '12h 10m', '7h 35m', '2h 20m', '19h 10m', '20h', '3h', '5h 10m', '2h 40m', '29h 35m', '4h 55m', '3h', '12h 30m', '12h 35m', '26h 20m', '13h 15m', '2h 50m', '12h 45m', '16h 20m', '2h 40m', '8h 15m', '12h', '2h 50m', '11h', '2h 20m', '13h 50m', '8h 10m', '12h 10m', '2h 40m', '2h 45m', '2h 50m', '24h', '3h', '12h 35m', '25h 50m', '2h 55m', '17h 5m', '29h 20m', '8h 55m', '3h 5m', '9h', '10h 25m', '16h 45m', '2h 45m', '26h 20m', '13h 15m', '10h 30m', '7h 35m', '11h', '2h 50m', '25h 45m', '6h 25m', '1h 25m', '20h 10m', '11h 55m', '2h 50m', '5h', '27h', '2h 50m', '1h 15m', '10h 15m', '24h 50m', '2h 50m', '20h', '5h 30m', '2h 45m', '6h 55m', '2h 45m', '5h 15m', '6h 15m', '2h 50m', '19h 25m', '2h 55m', '11h 25m', '14h 5m', '2h 45m', '3h 15m', '14h 20m', '12h 30m', '5h 20m', '26h 20m', '3h 5m', '1h 30m', '7h 5m', '6h 10m', '8h', '12h 5m', '12h 55m', '9h 35m', '15h 10m', '11h 40m', '2h 55m', '4h 30m', '2h 40m', '2h 30m', '24h 10m', '28h 20m', '1h 25m', '10h 10m', '11h 30m', '2h 50m', '13h 45m', '6h 25m', '12h 55m', '4h 25m', '13h 30m', '24h 5m', '16h 5m', '8h 20m', '3h 40m', '9h 30m', '28h 15m', '13h 20m', '17h 50m', '20h 20m', '28h 5m', '15h 25m', '12h 5m', '10h 20m', '12h 25m', '7h 35m', '2h 50m', '4h 35m', '11h 15m', '2h 35m', '26h', '2h 25m', '2h 35m', '14h 15m', '2h 35m', '22h 5m', '6h 35m', '8h 30m', '18h 45m', '35h 15m', '2h 15m', '2h 30m', '2h 20m', '2h 30m', '7h 35m', '35h 35m', '26h 30m', '11h 30m', '26h 40m', '3h', '1h 30m', '2h 55m', '14h 15m', '16h 55m', '12h 20m', '29h 35m', '20h 20m', '8h 25m', '13h 50m', '10h', '19h 25m', '28h', '2h 50m', '17h 20m', '2h 45m', '2h 55m', '13h 25m', '12h 55m', '9h 45m', '21h 25m', '15h 40m', '2h 20m', '14h 25m', '2h 50m', '6h 35m', '22h 10m', '14h 25m', '2h 30m', '23h 35m', '13h 5m', '1h 30m', '5h 5m', '1h 20m', '22h 55m', '1h 30m', '2h 35m', '37h 20m', '2h 50m', '2h 50m', '36h 10m', '9h 15m', '1h 25m', '5h 5m', '2h 15m', '15h 10m', '25h 55m', '5h 40m', '7h 30m', '17h 45m', '2h 20m', '8h 15m', '3h 40m', '5h 55m', '2h 30m', '17h 30m', '13h 50m', '2h 15m', '21h 35m', '9h 30m', '8h 40m', '10h 25m', '35h 5m', '14h 15m', '3h', '25h 50m', '2h 30m', '8h 40m', '10h', '11h 30m', '7h 30m', '7h', '2h 15m', '7h 5m', '8h', '5h 25m', '23h 35m', '6h 35m', '3h', '19h 5m', '2h 35m', '4h 30m', '1h 30m', '2h 40m', '26h 40m', '12h 25m', '14h 25m', '2h 50m', '3h 5m', '1h 30m', '8h', '19h 45m', '2h 45m', '9h 20m', '3h', '26h 55m', '21h 15m', '2h 50m', '2h 50m', '16h 55m', '1h 30m', '25h 45m', '1h 30m', '9h 15m', '11h 5m', '6h 20m', '28h 50m', '27h 55m', '12h 15m', '22h 55m', '2h 35m', '2h 50m', '1h 20m', '26h', '8h 45m', '18h 10m', '14h 55m', '7h 30m', '19h 10m', '7h 15m', '11h 40m', '8h 40m', '11h', '14h 25m', '4h 35m', '7h 40m', '11h 45m', '3h', '1h 30m', '10h 30m', '2h 35m', '5h 35m', '21h 15m', '11h 45m', '20h', '5h 45m', '1h 30m', '2h 35m', '47h', '3h 15m', '21h 15m', '13h 20m', '2h 45m', '2h 55m', '5h 20m', '21h 20m', '5h 30m', '3h', '2h 35m', '12h 35m', '26h 20m', '2h 55m', '6h 35m', '2h 30m', '23h 10m', '12h 55m', '26h 30m', '10h 35m', '1h 35m', '17h 5m', '1h 30m', '2h 45m', '28h 40m', '2h 15m', '1h 30m', '2h 40m', '7h 35m', '14h 25m', '25h 20m', '9h 50m', '16h 10m', '2h 40m', '5h 30m', '16h 45m', '2h 50m', '11h 30m', '9h 45m', '12h 55m', '10h', '10h 55m', '7h 40m', '15h', '2h 20m', '1h 30m', '38h 20m', '2h 45m', '21h 5m', '2h 55m', '2h 50m', '25h 55m', '2h 50m', '1h 20m', '16h 25m', '2h 55m', '13h', '7h 20m', '2h 50m', '5h 15m', '17h 25m', '11h 45m', '22h 5m', '3h 10m', '2h 45m', '5h 20m', '9h 50m', '7h 5m', '20h 45m', '14h', '6h', '4h 30m', '14h 50m', '27h 35m', '24h', '17h 5m', '16h 50m', '2h 50m', '7h 20m', '6h 55m', '2h 40m', '26h 55m', '14h 10m', '2h 20m', '11h 45m', '1h 25m', '15h 30m', '19h 55m', '11h', '2h 50m', '2h 15m', '2h 45m', '10h', '2h 15m', '6h 20m', '7h 15m', '5h 30m', '2h 25m', '1h 30m', '13h 20m', '2h 45m', '4h 30m', '5h 45m', '23h 20m', '16h 40m', '5h', '14h 25m', '13h 20m', '12h 30m', '5h 25m', '27h 35m', '2h 35m', '17h 40m', '21h 40m', '13h 20m', '2h 30m', '9h 35m', '2h 55m', '11h 35m', '2h 35m', '1h 25m', '4h 55m', '7h 30m', '16h', '24h 10m', '3h 15m', '12h 35m', '12h 5m', '12h 10m', '7h 45m', '30h 30m', '7h 15m', '14h 25m', '2h 30m', '6h 25m', '15h', '18h 20m', '19h 55m', '2h 55m', '13h 15m', '8h 45m', '1h 30m', '14h 35m', '2h 50m', '4h 30m', '13h 25m', '12h 45m', '2h 30m', '24h 10m', '5h 25m', '16h 45m', '26h 25m', '5h 20m', '10h 25m', '2h 30m', '1h 30m', '2h 45m', '13h 30m', '6h 40m', '13h 25m', '8h 10m', '15h 30m', '10h', '2h 15m', '3h', '6h 35m', '27h 20m', '5h', '2h 15m', '2h 50m', '7h 5m', '14h', '5h 45m', '2h 40m', '9h 50m', '1h 25m', '5h 20m', '15h 30m', '21h 20m', '7h 15m', '5h 50m', '14h 35m', '7h 55m', '6h 35m', '25h 45m', '10h 30m', '30h 55m', '22h 55m', '15h 10m', '25h 20m', '8h 5m', '15h 40m', '11h 50m', '2h 40m', '21h 35m', '5h 20m', '2h 55m', '2h 50m', '14h 20m', '11h', '12h 40m', '24h 40m', '2h 45m', '10h 15m', '11h', '7h 35m', '12h 30m', '2h 15m', '16h 15m', '3h', '22h', '14h 25m', '26h 35m', '3h 10m', '6h 30m', '2h 50m', '7h 30m', '22h 55m', '5h 30m', '5h 55m', '8h 10m', '6h 40m', '8h 45m', '2h 45m', '8h 40m', '2h 35m', '2h 15m', '26h 55m', '2h 45m', '16h', '16h 50m', '5h 5m', '10h 35m', '12h', '1h 15m', '11h 45m', '21h 10m', '2h 30m', '2h 25m', '2h 50m', '27h 20m', '10h 30m', '2h 55m', '3h 5m', '7h 30m', '29h 50m', '1h 20m', '12h 25m', '11h 50m', '15h 55m', '8h 10m', '35h 5m', '21h 35m', '4h 50m', '20h 20m', '1h 15m', '5h 10m', '3h', '2h 55m', '7h 5m', '4h 30m', '1h 30m', '7h 20m', '1h 30m', '2h 45m', '18h 20m', '2h 45m', '2h 20m', '1h 30m', '23h 40m', '2h 45m', '2h 50m', '8h 45m', '7h 55m', '6h 35m', '23h 35m', '21h 10m', '2h 50m', '14h 35m', '37h 20m', '6h 15m', '26h', '14h 5m', '7h 30m', '16h 45m', '7h 40m', '28h 25m', '5h', '8h 55m', '23h 20m', '14h 15m', '4h 50m', '2h 45m', '22h 55m', '5h 45m', '29h 35m', '2h 35m', '2h 50m', '17h 15m', '2h 35m', '8h 30m', '10h', '8h 15m', '6h 10m', '13h', '3h 15m', '19h 25m', '8h', '2h 35m', '2h 30m', '6h 20m', '2h 15m', '2h 25m', '19h 55m', '3h', '4h 30m', '12h 30m', '7h 45m', '2h 35m', '25h 35m', '6h 10m', '2h 30m', '9h 20m', '18h 45m', '5h 15m', '7h 45m', '14h 30m', '2h 15m', '19h 55m', '5h 25m', '16h 50m', '2h 50m', '4h 35m', '12h 25m', '9h 30m', '2h 35m', '2h 55m', '1h 25m', '2h 45m', '2h 50m', '5h 5m', '10h 15m', '8h 30m', '2h 30m', '4h 55m', '8h 25m', '4h 35m', '3h 5m', '10h 25m', '1h 15m', '13h 15m', '22h 55m', '5h 55m', '2h 55m', '2h 45m', '2h 55m', '2h 30m', '26h 30m', '25h 55m', '1h 20m', '2h 40m', '1h 35m', '2h 20m', '2h 40m', '4h 35m', '3h 5m', '15h 10m', '2h 55m', '9h 5m', '15h 25m', '4h 40m', '9h 35m', '4h 35m', '30h 55m', '2h 55m', '37h 20m', '26h', '20h 10m', '25h 20m', '11h 5m', '23h 50m', '10h', '2h 35m', '20h 35m', '14h 50m', '2h 20m', '9h 50m', '7h 30m', '7h 15m', '22h 45m', '2h 50m', '20h 10m', '2h 50m', '22h 55m', '25h 25m', '5h 5m', '2h 45m', '12h', '11h 5m', '21h 50m', '9h', '13h 30m', '8h 25m', '8h 30m', '10h', '1h 30m', '2h 20m', '1h 30m', '3h 5m', '23h 45m', '1h 30m', '6h 5m', '9h 20m', '20h 10m', '19h 45m', '13h 55m', '2h 15m', '7h 20m', '3h 10m', '3h 15m', '2h 50m', '7h 15m', '2h 55m', '7h 35m', '2h 55m', '28h 20m', '8h 40m', '9h 5m', '15h 20m', '37h 20m', '2h 55m', '11h 45m', '2h 50m', '15h 10m', '10h 15m', '16h 40m', '2h 20m', '2h 45m', '9h 5m', '2h 20m', '23h 50m', '8h', '33h 15m', '14h 45m', '27h 20m', '2h 25m', '1h 30m', '7h 5m', '1h 30m', '4h 50m', '6h 35m', '10h 15m', '11h 30m', '21h 15m', '16h 15m', '25h 50m', '24h 30m', '2h 20m', '15h 10m', '14h 5m', '12h 35m', '10h 20m', '13h 20m', '2h 45m', '3h', '2h 50m', '21h 40m', '2h 40m', '2h 50m', '9h 10m', '8h 25m', '28h 25m', '8h 10m', '12h 30m', '2h 50m', '1h 30m', '13h 30m', '2h 20m', '11h 40m', '6h 35m', '2h 50m', '5h 15m', '2h 15m', '11h', '37h 25m', '2h 50m', '21h 10m', '2h 45m', '6h 25m', '15h 10m', '7h 45m', '4h 55m', '5h 15m', '3h 10m', '22h 35m', '30h 15m', '5h 15m', '2h 35m', '21h 40m', '28h 25m', '12h 45m', '1h 30m', '14h 30m', '2h 35m', '25h 55m', '2h 35m', '9h 15m', '3h 35m', '9h 10m', '7h 20m', '14h 25m', '12h 30m', '27h 5m', '1h 30m', '13h 30m', '13h 20m', '12h 55m', '23h 45m', '27h 40m', '4h 35m', '3h', '9h 15m', '7h 20m', '1h 30m', '22h', '2h 45m', '22h 55m', '4h 50m', '12h 45m', '8h 40m', '2h 45m', '16h 55m', '9h 10m', '8h 30m', '20h 25m', '8h 25m', '7h 15m', '9h 50m', '16h 10m', '13h 55m', '8h', '21h 15m', '3h 10m', '26h 35m', '28h 50m', '2h 45m', '1h 30m', '27h', '4h 35m', '23h 40m', '2h 45m', '2h 30m', '3h', '3h', '2h 50m', '2h 50m', '5h 35m', '3h', '20h 10m', '19h 5m', '28h 20m', '29h 55m', '25h 45m', '2h 15m', '2h 55m', '18h 10m', '8h 55m', '19h', '2h 50m', '2h 50m', '2h 45m', '15h 10m', '29h 20m', '1h 30m', '2h 15m', '15h 40m', '24h 40m', '13h 55m', '2h 50m', '23h 20m', '9h', '2h 50m', '6h 10m', '15h', '15h 5m', '1h 30m', '2h 30m', '12h 20m', '7h 40m', '14h 25m', '38h 15m', '12h 10m', '2h 50m', '9h 35m', '2h 40m', '6h 10m', '6h 30m', '25h 50m', '30h 25m', '3h', '13h 50m', '17h 30m', '2h 30m', '2h 35m', '2h 20m', '13h 15m', '9h 50m', '2h 55m', '12h 25m', '24h 35m', '5h 30m', '15h 10m', '23h 40m', '2h 35m', '10h', '13h 50m', '14h 35m', '7h 35m', '13h 30m', '13h 30m', '8h 15m', '12h 40m', '14h 55m', '27h 35m', '14h 35m', '9h 30m', '15h 10m', '2h 35m', '3h 5m', '4h 55m', '4h 50m', '2h 55m', '1h 30m', '10h 30m', '12h 30m', '6h', '2h 50m', '2h 55m', '7h 35m', '2h 55m', '2h 35m', '29h 35m', '7h 30m', '2h 35m', '3h 15m', '16h 20m', '18h 50m', '28h 20m', '23h 15m', '22h 5m', '2h 35m', '1h 30m', '2h 35m', '4h 45m', '28h 50m', '27h 45m', '17h 5m', '6h 20m', '16h 5m', '9h 10m', '22h 45m', '2h 35m', '5h', '15h 15m', '13h 20m', '17h 5m', '17h 45m', '5h 25m', '5h 20m', '14h 25m', '2h 20m', '15h 55m', '22h 55m', '2h 55m', '1h 30m', '15h 30m', '3h', '26h', '2h 50m', '6h 55m', '23h 35m', '2h 30m', '10h 10m', '11h 30m', '27h', '6h 35m', '2h 50m', '8h 20m', '3h 5m', '20h 20m', '2h 20m', '2h 45m', '7h 35m', '2h 40m', '12h 55m', '11h 15m', '2h 30m', '2h 50m', '4h 50m', '18h 20m', '8h 55m', '13h', '10h 40m', '13h 15m', '13h 20m', '2h 35m', '2h 55m', '12h 30m', '7h 5m', '6h 10m', '2h 45m', '2h 50m', '14h 45m', '5h 45m', '2h 15m', '8h 55m', '1h 25m', '33h 15m', '6h 45m', '23h 30m', '2h 45m', '26h 15m', '7h 30m', '1h 30m', '36h 25m', '28h 5m', '12h 20m', '6h 25m', '17h 5m', '1h 30m', '10h 10m', '8h 40m', '13h 30m', '17h 5m', '5h 15m', '5h', '14h 35m', '38h 15m', '11h 15m', '7h 20m', '21h 40m', '2h 40m', '3h 15m', '13h 30m', '2h 50m', '8h 40m', '6h 35m', '23h 45m', '5h 40m', '2h 55m', '24h 35m', '8h 40m', '2h 55m', '2h 50m', '25h 30m', '8h 15m', '12h 20m', '14h 5m', '8h 40m', '2h 45m', '3h 15m', '24h 35m', '16h 55m', '14h 35m', '2h 50m', '14h 5m', '9h 45m', '11h', '10h 20m', '2h 20m', '23h 40m', '12h 15m', '5h 35m', '27h 35m', '3h 15m', '23h 5m', '9h 30m', '1h 25m', '2h 55m', '17h 15m', '22h 30m', '11h 45m', '2h 45m', '28h 50m', '29h 20m', '12h', '1h 25m', '26h 50m', '1h 30m', '2h 50m', '2h 30m', '16h 5m', '10h 55m', '15h 45m', '14h 25m', '23h 40m', '19h 40m', '10h 25m', '2h 35m', '24h 50m', '14h', '9h 5m', '20h', '3h', '22h 25m', '2h 50m', '9h 5m', '19h 35m', '26h 35m', '20h 10m', '1h 30m', '2h 45m', '26h 55m', '15h 10m', '2h 25m', '13h', '10h 30m', '2h 45m', '3h 15m', '22h 35m', '2h 55m', '24h 45m', '11h 55m', '23h', '26h 55m', '7h 40m', '2h 50m', '8h 20m', '9h 20m', '2h 30m', '10h 10m', '9h', '7h 30m', '7h 40m', '23h 10m', '5h 30m', '2h 45m', '2h 55m', '16h 15m', '4h 30m', '6h 15m', '7h 5m', '3h', '2h 20m', '24h 55m', '6h 10m', '12h 55m', '11h 25m', '13h 30m', '2h 50m', '16h 45m', '15h 20m', '6h 15m', '3h', '12h 15m', '17h 5m', '2h 35m', '22h 10m', '9h 30m', '2h 55m', '9h 50m', '2h 30m', '23h 15m', '13h 50m', '15h 10m', '13h', '15h', '6h 35m', '22h 30m', '14h 40m', '28h 50m', '24h', '11h 45m', '15h 40m', '13h 45m', '1h 25m', '2h 45m', '24h 45m', '15h 30m', '1h 30m', '1h 30m', '7h 40m', '4h 30m', '6h 40m', '26h 55m', '2h 50m', '20h 15m', '25h 45m', '2h 45m', '29h 55m', '10h 15m', '2h 45m', '2h 55m', '3h', '3h', '10h 35m', '8h 40m', '7h 45m', '14h 35m', '4h 30m', '11h 30m', '19h 40m', '7h 15m', '9h 30m', '29h 20m', '10h 25m', '24h 35m', '27h', '2h 35m', '2h 20m', '7h 15m', '14h', '2h 45m', '25h 55m', '1h 25m', '23h 30m', '2h 50m', '13h 30m', '28h 50m', '2h 25m', '26h 35m', '8h', '3h', '1h 30m', '14h 55m', '1h 30m', '8h', '1h 30m', '3h', '12h', '11h 5m', '26h 10m', '7h 55m', '8h 15m', '3h', '2h 55m', '12h 15m', '4h 40m', '13h 45m', '15h 30m', '2h 50m', '6h 45m', '6h 10m', '12h 5m', '10h 30m', '21h 25m', '26h 40m', '21h 35m', '3h 10m', '11h 20m', '9h 30m', '16h 45m', '12h 30m', '9h 35m', '25h', '10h 15m', '8h 40m', '8h 40m', '12h 30m', '1h 30m', '24h 55m', '19h 45m', '11h 5m', '2h 30m', '26h 50m', '7h 35m', '10h 30m', '24h 40m', '22h 30m', '11h 35m', '25h 55m', '5h 20m', '15h 25m', '21h 15m', '25h 30m', '2h 20m', '6h 35m', '2h 50m', '7h 35m', '1h 30m', '11h', '3h', '20h 25m', '2h 35m', '2h 50m', '18h 45m', '12h 35m', '1h 20m', '24h 35m', '1h 20m', '7h 15m', '16h 45m', '7h 25m', '26h 45m', '11h 45m', '21h 40m', '28h', '8h', '10h 15m', '15h 10m', '1h 30m', '2h 55m', '20h 20m', '14h', '7h 35m', '2h 30m', '14h 35m', '8h 40m', '9h 50m', '11h 25m', '2h 55m', '3h', '20h', '28h 20m', '3h 15m', '8h 25m', '1h 15m', '12h 35m', '2h 50m', '6h 35m', '28h 50m', '1h 30m', '20h', '23h 50m', '2h 50m', '13h 30m', '22h 55m', '11h', '22h 45m', '21h 15m', '14h 50m', '11h', '5h 5m', '1h 30m', '2h 20m', '1h 30m', '9h', '3h 15m', '2h 45m', '6h 35m', '25h 25m', '7h 40m', '2h 30m', '13h', '12h', '7h 15m', '2h 50m', '2h 45m', '2h 40m', '6h 55m', '6h 5m', '19h 55m', '7h', '23h 45m', '4h 50m', '5h 30m', '9h 5m', '24h 55m', '23h 50m', '6h 10m', '24h 15m', '2h 40m', '2h 25m', '3h 15m', '5h 30m', '1h 30m', '3h', '13h 30m', '10h 55m', '12h', '14h', '24h 50m', '12h 40m', '2h 45m', '1h 30m', '4h 55m', '30h 55m', '2h 55m', '1h 30m', '2h 50m', '7h 35m', '3h 10m', '2h 45m', '24h 15m', '4h 30m', '9h 30m', '22h 5m', '29h 20m', '7h 30m', '5h', '3h', '1h 25m', '2h 40m', '2h 35m', '4h 45m', '7h 30m', '1h 25m', '23h 10m', '16h 50m', '1h 25m', '2h 45m', '3h', '3h', '9h', '23h 10m', '38h', '9h 50m', '6h 10m', '9h 30m', '12h 30m', '3h 15m', '4h 15m', '23h 40m', '3h', '13h 30m', '2h 20m', '25h 10m', '2h 30m', '5h 5m', '5h 40m', '5h 50m', '9h', '2h 25m', '7h 10m', '18h 15m', '1h 30m', '24h 50m', '2h 45m', '4h 25m', '11h 45m', '7h 30m', '6h 15m', '1h 30m', '1h 25m', '2h 50m', '28h 20m', '2h 20m', '13h 55m', '5h 5m', '10h 30m', '12h 20m', '1h 25m', '16h 10m', '2h 45m', '18h 45m', '4h 20m', '5h 15m', '2h 45m', '9h 30m', '1h 30m', '10h 35m', '10h 45m', '9h 5m', '2h 20m', '8h', '20h 40m', '3h', '13h 45m', '3h 5m', '5h 15m', '13h 30m', '8h 25m', '19h 25m', '13h 30m', '14h 35m', '20h 25m', '12h 10m', '15h 25m', '7h 50m', '15h 15m', '2h 55m', '6h 50m', '24h 10m', '23h 55m', '23h 35m', '14h', '28h 50m', '3h 10m', '27h 35m', '7h 30m', '4h 55m', '11h 35m', '15h 10m', '23h 55m', '18h 20m', '22h 5m', '1h 30m', '22h 15m', '2h 55m', '24h 10m', '22h', '7h 15m', '5h 15m', '23h 50m', '5h 20m', '14h 25m', '8h', '17h 20m', '2h 55m', '2h 50m', '13h 55m', '10h 30m', '2h 50m', '2h 50m', '2h 50m', '13h 25m', '2h 45m', '12h 25m', '8h 15m', '27h 45m', '17h 55m', '2h 55m', '3h 40m', '15h 15m', '2h 45m', '12h 5m', '22h', '12h 15m', '2h 20m', '10h 40m', '23h 25m', '6h 10m', '3h', '7h 35m', '28h', '5h 25m', '7h 15m', '12h 30m', '9h', '15h 25m', '2h 35m', '8h 25m', '7h 15m', '15h 20m', '9h 50m', '1h 30m', '16h 45m', '2h 45m', '15h 20m', '2h 35m', '14h 30m', '2h 50m', '9h 10m', '18h 20m', '22h 55m', '1h 30m', '2h 45m', '15h 30m', '15h 20m', '3h', '7h 40m', '10h 35m', '10h 45m', '10h 15m', '17h 10m', '12h 30m', '8h', '11h 5m', '2h 55m', '1h 30m', '10h 55m', '2h 30m', '24h 20m', '2h 55m', '1h 30m', '13h 15m', '4h 40m', '13h', '16h', '17h 25m', '12h 10m', '9h 30m', '10h', '1h 20m', '8h', '5h 55m', '23h 40m', '24h 55m', '7h 30m', '26h 55m', '12h 10m', '6h 40m', '14h 20m', '5h 35m', '1h 30m', '2h 50m', '18h 30m', '9h 20m', '18h 10m', '2h 55m', '2h 50m', '8h 50m', '13h 20m', '29h 50m', '23h 50m', '5h 55m', '10h 25m', '10h 40m', '2h 50m', '7h 20m', '12h 15m', '9h 30m', '2h 35m', '13h 20m', '9h 30m', '10h', '10h 30m', '28h 30m', '5h 35m', '3h 5m', '24h 40m', '13h 30m', '5h 50m', '12h 35m', '19h 40m', '27h 35m', '4h 35m', '10h 25m', '2h 40m', '1h 30m', '6h 30m', '2h 35m', '12h 10m', '2h 35m', '11h 5m', '9h 35m', '2h 35m', '1h 30m', '11h', '6h 35m', '3h 15m', '26h 10m', '7h 40m', '27h 10m', '12h 30m', '12h 45m', '9h 40m', '26h 10m', '17h 35m', '24h 40m', '13h 10m', '15h 20m', '2h 35m', '11h 5m', '19h 20m', '2h 50m', '12h', '23h', '1h 30m', '8h', '2h 50m', '4h 50m', '2h 50m', '2h 35m', '3h', '2h 50m', '2h 20m', '17h 5m', '2h 50m', '1h 25m', '9h 50m', '1h 30m', '13h 20m', '15h 40m', '27h', '3h', '23h 55m', '9h 50m', '13h 20m', '8h 45m', '4h 55m', '7h 45m', '11h 5m', '2h 35m', '1h 30m', '12h', '2h 50m', '15h 25m', '13h 15m', '1h 30m', '22h 5m', '11h 45m', '7h 30m', '15h 35m', '11h', '9h 15m', '2h 30m', '22h', '2h 40m', '14h 30m', '2h 50m', '2h 45m', '8h', '2h 55m', '2h 35m', '25h 30m', '2h 35m', '7h 30m', '1h 30m', '2h 15m', '1h 30m', '7h 20m', '23h 35m', '9h 35m', '22h 55m', '3h', '5h', '27h', '2h 35m', '20h 20m', '14h 55m', '19h 40m', '27h 20m', '5h', '23h 25m', '14h 5m', '5h 35m', '1h 30m', '1h 25m', '17h 20m', '2h 30m', '25h', '20h 25m', '2h 55m', '1h 25m', '7h 30m', '22h 55m', '9h 10m', '14h 45m', '2h 30m', '12h 25m', '2h 50m', '10h 50m', '17h 15m', '2h 20m', '5h 30m', '11h 30m', '2h 55m', '10h 40m', '14h 20m', '2h 50m', '1h 30m', '10h', '2h 50m', '27h 20m', '23h 50m', '14h 35m', '17h 35m', '2h 45m', '2h 30m', '10h 25m', '8h 55m', '6h 5m', '13h 15m', '22h 30m', '2h 35m', '25h 30m', '2h 55m', '11h 55m', '2h 40m', '22h 30m', '2h 30m', '7h 40m', '2h 30m', '27h 5m', '8h', '18h 20m', '6h 35m', '2h 55m', '11h 15m', '9h 25m', '26h 20m', '26h 55m', '24h 55m', '1h 30m', '10h 55m', '10h 55m', '2h 45m', '2h 25m', '8h', '9h 35m', '29h 20m', '5h 30m', '22h', '2h 15m', '12h 40m', '37h 25m', '23h 40m', '22h 15m', '17h 30m', '3h', '10h', '12h 10m', '9h 10m', '3h 15m', '12h 5m', '9h 35m', '14h 20m', '19h 15m', '15h 15m', '15h 20m', '21h 30m', '2h 30m', '2h 15m', '34h 25m', '1h 35m', '12h 15m', '12h 10m', '16h 55m', '22h 5m', '25h 45m', '7h 20m', '18h 35m', '12h 20m', '2h 45m', '15h 10m', '11h 25m', '26h 50m', '18h 10m', '7h 35m', '2h 25m', '21h 20m', '23h 30m', '2h 50m', '20h', '2h 35m', '5h 35m', '12h 20m', '23h 30m', '16h', '25h 50m', '2h 35m', '11h 30m', '3h 10m', '12h 40m', '2h 55m', '2h 45m', '26h 55m', '2h 50m', '23h 15m', '4h 55m', '29h 40m', '5h 20m', '3h', '26h 20m', '13h 20m', '13h 30m', '2h 25m', '2h 35m', '2h 40m', '21h 10m', '6h 15m', '8h 5m', '26h 10m', '12h 45m', '2h 55m', '29h 35m', '2h 45m', '26h 5m', '2h 45m', '13h', '2h 45m', '14h 25m', '2h 35m', '7h 30m', '2h 30m', '9h 25m', '2h 40m', '9h 10m', '8h 15m', '10h 50m', '11h 25m', '2h 55m', '29h 20m', '37h 20m', '10h 55m', '8h 10m', '20h', '2h 45m', '29h 5m', '12h 5m', '9h 50m', '2h 50m', '2h 20m', '2h 50m', '9h 10m', '15h 45m', '38h 15m', '2h 50m', '12h 30m', '2h 45m', '22h 55m', '24h', '27h', '23h 50m', '23h 15m', '2h 35m', '14h 50m', '16h 50m', '27h 25m', '2h 35m', '20h 10m', '2h 50m', '5h 35m', '18h 20m', '7h', '5h 30m', '18h', '2h 20m', '13h 15m', '22h 55m', '27h 20m', '21h 35m', '27h 35m', '1h 25m', '21h 55m', '2h 50m', '2h 20m', '15h 55m', '12h 20m', '8h', '11h 15m', '3h 15m', '16h 5m', '26h 20m', '2h 50m', '6h 5m', '3h 40m', '7h 55m', '1h 30m', '5h 35m', '28h 20m', '19h 5m', '13h 50m', '25h 40m', '27h 40m', '2h 55m', '21h 10m', '5h 25m', '2h 20m', '7h 40m', '8h 25m', '2h 30m', '1h 20m', '19h 25m', '2h 50m', '3h', '6h 35m', '16h 35m', '21h 15m', '2h 55m', '38h', '11h 15m', '22h 5m', '6h 30m', '1h 30m', '20h 45m', '1h 30m', '6h 40m', '5h 5m', '7h 5m', '11h 55m', '1h 30m', '14h 50m', '8h 40m', '27h 10m', '2h 20m', '2h 55m', '9h 50m', '2h 45m', '14h 5m', '12h', '9h 30m', '2h 50m', '11h 45m', '6h', '11h 55m', '12h 10m', '2h 50m', '10h 25m', '12h 45m', '21h 5m', '9h 30m', '8h 40m', '9h 15m', '21h 55m', '23h 50m', '9h', '23h 15m', '9h 15m', '5h 35m', '2h 15m', '9h 30m', '8h 40m', '2h 45m', '25h 20m', '2h 50m', '3h', '3h', '2h 45m', '16h 35m', '26h 20m', '16h 15m', '6h 5m', '16h 10m', '2h 25m', '2h 50m', '11h 30m', '2h 50m', '23h 40m', '27h', '3h 15m', '11h 30m', '2h 30m', '2h 45m', '10h', '5h 15m', '23h 5m', '2h 50m', '12h 20m', '9h 45m', '8h 35m', '2h 45m', '1h 30m', '18h 25m', '2h 45m', '2h 30m', '6h 35m', '13h 30m', '11h 5m', '26h 10m', '5h 45m', '7h 35m', '6h 45m', '2h 45m', '12h 40m', '7h 15m', '11h 40m', '2h 15m', '12h 45m', '2h 50m', '1h 25m', '18h', '2h 45m', '12h 55m', '15h', '1h 15m', '24h 40m', '1h 30m', '13h 30m', '2h 55m', '2h 25m', '20h 10m', '12h 10m', '12h 15m', '24h 30m', '8h 30m', '1h 30m', '3h 15m', '2h 35m', '2h 30m', '13h 20m', '15h 35m', '5h', '2h 50m', '2h 35m', '12h', '2h 50m', '14h 20m', '9h 5m', '12h 25m', '25h', '12h 10m', '12h', '12h 5m', '12h 45m', '2h 35m', '2h 25m', '22h 55m', '5h 10m', '9h 45m', '3h 5m', '10h', '10h 20m', '26h 10m', '12h 5m', '23h 10m', '2h 35m', '17h 5m', '2h 50m', '16h 30m', '11h 25m', '10h', '13h 20m', '7h 30m', '16h 5m', '8h 20m', '27h', '8h 25m', '2h 35m', '11h 30m', '2h 55m', '2h 55m', '2h 50m', '25h 50m', '1h 30m', '27h 5m', '24h 40m', '12h 30m', '26h 10m', '3h 5m', '3h 15m', '2h 55m', '21h 15m', '17h 25m', '21h 55m', '25h 20m', '14h 25m', '16h 50m', '3h 15m', '12h 15m', '1h 30m', '3h', '2h 55m', '2h 30m', '24h 45m', '2h 20m', '8h 25m', '14h 50m', '2h 35m', '1h 25m', '2h 35m', '14h 5m', '25h 15m', '20h 20m', '8h 20m', '29h 20m', '9h 45m', '1h 20m', '27h', '15h 40m', '5h 30m', '7h 30m', '2h 35m', '19h 25m', '2h 50m', '14h 35m', '8h 40m', '15h 25m', '28h 20m', '1h 30m', '13h 25m', '23h 30m', '10h 35m', '1h 25m', '18h 30m', '24h 50m', '5h 40m', '1h 30m', '15h', '27h 20m', '12h 40m', '23h', '2h 45m', '2h 45m', '2h 45m', '2h 50m', '6h 30m', '2h 45m', '2h 55m', '23h 55m', '25h 25m', '2h 50m', '14h 30m', '7h 15m', '22h 45m', '26h 55m', '2h 45m', '4h 45m', '10h 20m', '7h 45m', '7h 15m', '22h 30m', '7h 45m', '1h 20m', '2h 35m', '7h 55m', '12h 20m', '13h', '17h 45m', '17h 5m', '2h 40m', '2h 45m', '5h 35m', '5h 40m', '9h 30m', '2h 15m', '17h 5m', '8h 25m', '16h 35m', '15h 10m', '26h 5m', '2h 55m', '5h 30m', '3h 5m', '1h 30m', '11h 10m', '2h 30m', '8h 10m', '24h 55m', '2h 40m', '12h 10m', '21h 35m', '34h 25m', '2h 55m', '14h 55m', '3h', '6h 15m', '23h 30m', '2h 55m', '10h 25m', '2h 50m', '4h 40m', '6h 5m', '2h 25m', '14h 25m', '2h 45m', '27h 40m', '10h', '22h 45m', '14h 20m', '15h 25m', '15h', '16h 5m', '2h 55m', '15h 40m', '21h 15m', '1h 35m', '2h 45m', '6h', '13h 20m', '4h 55m', '2h 40m', '9h 30m', '1h 20m', '3h', '24h 35m', '2h 35m', '12h 10m', '15h 10m', '2h 40m', '1h 30m', '24h 55m', '7h 35m', '18h 45m', '6h 5m', '11h 5m', '9h 40m', '13h 30m', '14h 25m', '6h 25m', '2h 50m', '5h 55m', '14h 25m', '13h 20m', '6h 30m', '22h 35m', '11h', '7h 45m', '2h 50m', '2h 20m', '6h 20m', '2h 30m', '10h', '12h 5m', '2h 40m', '7h 45m', '17h 5m', '8h 40m', '2h 20m', '7h 20m', '18h', '13h 20m', '11h 45m', '2h 40m', '12h 30m', '12h 35m', '3h', '10h 15m', '2h 50m', '7h 55m', '10h 15m', '15h 30m', '3h 5m', '2h 25m', '2h 35m', '11h 30m', '13h 25m', '2h 35m', '14h 30m', '23h 25m', '2h 25m', '5h 30m', '17h 25m', '7h 50m', '26h 50m', '16h 45m', '2h 45m', '28h 5m', '14h 20m', '9h 45m', '2h 20m', '14h 25m', '3h 15m', '3h', '5h 5m', '8h 5m', '10h', '1h 30m', '20h 10m', '14h 25m', '26h', '19h', '18h 25m', '15h 30m', '5h 30m', '9h 30m', '14h 35m', '21h 25m', '9h 25m', '14h 25m', '5h 55m', '1h 30m', '2h 45m', '20h 45m', '13h 30m', '28h 55m', '4h 30m', '29h 5m', '12h 45m', '5h 5m', '18h 20m', '22h 35m', '4h 25m', '9h 40m', '10h', '16h 50m', '5h 40m', '2h 50m', '2h 30m', '11h 30m', '10h 30m', '15h 20m', '9h 50m', '13h 20m', '23h 10m', '2h 20m', '25h 5m', '2h 35m', '2h 55m', '13h 10m', '2h 20m', '8h 35m', '14h 20m', '8h', '2h 50m', '29h 10m', '1h 25m', '2h 55m', '5h 25m', '2h 50m', '2h 50m', '2h 20m', '8h 55m', '5h 15m', '11h 25m', '2h 55m', '2h 50m', '8h 30m', '3h 40m', '23h 45m', '13h 30m', '1h 30m', '26h 35m', '22h 55m', '34h', '8h', '14h 25m', '15h 25m', '2h 35m', '9h 25m', '2h 35m', '2h 50m', '2h 50m', '28h 25m', '1h 30m', '25h 5m', '14h 30m', '22h 30m', '7h 5m', '1h 30m', '18h 15m', '7h 15m', '17h 30m', '8h 55m', '2h 50m', '20h 35m', '20h', '8h 10m', '17h 5m', '9h 15m', '2h 25m', '8h 25m', '13h 30m', '2h 50m', '6h', '18h 25m', '14h 5m', '22h 30m', '25h 30m', '1h 30m', '2h 25m', '15h 35m', '2h 20m', '26h 15m', '3h 5m', '2h 35m', '13h', '18h 45m', '3h', '11h 25m', '11h 45m', '1h 30m', '22h 5m', '27h 45m', '15h 40m', '2h 30m', '24h 35m', '1h 30m', '5h 10m', '5h 25m', '13h 20m', '8h 35m', '1h 25m', '3h', '10h 30m', '3h', '2h 30m', '12h 5m', '22h 10m', '22h 10m', '3h 15m', '6h 20m', '24h 30m', '4h 15m', '6h 35m', '14h 50m', '2h 50m', '8h 25m', '2h 35m', '12h', '18h 45m', '25h 25m', '8h 30m', '2h 55m', '20h', '24h 45m', '8h 40m', '6h 5m', '10h 55m', '14h 5m', '18h 50m', '2h 30m', '7h 40m', '7h 15m', '3h 5m', '10h 25m', '2h 50m', '9h 10m', '11h 40m', '13h 50m', '2h 15m', '2h 30m', '5h 40m', '16h 15m', '2h 55m', '2h 45m', '9h', '14h 25m', '15h 20m', '9h 30m', '2h 30m', '25h 50m', '30h 20m', '2h 55m', '1h 30m', '15h 40m', '20h 25m', '22h 5m', '3h 5m', '20h 15m', '21h 40m', '7h 35m', '6h 35m', '3h', '23h 40m', '1h 30m', '9h 5m', '5h 25m', '9h 5m', '1h 30m', '21h 10m', '2h 30m', '24h 45m', '2h 45m', '16h', '21h 40m', '2h 45m', '7h 5m', '15h 5m', '7h 20m', '2h 40m', '2h 35m', '25h 45m', '2h 20m', '2h 25m', '2h 45m', '27h 45m', '16h 15m', '2h 35m', '28h 50m', '9h 50m', '5h 15m', '25h 45m', '21h 20m', '2h 20m', '17h 5m', '10h 55m', '9h 10m', '16h 35m', '22h 5m', '2h 45m', '2h 40m', '8h 10m', '26h', '12h 55m', '1h 25m', '2h 55m', '10h 55m', '2h 30m', '9h 25m', '13h', '29h 20m', '11h', '2h 55m', '11h 20m', '8h 20m', '27h 20m', '30h 40m', '25h 15m', '8h 35m', '15h 10m', '2h 20m', '1h 30m', '15h 5m', '7h 40m', '29h 5m', '12h 15m', '23h 50m', '28h 50m', '7h 35m', '10h 30m', '2h 50m', '21h 25m', '16h 5m', '3h', '13h 45m', '9h 20m', '27h 20m', '12h', '2h 55m', '12h 15m', '2h 55m', '24h', '2h 45m', '2h 55m', '4h 55m', '7h 20m', '4h 55m', '23h 35m', '7h 15m', '1h 30m', '2h 30m', '4h 35m', '16h 20m', '2h 50m', '28h 55m', '15h 5m', '3h', '2h 55m', '27h 10m', '2h 45m', '1h 25m', '5h 45m', '12h 15m', '3h 35m', '7h 30m', '15h 25m', '25h 20m', '2h 50m', '4h 50m', '16h 55m', '15h 25m', '10h 25m', '6h 15m', '8h', '7h 5m', '1h 30m', '5h 55m', '9h 30m', '8h 40m', '18h 20m', '19h 40m', '22h 10m', '12h 45m', '23h 15m', '11h', '2h 55m', '1h 30m', '15h 25m', '2h 15m', '2h 35m', '2h 45m', '21h 30m', '22h 55m', '18h 10m', '2h 20m', '14h 5m', '2h 45m', '25h 50m', '2h 30m', '2h 30m', '2h 50m', '14h 30m', '8h 55m', '2h 40m', '2h 25m', '2h 50m', '6h 25m', '10h 20m', '15h 40m', '11h 25m', '15h 10m', '23h 35m', '2h 20m', '2h 40m', '20h 20m', '8h 30m', '2h 15m', '6h 15m', '26h 50m', '30h 45m', '5h', '27h 20m', '6h 25m', '2h 45m', '2h 50m', '5h 15m', '22h 55m', '14h 45m', '16h 45m', '18h 25m', '16h 35m', '2h 35m', '7h 50m', '12h 40m', '1h 25m', '19h 45m', '16h 55m', '2h 50m', '14h 15m', '27h 35m', '1h 30m', '22h 55m', '12h 20m', '2h 45m', '8h 40m', '2h 35m', '22h 5m', '24h', '36h 10m', '14h', '16h 50m', '27h 5m', '7h 15m', '20h 55m', '5h', '7h', '2h 30m', '5h 15m', '10h 50m', '5h 15m', '20h 55m', '8h 40m', '2h 15m', '12h', '6h 15m', '8h 40m', '14h 10m', '32h 55m', '2h 50m', '6h 25m', '2h 30m', '2h 30m', '10h 40m', '19h 55m', '8h 40m', '11h', '10h 5m', '4h 55m', '30h 55m', '11h 25m', '26h 35m', '3h 5m', '14h 35m', '2h 25m', '4h 50m', '3h', '11h 30m', '35h 20m', '2h 40m', '28h 50m', '2h 35m', '2h 55m', '17h 25m', '14h 50m', '10h 30m', '5h 35m', '1h 30m', '2h 30m', '8h 55m', '1h 30m', '4h 30m', '12h 15m', '9h 30m', '14h 25m', '27h 20m', '26h 55m', '13h 30m', '12h 5m', '2h 30m', '22h 55m', '15h 40m', '5h', '14h 5m', '2h 55m', '23h 15m', '21h 15m', '2h 55m', '2h 55m', '25h 50m', '5h 25m', '3h', '3h', '2h 40m', '17h 20m', '3h 10m', '8h 30m', '12h 5m', '8h 20m', '15h', '13h 10m', '8h 30m', '26h 55m', '1h 30m', '25h', '2h 55m', '9h', '26h 20m', '1h 20m', '13h 30m', '9h 30m', '2h 30m', '1h 30m', '17h 45m', '11h 25m', '23h 35m', '2h 50m', '2h 55m', '2h 25m', '3h 15m', '5h 55m', '6h 10m', '18h 20m', '26h 10m', '21h 35m', '21h 15m', '23h 20m', '5h 30m', '3h 15m', '5h 55m', '13h 25m', '2h 35m', '26h 35m', '13h 15m', '2h 15m', '2h 30m', '2h 35m', '7h 40m', '2h 40m', '1h 30m', '2h 35m', '23h 30m', '6h 10m', '5h 30m', '1h 30m', '3h 10m', '13h 55m', '2h 50m', '7h 35m', '7h 55m', '2h 25m', '1h 30m', '9h', '14h 35m', '11h 15m', '3h', '2h 35m', '23h 40m', '4h 40m', '21h 15m', '23h 5m', '2h 55m', '8h 45m', '19h 55m', '2h 45m', '12h 35m', '2h 45m', '16h 10m', '30h 30m', '4h 40m', '27h 35m', '12h 45m', '11h 5m', '3h', '11h 30m', '2h 50m', '20h', '10h 10m', '2h 30m', '13h 10m', '2h 45m', '6h 40m', '27h', '23h 45m', '5h 20m', '12h 30m', '27h 35m', '7h 35m', '11h 45m', '13h 30m', '3h', '27h 40m', '7h 30m', '9h 30m', '13h 30m', '3h 5m', '20h 10m', '10h 15m', '9h 15m', '14h 25m', '8h 25m', '14h 50m', '2h 40m', '8h 30m', '2h 50m', '2h 45m', '23h 15m', '16h 50m', '2h 30m', '1h 25m', '6h 35m', '14h 25m', '12h 25m', '2h 20m', '1h 30m', '10h 40m', '1h 30m', '27h 10m', '12h 25m', '8h 50m', '2h 50m', '24h', '20h 55m', '6h 5m', '12h 15m', '2h 30m', '2h 35m', '12h 30m', '12h 35m', '16h 5m', '21h 15m', '2h 20m', '2h 30m', '12h 15m', '23h 50m', '2h 50m', '23h 10m', '8h 5m', '10h 40m', '2h 30m', '7h 15m', '1h 30m', '10h 30m', '23h 15m', '2h 30m', '5h', '25h 5m', '9h 45m', '2h 25m', '15h 25m', '13h 30m', '20h 15m', '15h 30m', '15h', '21h 30m', '7h 5m', '2h 55m', '28h 20m', '2h 30m', '18h 10m', '21h 15m', '11h 5m', '10h 40m', '10h', '4h 50m', '5h 30m', '13h 20m', '9h 30m', '26h 45m', '9h 15m', '1h 15m', '7h 35m', '1h 30m', '2h 50m', '5h 10m', '1h 30m', '2h 55m', '16h 45m', '2h 20m', '19h 55m', '3h 5m', '2h 55m', '2h 55m', '26h', '2h 55m', '15h 25m', '11h 5m', '1h 30m', '16h 15m', '6h 20m', '26h 55m', '20h 45m', '24h 45m', '5h 45m', '9h 45m', '2h 40m', '5h 35m', '2h 45m', '3h', '2h 35m', '24h 35m', '2h 35m', '2h 40m', '20h 20m', '2h 35m', '3h', '6h 15m', '2h 20m', '2h 20m', '10h 40m', '8h 30m', '1h 30m', '15h 50m', '2h 30m', '12h', '1h 30m', '21h 35m', '2h 45m', '26h 15m', '2h 50m', '1h 25m', '3h', '2h 30m', '7h 30m', '2h 20m', '10h 30m', '2h 50m', '2h 45m', '14h', '2h 50m', '1h 30m', '27h 35m', '6h 35m', '11h 40m', '2h 55m', '11h 50m', '9h 50m', '26h 50m', '2h 45m', '4h 55m', '2h 45m', '13h 10m', '27h 10m', '2h 45m', '15h 50m', '8h 25m', '2h 20m', '14h 5m', '2h 50m', '16h 20m', '25h 10m', '2h 50m', '38h 20m', '11h 5m', '2h 55m', '19h 55m', '15h 45m', '9h 15m', '2h 35m', '4h 55m', '13h 15m', '26h', '18h 30m', '9h', '27h 35m', '19h 15m', '11h 45m', '22h 55m', '8h 10m', '6h 55m', '12h 45m', '2h 35m', '2h 50m', '10h 15m', '3h', '12h 30m', '4h 50m', '38h', '13h 20m', '12h 45m', '26h 35m', '16h 40m', '2h 50m', '4h 15m', '2h 45m', '1h 30m', '2h 35m', '7h 30m', '29h 20m', '23h', '2h 45m', '12h 10m', '7h 5m', '2h 40m', '15h 40m', '7h 45m', '5h 45m', '2h 30m', '10h 10m', '12h 10m', '1h 30m', '2h 50m', '12h 15m', '1h 30m', '9h 10m', '22h 5m', '10h', '6h 15m', '2h 55m', '2h 35m', '9h 50m', '23h 50m', '5h 45m', '8h 15m', '10h 25m', '14h 15m', '13h 20m', '2h 45m', '34h', '7h 5m', '8h 55m', '15h 30m', '11h 50m', '1h 30m', '9h 15m', '15h 30m', '3h', '7h 30m', '2h 35m', '2h 35m', '14h 30m', '6h 15m', '10h 30m', '2h 50m', '7h 5m', '13h 10m', '13h 15m', '7h 15m', '26h', '11h', '24h 45m', '2h 35m', '27h 35m', '14h 25m', '20h 10m', '2h 45m', '12h 20m', '2h 15m', '8h 50m', '26h 10m', '2h 45m', '1h 25m', '10h', '1h 30m', '5h 15m', '2h 50m', '20h 20m', '6h 35m', '12h 35m', '2h 35m', '2h 20m', '11h 45m', '2h 50m', '2h 20m', '1h 30m', '2h 20m', '1h 30m', '22h 5m', '7h 15m', '9h 15m', '27h 10m', '12h 45m', '4h 30m', '2h 55m', '14h 30m', '12h 10m', '22h 25m', '9h 10m', '10h', '1h 30m', '2h 30m', '5h 30m', '12h 45m', '15h 10m', '23h 20m', '2h 20m', '8h', '11h 15m', '19h', '10h', '2h 35m', '5h 15m', '8h 5m', '2h 15m', '11h 30m', '33h 15m', '1h 30m', '13h 5m', '2h 55m', '2h 55m', '2h 35m', '22h 55m', '21h 5m', '5h 10m', '13h 30m', '12h 15m', '2h 40m', '19h 35m', '28h 50m', '2h 35m', '18h 20m', '24h 10m', '2h 50m', '26h 50m', '2h 15m', '2h 55m', '24h 30m', '14h 10m', '22h 45m', '16h 35m', '5h 20m', '8h 30m', '9h 50m', '8h 40m', '21h 40m', '7h 30m', '13h 45m', '1h 30m', '38h 15m', '1h 30m', '16h 5m', '15h 10m', '20h 10m', '10h 55m', '5h 40m', '2h 45m', '2h 45m', '18h 20m', '13h 50m', '7h 35m', '23h 15m', '13h 20m', '23h 20m', '19h 25m', '13h 30m', '2h 30m', '23h 15m', '2h 20m', '1h 15m', '3h 10m', '11h 30m', '4h 50m', '22h', '20h 15m', '11h 15m', '12h 45m', '12h 30m', '11h 30m', '17h 15m', '5h', '1h 30m', '7h 35m', '2h 55m', '7h 25m', '5h 55m', '15h 45m', '11h 30m', '9h 45m', '12h 30m', '5h', '22h', '22h 5m', '16h 55m', '1h 25m', '2h 45m', '10h', '1h 20m', '14h 25m', '18h', '4h 55m', '7h 30m', '7h 55m', '2h 30m', '9h 45m', '2h 45m', '7h 5m', '9h 30m', '1h 30m', '15h', '17h 5m', '24h 20m', '12h 30m', '24h 40m', '3h 5m', '2h 25m', '2h 45m', '7h 30m', '1h 30m', '4h 55m', '2h 45m', '8h 40m', '28h 50m', '7h 15m', '20h 15m', '2h 50m', '12h 45m', '30h 40m', '4h 5m', '10h 15m', '38h 15m', '21h 35m', '15h 25m', '2h 20m', '5h 20m', '2h 50m', '22h 45m', '2h 50m', '25h 50m', '6h 30m', '2h 25m', '14h 35m', '2h 55m', '12h 40m', '2h 15m', '9h 35m', '17h 20m', '11h 50m', '2h 55m', '1h 25m', '16h 55m', '2h 20m', '2h 55m', '9h 30m', '2h 40m', '7h 15m', '4h 55m', '19h 10m', '10h 45m', '22h 15m', '13h 20m', '10h 35m', '7h 15m', '18h 25m', '15h 40m', '7h 35m', '2h 40m', '16h 45m', '5h 35m', '11h', '2h 45m', '7h 55m', '9h 30m', '5h 45m', '29h 20m', '1h 30m', '7h 5m', '4h 40m', '1h 25m', '26h 55m', '26h 30m', '1h 30m', '2h 45m', '3h', '3h', '2h 50m', '30h 30m', '2h 50m', '20h 45m', '22h 30m', '2h 50m', '26h', '16h 25m', '9h 20m', '7h 5m', '24h 35m', '2h 20m', '22h 10m', '7h 35m', '26h', '16h 5m', '38h', '13h 15m', '10h 40m', '2h 50m', '16h 10m', '13h 20m', '6h 30m', '1h 30m', '10h 25m', '12h 45m', '32h 5m', '8h 15m', '3h', '18h 45m', '29h 20m', '31h 40m', '2h 50m', '2h 55m', '28h 50m', '1h 15m', '18h 20m', '12h 15m', '2h 25m', '3h', '33h 15m', '2h 50m', '14h', '7h 50m', '7h 35m', '21h 15m', '2h 50m', '2h 40m', '25h 5m', '7h 35m', '7h 30m', '9h 15m', '2h 35m', '1h 30m', '8h', '2h 30m', '15h 20m', '5h 50m', '2h 25m', '26h 10m', '2h 40m', '21h 20m', '2h 50m', '3h', '4h 50m', '7h 45m', '10h 45m', '3h', '9h 50m', '10h', '6h 55m', '18h 30m', '2h 40m', '20h 10m', '2h 25m', '23h 15m', '11h 15m', '5h 30m', '10h 15m', '22h 55m', '1h 30m', '9h', '16h 20m', '12h 15m', '6h 20m', '7h 20m', '1h 30m', '15h 15m', '1h 20m', '5h 30m', '9h 35m', '8h 55m', '2h 50m', '12h 20m', '23h 50m', '16h 55m', '2h 55m', '16h 5m', '23h 15m', '14h 25m', '1h 30m', '13h 20m', '3h 5m', '28h 50m', '14h 40m', '2h 45m', '5h 50m', '9h 5m', '1h 30m', '23h 30m', '8h 40m', '14h 20m', '2h 15m', '2h 45m', '5h 20m', '3h', '5h 20m', '2h 50m', '2h 15m', '2h 55m', '8h', '25h 40m', '23h 45m', '22h 35m', '8h 40m', '23h 40m', '7h 50m', '4h 50m', '2h 55m', '30h 40m', '14h 55m', '27h 20m', '23h 35m', '9h', '20h 55m', '20h 10m', '14h 25m', '7h 35m', '7h', '2h 55m', '1h 30m', '1h 25m', '9h 50m', '7h 20m', '14h 30m', '9h 50m', '2h 35m', '8h', '2h 30m', '5h 20m', '2h 25m', '14h 55m', '25h 45m', '23h 50m', '10h 30m', '2h 55m', '6h 15m', '16h 10m', '23h', '23h 20m', '7h 30m', '1h 30m', '14h', '7h 5m', '2h 55m', '12h 15m', '2h 45m', '20h 15m', '27h 5m', '20h 15m', '2h 45m', '11h 45m', '1h 25m', '2h 45m', '3h', '11h', '24h 55m', '26h 35m', '23h 40m', '23h 35m', '25h 45m', '2h 45m', '1h 25m', '19h 15m', '15h 30m', '24h 30m', '13h 20m', '7h 35m', '2h 45m', '2h 50m', '10h 10m', '30h 30m', '2h 50m', '8h 25m', '1h 30m', '12h 25m', '24h 55m', '2h 35m', '21h 15m', '22h 55m', '2h 35m', '3h', '8h 55m', '22h 30m', '1h 30m', '9h 5m', '21h 25m', '2h 40m', '13h 30m', '6h 25m', '20h 55m', '10h 10m', '26h 30m', '10h 15m', '7h 20m', '10h 45m', '7h 5m', '2h 20m', '12h', '20h 20m', '11h', '13h 50m', '9h', '7h 50m', '16h 5m', '9h', '12h 40m', '3h 5m', '1h 30m', '11h 15m', '12h 25m', '12h 20m', '2h 25m', '15h 35m', '2h 50m', '5h 5m', '6h 35m', '7h 5m', '2h 50m', '13h 30m', '2h 50m', '3h', '33h 15m', '23h 10m', '2h 55m', '6h 30m', '2h 30m', '2h 55m', '10h 45m', '23h 40m', '2h 35m', '9h', '1h 30m', '1h 35m', '11h 45m', '2h 55m', '15h 30m', '27h 35m', '2h 50m', '5h 15m', '14h 35m', '2h 40m', '7h 30m', '2h 50m', '1h 30m', '6h 35m', '2h 35m', '11h 40m', '2h 50m', '2h 45m', '5h', '7h 15m', '8h 35m', '3h', '17h 5m', '11h', '3h 10m', '5h 20m', '9h', '6h 30m', '15h 25m', '2h 45m', '6h 30m', '16h 5m', '12h 15m', '25h 30m', '12h 35m', '27h 45m', '6h 15m', '2h 55m', '6h 10m', '2h 40m', '7h 30m', '5h 20m', '22h 25m', '26h 30m', '3h', '2h 40m', '7h 45m', '25h 5m', '9h 20m', '3h 5m', '9h 45m', '25h 35m', '2h 40m', '5h 15m', '24h 55m', '1h 30m', '2h 50m', '2h 15m', '26h 55m', '2h 15m', '24h 30m', '10h 15m', '5h 25m', '10h 20m', '7h 5m', '3h', '23h 5m', '24h 50m', '12h 45m', '22h 10m', '8h 10m', '2h 30m', '9h 20m', '6h 5m', '24h 35m', '3h', '11h 15m', '8h 25m', '2h 40m', '20h 20m', '1h 30m', '30h 20m', '15h 30m', '2h 45m', '7h', '3h 5m', '7h 35m', '2h 50m', '13h 55m', '23h 45m', '2h 45m', '10h 15m', '10h 5m', '12h 45m', '2h 35m', '2h 50m', '14h 45m', '7h 20m', '23h 10m', '2h 20m', '5h 30m', '13h 45m', '2h 20m', '1h 30m', '2h 20m', '2h 55m', '12h 45m', '2h 20m', '24h 45m', '38h', '4h 55m', '11h 45m', '11h 45m', '3h 10m', '2h 50m', '2h 35m', '6h 35m', '1h 20m', '2h 15m', '23h 40m', '5h', '2h 40m', '23h 40m', '12h 10m', '7h 35m', '29h 20m', '2h 55m', '13h 20m', '12h 25m', '1h 20m', '28h 15m', '5h 20m', '1h 20m', '7h 5m', '1h 30m', '23h 20m', '2h 50m', '11h 30m', '2h 45m', '2h 35m', '7h 5m', '3h 15m', '2h 45m', '14h 30m', '28h 20m', '2h 50m', '2h 30m', '9h 50m', '6h 20m', '7h', '2h 35m', '2h 40m', '8h 40m', '2h 40m', '10h 25m', '2h 25m', '13h 55m', '2h 35m', '2h 30m', '2h 30m', '25h 20m', '13h', '5h 10m', '13h 20m', '4h 55m', '10h 35m', '18h 20m', '16h 5m', '7h 30m', '25h 5m', '11h', '14h 35m', '1h 25m', '19h 55m', '2h 25m', '2h 55m', '5h 40m', '12h 10m', '11h 45m', '10h 15m', '1h 30m', '11h 35m', '2h 20m', '7h 20m', '6h 25m', '3h', '11h', '14h 30m', '12h 20m', '13h 15m', '11h', '2h 45m', '25h 30m', '12h', '15h 25m', '1h 25m', '7h 15m', '2h 35m', '16h 35m', '2h 55m', '1h 30m', '10h 45m', '7h 45m', '4h 45m', '12h 15m', '19h 25m', '2h 35m', '27h 20m', '2h 20m', '10h 30m', '25h 5m', '11h 15m', '24h 50m', '19h 50m', '2h 15m', '5h 10m', '29h 5m', '26h', '9h 30m', '2h 35m', '2h 15m', '15h 55m', '2h 15m', '16h 5m', '23h 50m', '4h 50m', '16h 45m', '2h 20m', '15h', '14h 5m', '13h 20m', '12h 30m', '7h 15m', '3h 5m', '2h 50m', '2h 55m', '2h 35m', '27h 35m', '1h 20m', '19h 55m', '3h', '1h 30m', '14h 45m', '8h 35m', '19h 25m', '26h 35m', '5h', '4h 50m', '7h 20m', '27h 45m', '3h', '2h 50m', '2h 45m', '8h 35m', '3h', '8h 5m', '2h 50m', '8h 30m', '11h 5m', '4h 30m', '2h 50m', '33h 45m', '2h 50m', '24h 45m', '30h 10m', '27h 5m', '15h 20m', '26h 10m', '21h 15m', '1h 30m', '17h 25m', '16h 45m', '3h 15m', '10h 20m', '10h 20m', '2h 35m', '2h 55m', '9h 35m', '7h 15m', '8h 55m', '2h 55m', '14h 5m', '18h 45m', '2h 35m', '2h 45m', '14h 10m', '1h 30m', '2h 35m', '2h 55m', '7h 20m', '11h 50m', '1h 20m', '7h 30m', '9h 20m', '24h 50m', '21h 15m', '24h 50m', '18h 20m', '2h 20m', '7h 25m', '2h 50m', '38h', '1h 25m', '2h 40m', '3h 5m', '29h 55m', '2h 30m', '8h', '14h 35m', '5h 15m', '1h 30m', '2h 45m', '2h 55m', '15h 55m', '2h 55m', '8h 25m', '7h', '2h 50m', '21h 45m', '3h 5m', '11h 5m', '4h 55m', '23h 35m', '5h 15m', '22h 55m', '3h 15m', '21h 20m', '7h 30m', '1h 25m', '28h 50m', '10h 20m', '16h 40m', '7h 5m', '7h 20m', '2h 55m', '24h 35m', '24h 50m', '7h 35m', '11h', '16h 15m', '14h 50m', '9h 50m', '13h 20m', '8h 25m', '27h 35m', '1h 30m', '2h 50m', '13h 15m', '25h 55m', '2h 35m', '22h 15m', '13h 40m', '10h 25m', '2h 50m', '15h 25m', '2h 50m', '22h', '8h 25m', '25h 55m', '9h 30m', '12h', '9h 45m', '23h 45m', '3h 15m', '15h', '21h 25m', '8h 35m', '25h 20m', '21h', '17h 35m', '1h 30m', '10h 50m', '23h 45m', '11h 25m', '2h 30m', '6h 35m', '2h 40m', '2h 25m', '13h 10m', '26h 35m', '1h 25m', '15h 30m', '14h 15m', '22h', '10h 25m', '10h 25m', '14h 25m', '27h', '8h 35m', '8h', '12h 20m', '26h 35m', '3h 10m', '23h 50m', '25h 15m', '2h 20m', '28h 25m', '21h 30m', '12h 10m', '2h 50m', '22h 35m', '6h 15m', '2h 30m', '10h 55m', '13h 10m', '11h 45m', '9h 25m', '14h 15m', '12h 25m', '13h 30m', '20h 20m', '8h 10m', '16h 45m', '1h 30m', '2h 30m', '12h 10m', '6h 55m', '12h 40m', '3h 40m', '2h 40m', '21h 55m', '9h 50m', '2h 35m', '2h 45m', '1h 25m', '11h 45m', '6h 30m', '12h 5m', '16h 15m', '15h 10m', '19h 30m', '35h 5m', '29h 50m', '9h 40m', '11h 15m', '5h 45m', '21h 45m', '8h 55m', '13h 25m', '5h 30m', '2h 50m', '3h', '9h 30m', '2h 45m', '24h 30m', '2h 50m', '2h 55m', '19h 5m', '2h 50m', '2h 30m', '7h 55m', '2h 50m', '1h 15m', '7h 45m', '3h', '2h 45m', '19h 25m', '24h 10m', '4h 55m', '25h', '2h 15m', '14h 10m', '8h', '7h 50m', '2h 45m', '2h 30m', '16h 15m', '15h 40m', '18h 20m', '16h 15m', '19h 5m', '9h 30m', '5h', '19h 15m', '27h 35m', '14h 35m', '4h 40m', '13h 25m', '7h 35m', '14h', '2h 45m', '18h 25m', '21h 25m', '6h 35m', '11h', '1h 30m', '5h 20m', '3h', '28h 5m', '2h 40m', '2h 15m', '1h 15m', '24h 15m', '9h 20m', '2h 40m', '3h', '3h', '2h 45m', '5h 45m', '15h', '23h 50m', '2h 50m', '16h 5m', '9h 5m', '23h 15m', '21h 15m', '11h 5m', '22h', '2h 45m', '31h 30m', '1h 25m', '19h 55m', '5h 5m', '6h 15m', '5h 55m', '2h 55m', '21h 35m', '15h 10m', '25h 30m', '17h 5m', '2h 35m', '25h 40m', '5h 45m', '3h 5m', '9h 5m', '8h', '5h 50m', '13h 25m', '2h 20m', '9h 30m', '27h 10m', '2h 40m', '20h 10m', '21h 10m', '2h 50m', '24h', '15h 15m', '10h 30m', '4h 50m', '6h 5m', '2h 55m', '21h 35m', '9h 20m', '27h 20m', '2h 35m', '5h 15m', '4h 35m', '7h 30m', '2h 45m', '24h 30m', '7h 15m', '11h 55m', '8h 10m', '15h 40m', '10h 30m', '1h 25m', '10h 35m', '4h 55m', '21h 45m', '24h 5m', '2h 35m', '2h 35m', '10h 55m', '6h 20m', '7h 30m', '2h 45m', '22h 55m', '2h 50m', '2h 55m', '2h 45m', '3h', '11h 40m', '26h 15m', '27h', '11h 5m', '25h 45m', '1h 25m', '21h 25m', '1h 25m', '12h 20m', '5h 30m', '20h 35m', '9h 15m', '6h 30m', '2h 55m', '13h 50m', '22h 45m', '14h 35m', '3h 5m', '2h 20m', '6h 55m', '19h 55m', '18h 45m', '2h 50m', '13h 25m', '2h 55m', '2h 55m', '2h 45m', '5h 45m', '14h 45m', '2h 20m', '18h 20m', '13h', '2h 45m', '8h', '29h 5m', '10h 10m', '2h 35m', '15h 40m', '13h 20m', '2h 50m', '25h 45m', '2h 20m', '13h', '4h 25m', '2h 50m', '22h 10m', '4h 30m', '13h 20m', '20h 20m', '3h 15m', '2h 35m', '2h 35m', '4h 50m', '10h', '2h 50m', '11h 45m', '2h 35m', '2h 40m', '22h 10m', '25h 15m', '8h 55m', '6h 25m', '3h', '19h 25m', '28h 5m', '2h 50m', '2h 50m', '25h 5m', '21h 35m', '21h 35m', '13h', '7h 15m', '15h 55m', '7h 35m', '13h 20m', '2h 50m', '7h', '12h 30m', '10h 50m', '1h 30m', '2h 35m', '2h 45m', '5h 40m', '2h 55m', '12h 25m', '2h 20m', '1h 20m', '20h 15m', '11h 35m', '27h 45m', '26h 10m', '5h 5m', '2h 55m', '23h 35m', '24h 10m', '3h', '7h', '21h 35m', '10h 25m', '15h 55m', '28h 20m', '2h 50m', '7h 20m', '2h 25m', '2h 35m', '3h 5m', '1h 30m', '2h 20m', '8h 40m', '30h', '3h', '25h 40m', '2h 55m', '2h 55m', '20h 10m', '6h 25m', '2h 50m', '27h 45m', '2h 45m', '13h 25m', '3h 40m', '18h 20m', '2h 25m', '11h 25m', '21h 40m', '30h 30m', '11h', '7h 30m', '22h 40m', '1h 30m', '2h 45m', '13h 15m', '13h 55m', '9h 30m', '30h 20m', '1h 15m', '34h 30m', '3h 5m', '13h 45m', '23h', '1h 25m', '14h 55m', '16h 45m', '26h 50m', '13h 20m', '8h', '8h', '21h 20m', '18h 20m', '2h 40m', '9h 35m', '15h 10m', '9h 50m', '20h 25m', '23h 50m', '10h 35m', '13h 20m', '14h 15m', '14h 20m', '24h 35m', '3h', '1h 20m', '8h', '2h 55m', '5h 5m', '7h 20m', '6h 30m', '21h 45m', '13h 20m', '18h 25m', '22h', '25h 30m', '17h 25m', '2h 20m', '1h 30m', '15h 30m', '14h 25m', '2h 55m', '14h 35m', '4h 55m', '7h 35m', '9h 50m', '14h 40m', '8h 30m', '2h 50m', '14h 35m', '2h 35m', '2h 55m', '9h 35m', '13h', '25h 55m', '25h 35m', '2h 15m', '24h 30m', '1h 25m', '10h', '2h 50m', '2h 50m', '1h 30m', '12h', '1h 30m', '21h 20m', '1h 30m', '12h 35m', '16h 45m', '13h', '28h', '2h 50m', '17h 10m', '9h 30m', '10h 20m', '7h 55m', '14h', '2h 20m', '14h 25m', '2h 35m', '23h 30m', '16h 40m', '2h 45m', '2h 50m', '26h 35m', '12h 15m', '10h 20m', '15h 25m', '9h', '2h 50m', '11h 20m', '2h 55m', '7h 40m', '11h', '2h 35m', '5h 50m', '3h 10m', '25h 35m', '6h 15m', '2h 15m', '14h 5m', '2h 55m', '8h 20m', '19h 55m', '21h 25m', '4h 55m', '3h', '3h', '2h 55m', '5h 15m', '23h', '18h 20m', '2h 50m', '2h 55m', '9h 30m', '1h 25m', '7h 45m', '12h 55m', '2h 40m', '2h 35m', '2h 50m', '15h 20m', '2h 55m', '9h', '20h 25m', '13h', '2h 50m', '15h 55m', '12h 45m', '19h 25m', '6h 40m', '24h 10m', '10h 20m', '2h 55m', '11h 5m', '19h 30m', '8h 20m', '7h 5m', '24h 40m', '3h 40m', '23h', '14h 5m', '7h 20m', '1h 25m', '7h 30m', '2h 20m', '16h', '2h 35m', '12h 10m', '1h 30m', '3h 5m', '8h 5m', '2h 55m', '21h 20m', '11h 45m', '1h 30m', '3h', '4h 40m', '15h 20m', '2h 40m', '21h 35m', '25h 25m', '2h 30m', '1h 25m', '8h 40m', '19h 55m', '17h 5m', '1h 30m', '14h 25m', '26h 10m', '2h 30m', '10h 15m', '6h 25m', '11h 15m', '2h 35m', '27h 45m', '7h 35m', '10h 40m', '1h 25m', '2h 55m', '1h 20m', '2h 50m', '2h 45m', '5h 15m', '8h 45m', '18h 45m', '14h 20m', '1h 30m', '2h 30m', '26h 35m', '9h 30m', '7h 30m', '20h 10m', '5h 30m', '12h 45m', '2h 20m', '8h 40m', '7h 5m', '14h 50m', '19h 40m', '1h 30m', '13h 55m', '3h 5m', '5h 20m', '2h 35m', '14h 25m', '5h', '14h 5m', '9h', '2h 20m', '2h 20m', '1h 30m', '2h 50m', '11h 5m', '11h 25m', '2h 40m', '11h 45m', '2h 20m', '9h', '22h 30m', '10h 35m', '11h 45m', '2h 20m', '1h 20m', '7h 15m', '21h 35m', '9h 5m', '11h 15m', '23h 20m', '2h 35m', '13h 30m', '8h 10m', '7h 15m', '2h 50m', '19h 25m', '21h 25m', '12h 20m', '2h 25m', '28h 15m', '2h 50m', '2h 55m', '2h 25m', '20h 55m', '6h', '8h 20m', '3h', '9h 20m', '2h 40m', '4h 15m', '18h 35m', '8h 40m', '2h 55m', '24h 45m', '24h 45m', '2h 20m', '1h 30m', '2h 35m', '23h', '15h 30m', '2h 15m', '3h 5m', '2h 50m', '20h', '17h 5m', '12h 45m', '24h 10m', '1h 30m', '26h 50m', '12h 25m', '9h 30m', '6h 25m', '1h 30m', '16h 15m', '24h 45m', '6h 20m', '21h 40m', '5h 15m', '27h', '19h 40m', '14h 35m', '3h 40m', '2h 50m', '7h 5m', '2h 55m', '10h', '33h 15m', '7h 45m', '2h 45m', '1h 20m', '12h 45m', '4h 30m', '8h 40m', '1h 20m', '1h 25m', '17h 20m', '12h 10m', '13h 30m', '1h 30m', '22h', '25h', '2h 15m', '1h 30m', '23h 30m', '13h 50m', '13h 30m', '2h 35m', '11h 30m', '3h', '2h 55m', '2h 45m', '9h 45m', '6h 40m', '10h 55m', '2h 15m', '27h 10m', '7h 15m', '8h 20m', '15h 40m', '13h 45m', '21h 25m', '1h 30m', '7h', '6h 10m', '14h 55m', '1h 30m', '19h 30m', '2h 55m', '1h 30m', '2h 55m', '12h 40m', '19h 55m', '2h 35m', '21h 35m', '5h 30m', '25h 30m', '26h 20m', '9h 10m', '8h 10m', '2h 25m', '8h 10m', '2h 30m', '23h 30m', '10h 40m', '2h 55m', '9h 50m', '2h 15m', '28h 5m', '17h 50m', '16h 30m', '25h 45m', '22h 45m', '2h 50m', '11h 45m', '1h 30m', '16h 45m', '9h 5m', '5h 30m', '7h 15m', '17h 25m', '13h 30m', '6h 30m', '2h 50m', '2h 55m', '2h 50m', '2h 20m', '2h 30m', '12h 10m', '8h 30m', '2h 50m', '2h 45m', '3h', '16h', '2h 35m', '2h 25m', '23h 35m', '22h 55m', '2h 15m', '3h 15m', '6h 5m', '5h 5m', '2h 20m', '26h 35m', '1h 30m', '2h 45m', '2h 50m', '11h 25m', '18h 50m', '2h 35m', '14h 20m', '2h 45m', '12h 10m', '5h', '11h', '2h 20m', '3h', '19h 40m', '9h 30m', '2h 30m', '2h 50m', '2h 20m', '2h 45m', '16h 55m', '4h 30m', '25h 20m', '22h', '22h 45m', '9h 20m', '2h 55m', '2h 45m', '2h 40m', '2h 35m', '21h 10m', '8h 20m', '23h 30m', '16h 55m', '5h 30m', '2h 25m', '24h 55m', '2h 55m', '27h 5m', '11h 45m', '2h 50m', '21h 15m', '5h 20m', '5h 45m', '11h 15m', '12h 55m', '21h 15m', '9h 30m', '12h 30m', '6h 35m', '3h', '14h 10m', '2h 35m', '2h 35m', '14h 40m', '7h 45m', '2h 50m', '13h 30m', '1h 25m', '25h 45m', '21h 35m', '11h', '7h 30m', '3h 15m', '2h 35m', '5h 50m', '2h 20m', '22h 55m', '11h 40m', '2h 35m', '2h 25m', '24h', '3h', '10h 35m', '36h 10m', '2h 25m', '2h 35m', '11h 30m', '2h 55m', '2h 50m', '8h 55m', '5h 15m', '12h 15m', '26h 40m', '8h 55m', '1h 20m', '23h 5m', '2h 15m', '8h 40m', '2h 30m', '5h 5m', '16h 55m', '15h 15m', '18h 45m', '20h 55m', '10h', '10h 15m', '5h 40m', '28h 20m', '6h 30m', '15h 55m', '10h 40m', '26h 35m', '25h 45m', '5h 55m', '19h 45m', '9h 15m', '2h 40m', '11h 5m', '10h 15m', '2h 30m', '7h 30m', '6h 10m', '8h 30m', '2h 45m', '2h 35m', '4h 55m', '9h 20m', '12h 45m', '24h 50m', '9h 20m', '2h 55m', '2h 30m', '17h 55m', '2h 50m', '2h 30m', '3h', '16h 50m', '1h 30m', '6h', '2h 45m', '14h 15m', '11h 5m', '2h 40m', '20h 10m', '24h 55m', '3h', '9h 50m', '12h 30m', '2h 50m', '9h 35m', '12h', '2h 15m', '2h 50m', '1h 25m', '2h 35m', '9h 50m', '14h 45m', '12h 10m', '23h 45m', '21h 35m', '17h 55m', '2h 40m', '2h 25m', '2h 50m', '5h 30m', '14h 10m', '14h 5m', '14h 5m', '2h 45m', '5h 25m', '3h 40m', '9h 30m', '8h 40m', '9h 10m', '15h 20m', '3h 15m', '9h 50m', '23h 20m', '21h 5m', '10h 30m', '6h 35m', '1h 30m', '5h 15m', '10h 25m', '5h 5m', '9h', '2h 55m', '7h 15m', '15h 30m', '11h', '23h 30m', '15h', '3h', '29h 35m', '4h 25m', '11h', '2h 35m', '8h 20m', '2h 45m', '11h', '1h 30m', '10h 30m', '2h 45m', '13h 30m', '2h 50m', '25h 20m', '22h 5m', '9h 5m', '25h 30m', '13h 30m', '2h 50m', '5h 5m', '6h 15m', '2h 45m', '2h 35m', '5h 20m', '17h 30m', '14h 30m', '6h 15m', '22h 5m', '1h 30m', '3h', '3h 10m', '5h 45m', '9h 15m', '2h 20m', '14h 55m', '2h 50m', '10h 5m', '14h 50m', '7h 15m', '25h 55m', '27h 35m', '3h 15m', '25h 30m', '2h 35m', '2h 45m', '1h 20m', '11h 45m', '9h', '12h 50m', '2h 55m', '6h 15m', '23h 10m', '14h 20m', '10h 15m', '27h 50m', '3h 5m', '2h 30m', '26h 35m', '11h 50m', '7h 20m', '1h 25m', '2h 50m', '2h 15m', '2h 55m', '3h', '16h 50m', '24h 50m', '16h 5m', '2h 20m', '13h 20m', '7h 30m', '18h 20m', '2h 50m', '25h 35m', '1h 35m', '21h 25m', '38h 35m', '2h 55m', '27h 40m', '27h 35m', '11h 15m', '1h 25m', '12h', '1h 30m', '1h 30m', '15h 50m', '37h 25m', '8h 25m', '26h 20m', '10h 25m', '10h 25m', '2h 15m', '8h 55m', '14h 45m', '7h 15m', '12h 35m', '3h', '2h 35m', '2h 55m', '9h 30m', '7h 35m', '2h 25m', '7h 20m', '6h 25m', '26h 10m', '9h 15m', '8h 25m', '11h', '3h', '19h 25m', '5h 25m', '2h 50m', '2h 45m', '8h 20m', '2h 15m', '8h', '2h 40m', '1h 30m', '12h 35m', '1h 15m', '10h 25m', '3h', '23h 55m', '16h 5m', '5h 20m', '24h 35m', '4h 55m', '6h 10m', '1h 30m', '2h 20m', '5h 15m', '7h 5m', '12h 30m', '2h 45m', '6h 15m', '20h', '3h 15m', '8h', '7h 40m', '13h 30m', '22h 45m', '2h 35m', '22h 45m', '10h 15m', '13h 30m', '2h 30m', '5h 15m', '6h 35m', '16h 5m', '3h', '9h 50m', '23h', '2h 50m', '5h 20m', '11h', '14h 50m', '23h 30m', '36h 10m', '20h 55m', '3h 15m', '3h 15m', '9h 20m', '5h 15m', '1h 30m', '7h 30m', '2h 35m', '14h 20m', '21h 20m', '10h 30m', '24h 45m', '3h 15m', '22h 15m', '27h 20m', '6h', '2h 50m', '7h 50m', '5h', '3h 15m', '2h 50m', '2h 40m', '21h 55m', '8h 40m', '1h 30m', '15h 30m', '8h 40m', '6h 20m', '5h 35m', '12h 30m', '2h 50m', '11h 35m', '3h 5m', '26h 30m', '9h', '2h 45m', '13h 20m', '20h 15m', '8h 15m', '1h 25m', '10h 30m', '20h', '22h 25m', '9h', '1h 30m', '5h 20m', '17h 5m', '13h 30m', '13h 25m', '2h 15m', '11h 50m', '2h 30m', '8h', '11h 20m', '13h 30m', '13h 55m', '20h 55m', '10h 40m', '27h 5m', '3h', '18h 50m', '22h 55m', '11h 15m', '2h 40m', '20h 10m', '15h 10m', '25h 55m', '5h', '29h 50m', '7h 35m', '2h 50m', '28h 20m', '21h 40m', '22h 45m', '24h 10m', '7h 5m', '12h 40m', '2h 25m', '2h 45m', '24h 35m', '19h', '2h 40m', '3h', '23h 55m', '11h 5m', '1h 30m', '2h 50m', '2h 40m', '5h 10m', '27h 5m', '14h', '2h 55m', '4h 50m', '10h', '5h 55m', '12h 45m', '15h 15m', '12h 25m', '10h', '3h', '2h 30m', '10h 20m', '27h 5m', '1h 30m', '16h 15m', '13h 50m', '2h 35m', '23h', '3h 5m', '3h', '3h', '2h 30m', '1h 30m', '20h', '2h 40m', '2h 20m', '2h 40m', '8h 30m', '2h 45m', '7h 15m', '2h 25m', '2h 20m', '7h 30m', '4h 25m', '2h 50m', '14h', '2h 55m', '13h 50m', '2h 55m', '20h 25m', '23h 40m', '9h', '7h 15m', '2h 55m', '17h 55m', '8h 15m', '9h 15m', '16h 5m', '2h 45m', '2h 50m', '11h 35m', '5h 20m', '1h 25m', '15h', '2h 35m', '20h 10m', '2h 50m', '2h 35m', '2h 50m', '5h 20m', '38h 15m', '4h 25m', '15h 15m', '12h 45m', '25h 5m', '12h 30m', '9h 35m', '1h 30m', '9h 20m', '11h 50m', '6h 25m', '5h 15m', '7h 30m', '1h 30m', '11h 55m', '7h 20m', '22h 45m', '2h 45m', '11h 30m', '26h 20m', '42h 5m', '13h 20m', '4h 25m', '2h 30m', '13h 50m', '4h 50m', '7h', '3h 15m', '20h 20m', '2h 45m', '2h 20m', '2h 50m', '2h 30m', '3h 5m', '24h 35m', '30h 40m', '13h 20m', '2h 35m', '2h 35m', '7h 50m', '26h 35m', '29h 35m', '5h 30m', '16h 5m', '11h 50m', '12h 30m', '15h 5m', '30h 20m', '2h 50m', '26h 20m', '27h 5m', '28h', '21h 15m', '27h 40m', '26h 10m', '4h 50m', '2h 25m', '1h 25m', '4h 35m', '1h 30m', '4h 50m', '27h 35m', '5h', '17h 20m', '10h', '8h', '3h 5m', '2h 35m', '7h 20m', '23h 30m', '26h 55m', '9h 30m', '23h 35m', '28h 50m', '13h 20m', '16h 5m', '13h 55m', '2h 50m', '6h 30m', '12h 55m', '2h 25m', '2h 55m', '2h 55m', '7h 5m', '2h 30m', '2h 40m', '7h 15m', '12h', '2h 50m', '2h 25m', '2h 30m', '21h 5m', '13h 30m', '15h 20m', '2h 55m', '3h', '15h 10m', '7h 35m', '2h 20m', '2h 20m', '13h 50m', '1h 30m', '15h 55m', '6h', '2h 35m', '22h 25m', '7h 40m', '23h 5m', '2h 20m', '2h 30m', '2h 45m', '21h 35m', '2h 15m', '2h 40m', '6h 15m', '23h 5m', '9h 50m', '3h', '11h 5m', '21h 40m', '10h 30m', '3h 5m', '5h 5m', '2h 25m', '6h', '4h 5m', '38h 35m', '2h 15m', '11h 30m', '16h 35m', '14h 25m', '2h 55m', '3h', '6h 20m', '16h 5m', '5h 45m', '2h 50m', '9h', '12h 45m', '2h 55m', '15h 20m', '7h 15m', '10h 25m', '12h 30m', '2h 30m', '2h 30m', '19h 30m', '2h 50m', '22h', '2h 50m', '29h 55m', '13h 5m', '37h 20m', '13h 15m', '3h', '9h 30m', '30h 45m', '12h 10m', '14h 5m', '4h 40m', '8h 5m', '15h 10m', '5h 45m', '1h 30m', '13h 10m', '2h 30m', '8h 55m', '2h 55m', '2h 55m', '7h 5m', '1h 20m', '18h', '28h 40m', '7h 35m', '10h 40m', '24h 50m', '2h 50m', '22h 10m', '11h 40m', '5h 15m', '11h 25m', '13h 30m', '9h', '6h 35m', '2h 55m', '2h 30m', '12h 30m', '2h 40m', '2h 35m', '5h 45m', '22h 10m', '25h 20m', '2h 15m', '33h 15m', '22h 45m', '8h', '7h 40m', '2h 35m', '13h 20m', '3h 5m', '25h', '21h 35m', '26h 55m', '6h', '9h', '2h 50m', '15h', '12h 25m', '2h 50m', '1h 30m', '14h 10m', '2h 45m', '8h 35m', '21h 15m', '1h 20m', '25h 30m', '25h 50m', '25h 40m', '6h 35m', '3h', '2h 50m', '11h 5m', '2h 50m', '2h 25m', '17h 40m', '3h', '3h', '9h 35m', '5h 30m', '17h 55m', '16h 15m', '2h 50m', '9h 40m', '15h 55m', '1h 25m', '5h 20m', '13h 5m', '22h 55m', '2h 25m', '8h 30m', '23h 40m', '2h 45m', '2h 55m', '7h 30m', '13h 55m', '19h 25m', '15h 10m', '10h 10m', '11h 30m', '2h 50m', '6h 15m', '21h 55m', '11h 45m', '8h', '11h 30m', '18h 20m', '2h 25m', '8h 55m', '2h 30m', '17h 40m', '11h 35m', '5h 15m', '1h 30m', '3h', '9h', '2h 45m', '25h 45m', '3h', '10h 35m', '15h', '2h 45m', '2h 15m', '16h 55m', '25h 45m', '14h 55m', '9h 5m', '14h 5m', '8h', '4h 10m', '10h 30m', '16h 45m', '8h 30m', '3h 40m', '23h 50m', '2h 30m', '21h 50m', '10h 15m', '2h 25m', '6h 40m', '10h 15m', '25h 15m', '2h 50m', '11h 10m', '2h 50m', '13h 20m', '12h 45m', '10h 30m', '2h 40m', '7h 35m', '12h', '26h 10m', '14h 45m', '23h 15m', '5h 30m', '2h 35m', '1h 35m', '10h 10m', '10h 50m', '3h 5m', '2h 20m', '11h 45m', '10h 10m', '11h 40m', '28h 15m', '9h', '24h 45m', '19h 10m', '1h 30m', '26h 35m', '12h 15m', '7h 50m', '12h 45m', '2h 40m', '2h 50m', '2h 30m', '1h 20m', '24h 45m', '7h 30m', '9h', '2h 50m', '8h', '14h 40m', '17h 25m', '14h 45m', '2h 45m', '26h 55m', '12h 10m', '2h 50m', '12h 30m', '6h 30m', '14h 25m', '16h 55m', '3h 15m', '2h 30m', '14h 25m', '1h 30m', '25h 45m', '19h 30m', '22h 55m', '11h 5m', '20h 55m', '6h 35m', '21h 20m', '3h 55m', '2h 50m', '12h 45m', '2h 50m', '6h 35m', '2h 20m', '2h 55m', '2h 20m', '12h', '14h 25m', '2h 15m', '13h 30m', '25h 45m', '2h 50m', '24h 50m', '12h 35m', '11h 50m', '26h 55m', '8h 50m', '19h 25m', '12h 15m', '7h 35m', '19h 30m', '5h 20m', '8h 20m', '2h 45m', '28h 50m', '13h 20m', '23h 45m', '19h', '22h 30m', '2h 35m', '2h 15m', '5h 30m', '2h 35m', '39h 5m', '9h', '12h 30m', '4h 25m', '8h 55m', '12h', '9h 15m', '2h 35m', '16h', '27h 40m', '6h 30m', '12h 10m', '5h 15m', '2h 50m', '12h 45m', '8h 5m', '26h 55m', '19h 25m', '6h 30m', '1h 25m', '11h 45m', '10h 40m', '16h 25m', '2h 50m', '13h 30m', '5h 40m', '3h 50m', '1h 30m', '10h 30m', '2h 45m', '2h 35m', '1h 30m', '12h 35m', '5h 45m', '3h 5m', '2h 55m', '5h 50m', '4h 45m', '2h 55m', '12h 15m', '8h 25m', '27h 35m', '2h 30m', '8h 40m', '2h 55m', '3h', '17h 20m', '2h 35m', '4h 55m', '2h 50m', '16h 15m', '5h 45m', '7h 50m', '2h 50m', '27h 35m', '14h 25m', '27h 45m', '6h 25m', '15h 10m', '3h 35m', '12h 15m', '5h 5m', '4h 55m', '3h 5m', '3h 40m', '22h 15m', '10h 30m', '2h 35m', '12h 55m', '2h 35m', '2h 50m', '7h 45m', '28h 5m', '12h 25m', '2h 45m', '25h 5m', '2h 35m', '13h', '20h 35m', '21h 35m', '9h 50m', '12h 45m', '24h 45m', '1h 30m', '13h 45m', '4h 20m', '22h 30m', '2h 55m', '1h 20m', '14h 25m', '7h 15m', '3h', '3h 10m', '3h 5m', '17h 25m', '14h 45m', '6h 10m', '2h 30m', '2h 55m', '2h 55m', '18h 25m', '22h 30m', '8h', '28h 5m', '13h 45m', '2h 55m', '2h 55m', '2h 20m', '8h 25m', '28h 40m', '24h 55m', '1h 30m', '11h 15m', '5h 5m', '1h 30m', '24h 35m', '26h 50m', '9h 20m', '1h 30m', '24h 45m', '10h 30m', '13h 30m', '5h 45m', '26h 25m', '6h 5m', '11h 30m', '16h', '13h 20m', '22h 55m', '3h 10m', '13h 20m', '9h 50m', '1h 30m', '3h 50m', '7h 50m', '5h 55m', '1h 15m', '4h 55m', '9h 30m', '7h 30m', '2h 15m', '2h 30m', '17h 20m', '14h', '2h 20m', '20h 25m', '1h 30m', '2h 45m', '23h 50m', '12h 5m', '2h 45m', '11h 30m', '9h 30m', '5m', '2h 50m', '38h 35m', '5h 30m', '26h 30m', '2h 55m', '1h 30m', '4h 25m', '1h 25m', '1h 25m', '4h', '2h 55m', '5h 5m', '2h 40m', '8h 25m', '2h 50m', '13h', '9h 30m', '20h 25m', '2h 40m', '30h', '14h 50m', '2h 40m', '2h 50m', '2h 35m', '24h', '13h 20m', '9h 35m', '1h 25m', '9h 45m', '16h 45m', '2h 45m', '11h', '8h 15m', '2h 20m', '4h 25m', '24h 35m', '3h', '21h 40m', '1h 35m', '2h 40m', '16h 15m', '12h 55m', '2h 40m', '11h 45m', '2h 20m', '2h 45m', '2h 50m', '3h 15m', '3h 15m', '2h 45m', '17h 5m', '2h 40m', '3h 15m', '2h 50m', '11h 55m', '14h 10m', '2h 35m', '23h 35m', '11h 45m', '2h 55m', '1h 30m', '7h 5m', '2h 20m', '14h', '1h 25m', '10h 40m', '9h 30m', '25h 45m', '12h', '2h 50m', '2h 50m', '21h 20m', '13h 20m', '6h 35m', '3h 15m', '1h 30m', '5h 35m', '8h', '2h 45m', '2h 55m', '9h 50m', '5h 45m', '25h 45m', '2h 50m', '22h 25m', '11h 55m', '7h 30m', '3h 5m', '2h 35m', '7h 30m', '7h 30m', '14h 5m', '14h 45m', '22h 15m', '6h 15m', '6h 30m', '2h 55m', '2h 30m', '1h 15m', '4h 5m', '8h 25m', '14h 50m', '17h 35m', '3h', '2h 50m', '18h 45m', '2h 35m', '1h 25m', '27h 10m', '2h 35m', '5h 45m', '6h 25m', '9h 30m', '8h 50m', '5h 55m', '5h 5m', '6h 35m', '2h 35m', '2h 55m', '2h 50m', '11h 15m', '7h 55m', '9h', '23h 20m', '13h 55m', '10h 25m', '6h 35m', '7h 20m', '10h 25m', '12h 25m', '14h 20m', '12h 5m', '3h', '3h', '17h 25m', '27h 10m', '8h 55m', '15h', '2h 45m', '2h 50m', '11h', '15h 40m', '4h', '23h 45m', '14h 5m', '14h 25m', '2h 55m', '2h 35m', '11h 45m', '13h 30m', '2h 30m', '12h 30m', '5h 55m', '15h 55m', '2h 50m', '2h 35m', '3h', '8h 40m', '3h', '15h 40m', '7h 20m', '2h 50m', '2h 45m', '8h 25m', '4h 25m', '7h 40m', '20h 35m', '7h', '25h 30m', '2h 40m', '13h 45m', '13h', '3h', '26h 10m', '13h 30m', '10h 15m', '14h 55m', '4h 50m', '14h 55m', '2h 55m', '13h 50m', '2h 15m', '2h 45m', '21h 15m', '16h 30m', '3h', '14h 30m', '16h', '10h 55m', '5h', '1h 25m', '6h 30m', '16h 5m', '23h 10m', '27h 40m', '26h 55m', '25h 55m', '16h 5m', '2h 45m', '2h 55m', '13h 10m', '2h 55m', '13h', '10h 40m', '9h 15m', '10h 30m', '23h 35m', '16h 50m', '13h 40m', '22h', '17h 45m', '10h 20m', '1h 30m', '17h 5m', '21h 35m', '12h 10m', '13h', '1h 20m', '8h 55m', '14h 10m', '2h 25m', '3h', '7h 55m', '2h 20m', '16h 5m', '2h 25m', '9h 15m', '13h 10m', '2h 55m', '2h 35m', '3h', '2h 45m', '4h', '5h', '1h 30m', '19h 5m', '2h 30m', '7h 20m', '4h 30m', '1h 30m', '10h 35m', '2h 15m', '1h 30m', '14h 35m', '3h', '2h 20m', '10h 55m', '7h 55m', '27h 35m', '1h 30m', '12h 40m', '13h 50m', '1h 30m', '3h 15m', '6h 35m', '19h 55m', '2h 50m', '5h 45m', '2h 30m', '10h 20m', '8h 55m', '2h 50m', '2h 20m', '3h', '6h 35m', '15h', '4h 50m', '13h 50m', '26h 5m', '2h 50m', '14h 45m', '6h 55m', '26h 30m', '24h 30m', '10h 25m', '9h 35m', '2h 20m', '2h 50m', '2h 30m', '15h 30m', '16h 10m', '2h 20m', '17h 5m', '18h 45m', '5h', '14h 20m', '8h 25m', '5h 10m', '12h 15m', '9h 15m', '9h 50m', '2h 35m', '20h 15m', '16h 50m', '17h 45m', '2h 45m', '1h 30m', '16h 20m', '2h 50m', '9h 50m', '15h', '15h 10m', '8h 20m', '25h 35m', '2h 15m', '14h', '2h 50m', '24h 55m', '14h 30m', '13h', '1h 15m', '7h 35m', '27h 40m', '2h 50m', '7h 20m', '1h 30m', '2h 55m', '2h 30m', '26h 20m', '2h 40m', '3h', '2h 35m', '25h 55m', '6h 30m', '12h 25m', '5h 15m', '21h 10m', '2h 45m', '3h', '29h 5m', '2h 55m', '15h 30m', '7h 5m', '18h 45m', '2h 15m', '2h 40m', '7h 50m', '27h 40m', '24h 40m', '7h 15m', '12h 25m', '6h 15m', '8h', '6h 10m', '21h 40m', '15h 20m', '9h 45m', '23h 50m', '13h 25m', '14h 5m', '13h', '2h 35m', '3h 15m', '9h 30m', '32h 5m', '2h 30m', '2h 30m', '23h', '15h 30m', '11h 35m', '23h', '2h 35m', '1h 30m', '8h 35m', '2h 55m', '2h 45m', '17h 15m', '2h 50m', '3h', '20h 20m', '15h 40m', '2h 50m', '1h 30m', '2h 15m', '32h 30m', '14h 10m', '9h 35m', '20h 10m', '7h 30m', '4h 5m', '11h 15m', '2h 45m', '2h 35m', '9h 20m', '2h 35m', '8h 10m', '2h 55m', '8h 20m', '2h 35m', '3h', '4h 55m', '5h', '8h 55m', '6h 25m', '5h', '24h 5m', '3h', '2h 30m', '20h 10m', '15h 30m', '1h 30m', '1h 20m', '1h 20m', '2h 35m', '1h 30m', '3h 5m', '2h 55m', '4h 25m', '2h 50m', '38h', '12h 55m', '9h 20m', '11h 25m', '2h 55m', '6h 5m', '2h 35m', '2h 50m', '20h 45m', '7h 5m', '15h', '14h 5m', '23h 15m', '14h 50m', '26h 35m', '9h', '2h 45m', '18h 10m', '2h 15m', '13h 20m', '9h 20m', '26h 45m', '3h 5m', '2h 35m', '2h 30m', '9h 40m', '5h 15m', '2h 40m', '12h 45m', '2h 45m', '19h 55m', '11h 15m', '25h 20m', '2h 50m', '2h 55m', '2h 20m', '15h 10m', '26h 20m', '9h 5m', '2h 50m', '10h 25m', '6h 25m', '15h 5m', '13h 30m', '27h 35m', '4h 25m', '14h 30m', '23h 40m', '24h', '13h 20m', '2h 45m', '1h 30m', '2h 50m', '25h 30m', '11h 50m', '28h', '17h 15m', '10h', '2h 20m', '2h 50m', '12h 45m', '12h 25m', '2h 35m', '8h 20m', '2h 25m', '15h 10m', '5h 30m', '13h 30m', '5h 20m', '10h 40m', '17h 5m', '9h 15m', '11h 25m', '2h 30m', '12h 30m', '28h 50m', '2h 55m', '9h 15m', '24h 55m', '3h 40m', '9h 30m', '11h', '2h 45m', '25h 5m', '23h 35m', '1h 30m', '19h 5m', '3h 15m', '29h 35m', '22h 45m', '28h 20m', '2h 35m', '2h 20m', '2h 30m', '2h 35m', '2h 50m', '24h', '2h 50m', '8h 40m', '2h 50m', '16h', '18h 50m', '22h', '32h 5m', '20h 55m', '4h 50m', '2h 50m', '12h 40m', '23h 50m', '14h 55m', '1h 20m', '17h 5m', '1h 25m', '26h 50m', '2h 35m', '3h', '21h 15m', '35h 15m', '7h 30m', '2h 55m', '2h 50m', '7h 5m', '12h 15m', '2h 50m', '2h 20m', '1h 30m', '22h 30m', '8h 20m', '2h 20m', '6h 25m', '18h 25m', '15h 25m', '21h 20m', '9h 15m', '2h 20m', '6h 15m', '2h 35m', '10h 40m', '13h 55m', '1h 25m', '2h 45m', '2h 25m', '2h 45m', '3h', '2h 30m', '26h 30m', '14h 20m', '13h 25m', '8h 45m', '5h 20m', '5h 5m', '2h 45m', '3h 15m', '26h 50m', '12h 45m', '1h 30m', '2h 35m', '2h 55m', '2h 30m', '9h 20m', '26h 10m', '1h 20m', '7h 15m', '2h 35m', '5h 10m', '6h 15m', '8h 5m', '9h 20m', '7h 30m', '7h 45m', '2h 50m', '5h 45m', '12h 10m', '6h 40m', '2h 50m', '27h 10m', '7h 15m', '5h 40m', '13h 45m', '21h 5m', '7h 5m', '3h 15m', '2h 50m', '19h 10m', '14h', '24h 30m', '2h 35m', '15h 15m', '2h 20m', '2h 50m', '11h 55m', '19h 30m', '8h 55m', '12h 10m', '2h 45m', '24h 25m', '2h 50m', '19h 45m', '9h 15m', '1h 30m', '2h 50m', '2h 40m', '20h 10m', '9h 50m', '18h 45m', '2h 20m', '2h 45m', '5h 35m', '2h 35m', '7h 35m', '7h 20m', '5h 30m', '1h 25m', '2h 45m', '2h 25m', '5h 20m', '31h 55m', '7h 40m', '28h 20m', '7h 25m', '21h 15m', '16h 5m', '2h 40m', '9h 50m', '2h 45m', '21h 40m', '2h 55m', '11h', '21h 25m', '2h 50m', '28h 40m', '14h 20m', '20h 15m', '12h 10m', '10h 25m', '13h 30m', '5h 10m', '9h', '2h 55m', '11h', '30h 20m', '2h 50m', '4h 40m', '27h 35m', '3h 10m', '2h 50m', '28h 20m', '23h 50m', '12h 45m', '22h', '5h 20m', '2h 55m', '8h 55m', '2h 55m', '4h 45m', '8h 5m', '2h 50m', '9h', '2h 50m', '23h 40m', '2h 20m', '2h 30m', '17h 30m', '11h 30m', '2h 40m', '16h 20m', '15h 20m', '1h 25m', '15h 25m', '2h 50m', '3h', '16h 45m', '18h 10m', '11h 15m', '12h', '11h 30m', '3h', '3h 40m', '2h 35m', '21h 15m', '10h 50m', '3h', '16h 15m', '17h 35m', '9h 35m', '9h', '10h 20m', '2h 35m', '17h 15m', '2h 55m', '2h 15m', '19h 25m', '16h 15m', '5h 5m', '2h 35m', '16h 55m', '8h 40m', '21h 35m', '5h 55m', '13h 30m', '9h 30m', '19h 55m', '2h 45m', '23h 50m', '20h 35m', '37h 25m', '2h 30m', '2h 50m', '15h 45m', '14h 5m', '2h 30m', '8h 25m', '7h 5m', '11h 30m', '23h 15m', '5h 45m', '1h 30m', '5h 30m', '2h 35m', '5h 55m', '11h 5m', '11h 40m', '3h 15m', '3h 5m', '24h', '17h 35m', '22h 55m', '2h 40m', '15h', '1h 20m', '4h 40m', '8h 55m', '16h 5m', '24h 30m', '2h 20m', '8h 40m', '4h 55m', '12h 55m', '1h 30m', '12h 30m', '2h 35m', '17h 55m', '24h 35m', '7h 30m', '2h 55m', '21h 15m', '2h 30m', '3h', '37h 20m', '23h 30m', '13h 15m', '2h 55m', '9h 50m', '2h 50m', '1h 30m', '1h 15m', '21h 35m', '2h 50m', '6h 40m', '13h 25m', '10h 15m', '15h 10m', '18h 20m', '2h 15m', '26h 35m', '26h 25m', '6h 15m', '2h 55m', '13h 20m', '2h 50m', '7h 30m', '1h 30m', '15h 25m', '1h 25m', '7h 30m', '22h 55m', '20h 10m', '3h 15m', '11h 45m', '2h 30m', '9h 10m', '2h 45m', '15h 45m', '18h 25m', '11h 25m', '27h 45m', '15h 25m', '1h 30m', '5h 15m', '7h 15m', '9h 15m', '16h 5m', '25h 40m', '23h 30m', '2h 50m', '9h', '3h', '16h 15m', '2h 50m', '29h 20m', '2h 25m', '2h 30m', '16h 5m', '23h 10m', '2h 45m', '6h 20m', '15h 30m', '12h 10m', '1h 30m', '10h 25m', '12h 40m', '8h 35m', '7h 20m', '23h 40m', '1h 25m', '15h 30m', '16h 50m', '2h 50m', '18h', '7h 20m', '17h 55m', '2h 50m', '38h 15m', '16h 45m', '9h 50m', '6h 35m', '13h 45m', '27h 45m', '6h 20m', '5h 45m', '2h 55m', '5h 20m', '1h 30m', '12h', '15h 10m', '5h 5m', '2h 50m', '7h 20m', '14h 25m', '2h 35m', '3h', '2h 55m', '25h 50m', '16h 50m', '2h 35m', '38h 20m', '14h', '16h 10m', '11h 15m', '13h 15m', '1h 30m', '2h 50m', '7h 30m', '9h 25m', '3h', '5h 15m', '24h 25m', '3h', '5h 30m', '8h 55m', '18h 30m', '22h 55m', '2h 15m', '2h 30m', '10h 25m', '18h 25m', '2h 50m', '8h 20m', '27h', '3h 40m', '14h 25m', '2h 50m', '13h', '2h 20m', '16h 40m', '2h 40m', '2h 35m', '1h 30m', '1h 30m', '2h 50m', '2h 35m', '26h 40m', '7h 30m', '2h 15m', '18h 45m', '20h 15m', '2h 40m', '2h 45m', '5h 25m', '12h', '12h', '5h 15m', '2h 55m', '9h 30m', '2h 30m', '19h 15m', '2h 55m', '5h 50m', '8h 15m', '3h', '26h 55m', '2h 25m', '12h 55m', '14h 5m', '14h 25m', '2h 50m', '2h 55m', '10h 10m', '1h 15m', '23h 25m', '3h 5m', '2h 50m', '8h 40m', '11h 30m', '4h 50m', '29h 55m', '7h 5m', '18h 45m', '30h 20m', '8h 10m', '2h 35m', '2h 30m', '5h 10m', '11h', '10h 15m', '28h 10m', '3h 40m', '2h 50m', '1h 20m', '2h 50m', '2h 30m', '12h 15m', '8h 35m', '1h 35m', '27h', '12h 45m', '13h 30m', '1h 30m', '26h 55m', '5h 25m', '1h 25m', '28h 50m', '11h 45m', '4h 35m', '20h', '14h 55m', '2h 35m', '2h 15m', '2h 50m', '28h 20m', '16h', '23h 15m', '2h 40m', '5h 35m', '2h 20m', '30h 20m', '6h', '16h 50m', '7h', '5h 45m', '2h 50m', '33h 20m', '13h 30m', '21h 35m', '16h 50m', '12h 10m', '2h 40m', '16h 10m', '6h 25m', '19h 55m', '6h 30m', '14h 30m', '11h 50m', '10h 30m', '7h 35m', '23h 30m', '2h 50m', '27h 45m', '9h 30m', '7h 20m', '2h 35m', '3h', '7h 30m', '2h 35m', '27h', '12h', '8h', '26h 35m', '9h 15m', '8h 30m', '16h 50m', '28h 10m', '2h 55m', '2h 50m', '12h 30m', '15h 10m', '1h 30m', '8h 35m', '23h 50m', '16h 50m', '9h 30m', '27h', '2h 20m', '9h 30m', '2h 50m', '2h 50m', '2h 55m', '4h', '22h 5m', '3h', '19h 30m', '21h 35m', '2h 45m', '21h 5m', '27h 10m', '2h 30m', '5h 45m', '2h 45m', '2h 50m', '19h 30m', '2h 55m', '3h 10m', '2h 45m', '11h 35m', '1h 25m', '2h 55m', '2h 55m', '11h', '13h 55m', '2h 45m', '6h 35m', '16h 10m', '2h 20m', '22h 55m', '2h 15m', '1h 30m', '2h 50m', '27h', '3h 40m', '23h 45m', '12h 45m', '7h 20m', '24h 55m', '25h 10m', '10h', '5h 55m', '25h 20m', '10h 20m', '6h 40m', '3h', '25h 30m', '23h', '2h 25m', '12h 40m', '20h 45m', '26h 15m', '2h 25m', '7h 55m', '3h', '2h 55m', '11h 45m', '2h 55m', '7h 50m', '1h 30m', '14h', '2h 50m', '13h 15m', '26h 20m', '12h', '37h 25m', '10h 40m', '9h 35m', '5h 30m', '25h 30m', '1h 30m', '2h 20m', '2h 35m', '7h 5m', '9h 15m', '2h 30m', '1h 30m', '1h 20m', '5h 45m', '8h 25m', '6h', '3h', '2h 20m', '2h 55m', '8h 25m', '2h 35m', '7h 5m', '9h 5m', '6h 20m', '2h 55m', '20h 10m', '2h 25m', '10h 15m', '26h 50m', '14h 20m', '10h 20m', '13h', '5h', '27h 30m', '8h 55m', '24h', '26h 55m', '16h 5m', '18h 55m', '28h 15m', '24h 50m', '3h 10m', '7h 20m', '2h 55m', '2h 25m', '2h 30m', '23h 55m', '11h 5m', '6h 15m', '16h 5m', '1h 25m', '20h 25m', '7h 35m', '5h 10m', '23h 10m', '1h 30m', '12h 45m', '8h 40m', '36h 10m', '38h 35m', '21h 25m', '12h 15m', '12h 40m', '8h', '10h 30m', '26h 20m', '13h 25m', '24h', '9h 5m', '8h 55m', '2h 50m', '13h 20m', '24h', '34h 5m', '15h 25m', '23h 15m', '25h 45m', '10h 25m', '10h', '4h 35m', '2h 55m', '27h 35m', '2h 50m', '1h 30m', '3h 15m', '8h 55m', '6h 55m', '12h 10m', '6h 5m', '16h 25m', '5h 15m', '13h 30m', '13h 20m', '2h 55m', '23h', '20h', '25h 55m', '23h', '7h 15m', '23h 20m', '26h 55m', '8h 10m', '12h 45m', '5h', '2h 15m', '10h 15m', '8h 45m', '7h 15m', '5h 55m', '4h 30m', '2h 20m', '11h 20m', '9h 15m', '13h 30m', '3h', '2h 50m', '2h 20m', '2h 50m', '2h 50m', '27h 20m', '5h 5m', '14h', '12h 20m', '26h 40m', '9h 35m', '2h 35m', '1h 25m', '2h 35m', '23h 40m', '28h 5m', '2h 50m', '16h 5m', '3h 15m', '20h 10m', '12h 35m', '3h', '11h 5m', '16h 5m', '22h 30m', '24h 30m', '15h 30m', '12h 15m', '14h 20m', '22h', '22h 40m', '14h 10m', '15h 45m', '2h 20m', '3h', '14h 35m', '24h 50m', '2h 50m', '5h 15m', '4h 50m', '13h 30m', '12h', '2h 30m', '7h 15m', '10h 25m', '5h 15m', '11h 25m', '9h', '25h 45m', '26h 15m', '8h 40m', '2h 50m', '3h', '2h 30m', '2h 35m', '2h 35m', '2h 15m', '12h 25m', '13h 30m', '2h 40m', '7h 20m', '3h', '5h 40m', '2h 25m', '3h', '4h', '2h 35m', '9h 15m', '2h 55m', '3h', '4h 30m', '17h 35m', '13h 15m', '24h 55m', '7h 15m', '2h 30m', '22h', '2h 50m', '11h 30m', '2h 55m', '12h 25m', '2h 20m', '14h', '30h 30m', '21h 20m', '9h 25m', '19h 30m', '29h 20m', '7h 15m', '8h 15m', '2h 55m', '13h 25m', '1h 15m', '24h 15m', '10h 20m', '20h 55m', '5h 15m', '1h 30m', '2h 50m', '9h', '13h 30m', '2h 45m', '14h 25m', '2h 50m', '21h 5m', '18h 45m', '2h 50m', '6h 55m', '6h 35m', '2h 50m', '5h 30m', '13h 20m', '9h', '10h 15m', '13h 20m', '2h 45m', '2h 45m', '13h 45m', '9h 20m', '2h 20m', '2h 40m', '8h 55m', '2h 50m', '2h 15m', '2h 55m', '24h 30m', '23h 10m', '22h 55m', '9h 20m', '23h 10m', '3h 5m', '18h', '10h 15m', '2h 35m', '25h 25m', '16h 15m', '2h 45m', '2h 55m', '27h 35m', '9h 55m', '2h 40m', '1h 30m', '18h 30m', '21h 25m', '1h 20m', '3h 5m', '2h 30m', '3h', '2h 30m', '25h 35m', '13h 25m', '2h 15m', '2h 15m', '7h 55m', '2h 50m', '10h', '1h 30m', '17h 45m', '2h 45m', '3h', '5h 5m', '15h', '11h 30m', '4h 50m', '11h 50m', '2h 20m', '2h 40m', '1h 25m', '2h 55m', '1h 30m', '3h 10m', '2h 20m', '2h 40m', '2h 45m', '1h 30m', '25h 55m', '2h 45m', '17h 5m', '17h 20m', '23h', '19h 5m', '2h 55m', '8h 25m', '2h 35m', '26h 20m', '2h 25m', '9h 30m', '2h 35m', '24h 40m', '18h 25m', '8h', '2h 20m', '2h 45m', '1h 30m', '2h 20m', '16h', '16h 10m', '2h 55m', '4h 30m', '16h 15m', '5h 30m', '2h 20m', '21h 15m', '5h', '24h 30m', '2h 55m', '11h 45m', '5h 55m', '26h 25m', '38h', '13h 55m', '6h 15m', '17h 25m', '2h 20m', '14h 30m', '2h 20m', '1h 25m', '8h 10m', '7h 55m', '23h 10m', '6h 45m', '2h 50m', '2h 30m', '27h 20m', '2h 45m', '3h', '27h 25m', '10h 15m', '6h 5m', '23h 40m', '9h 40m', '23h 40m', '5h 30m', '2h 45m', '9h 30m', '7h 50m', '22h 30m', '25h 35m', '6h 5m', '41h 20m', '26h', '9h', '22h 10m', '7h 50m', '2h 45m', '13h 30m', '6h 5m', '8h 40m', '11h 20m', '2h 45m', '8h 25m', '5h 30m', '13h 30m', '8h 40m', '7h 30m', '6h 15m', '30h 30m', '15h 55m', '26h 55m', '2h 30m', '14h 35m', '26h 50m', '2h 45m', '2h 50m', '1h 25m', '2h 20m', '16h 50m', '2h 50m', '3h', '4h 40m', '2h 45m', '10h 50m', '4h 55m', '1h 25m', '16h 50m', '27h', '6h', '7h 30m', '11h 25m', '24h 50m', '24h 45m', '8h 5m', '9h 30m', '15h 55m', '13h 20m', '1h 30m', '18h 20m', '2h 20m', '2h 45m', '2h 15m', '5h 30m', '12h 20m', '5h 35m', '26h', '2h 20m', '19h 30m', '2h 50m', '11h', '13h 50m', '3h 15m', '3h', '10h 30m', '2h 50m', '26h 50m', '26h 40m', '23h 45m', '4h 40m', '1h 25m', '5h 20m', '32h 30m', '5h', '27h 5m', '7h 55m', '25h 45m', '5h', '27h 35m', '4h 55m', '18h 20m', '14h 30m', '23h 15m', '2h 35m', '9h 30m', '23h 30m', '2h 20m', '10h 20m', '1h 30m', '8h 25m', '15h 25m', '6h 20m', '2h 55m', '3h 5m', '5h 30m', '5h 30m', '22h 45m', '12h 5m', '2h 30m', '16h 5m', '23h 45m', '4h 35m', '26h', '7h 15m', '24h', '16h 5m', '14h 5m', '23h 15m', '10h', '3h 50m', '20h 10m', '2h 40m', '9h 25m', '2h 15m', '2h 45m', '27h 20m', '15h 10m', '2h 35m', '12h 40m', '25h 15m', '18h 20m', '20h 5m', '2h 40m', '5h 45m', '12h 20m', '26h 25m', '5h 45m', '3h', '18h 50m', '27h 10m', '1h 20m', '15h 40m', '6h 30m', '12h 55m', '5h 45m', '6h 55m', '10h 30m', '20h 25m', '20h 10m', '9h 35m', '2h 35m', '1h 25m', '5h 30m', '16h 50m', '2h 45m', '26h 40m', '11h', '13h 30m', '28h 5m', '11h', '2h 50m', '9h', '15h 15m', '2h 50m', '2h 50m', '5h', '3h', '1h 30m', '2h 45m', '5h 30m', '5h 10m', '33h 15m', '7h 35m', '12h 30m', '21h 50m', '18h 45m', '2h 45m', '24h 45m', '2h 50m', '2h 35m', '5h 5m', '2h 45m', '29h 5m', '14h 25m', '13h 15m', '2h 55m', '7h 45m', '16h 5m', '13h 55m', '11h 30m', '23h 55m', '1h 30m', '21h 35m', '19h 40m', '1h 30m', '10h 20m', '2h 20m', '1h 25m', '2h 50m', '4h 40m', '2h 20m', '24h 55m', '2h 40m', '10h 20m', '9h 30m', '26h', '18h 45m', '1h 30m', '2h 15m', '14h', '8h 45m', '23h 50m', '2h 50m', '19h 5m', '18h 45m', '15h 20m', '1h 30m', '10h 20m', '26h', '2h 20m', '8h', '10h 30m', '1h 25m', '2h 20m', '2h 50m', '9h 30m', '5h 15m', '14h 45m', '2h 45m', '10h 20m', '2h 50m', '9h 25m', '26h 35m', '38h 15m', '13h 25m', '7h 35m', '11h 15m', '1h 25m', '2h 50m', '8h 20m', '3h 5m', '23h 40m', '2h 20m', '22h 55m', '23h 40m', '5h 40m', '2h 30m', '20h 55m', '3h 5m', '13h 20m', '2h 20m', '1h 25m', '2h 35m', '3h 40m', '26h 55m', '7h 30m', '11h', '27h 20m', '2h 50m', '38h', '19h 25m', '13h 30m', '3h', '27h', '4h 55m', '6h', '10h 25m', '12h 30m', '3h', '8h 5m', '2h 20m', '13h 20m', '5h 25m', '19h 5m', '2h 45m', '14h 30m', '24h 5m', '1h 30m', '26h 55m', '2h 20m', '23h 40m', '8h 30m', '23h 30m', '8h', '30h 20m', '2h 50m', '23h 30m', '22h 55m', '29h 55m', '5h 15m', '15h 20m', '6h 25m', '10h 40m', '2h 45m', '23h 40m', '16h', '10h', '4h 50m', '5h 5m', '20h 10m', '14h 55m', '30h 30m', '2h 30m', '2h 55m', '1h 25m', '2h 50m', '11h 5m', '5h 5m', '30h 30m', '2h 50m', '13h 25m', '3h', '10h 15m', '20h 55m', '10h 45m', '8h', '12h 10m', '21h 25m', '8h 25m', '9h 10m', '8h 10m', '4h 55m', '21h 15m', '3h', '14h 20m', '2h 35m', '6h 35m', '9h 30m', '10h 20m', '1h 30m', '8h 10m', '2h 45m', '14h 5m', '16h 15m', '21h 20m', '5h 20m', '6h 20m', '6h 25m', '2h 30m', '13h 55m', '2h 35m', '8h 55m', '22h 30m', '13h 30m', '13h 30m', '2h 20m', '3h 5m', '5h', '5h', '10h 25m', '11h 55m', '14h 5m', '18h 45m', '30h 20m', '26h 40m', '6h 20m', '8h 40m', '24h 20m', '2h 55m', '6h 40m', '16h 20m', '2h 45m', '19h 55m', '6h 5m', '3h', '2h 55m', '33h 15m', '2h 35m', '2h 35m', '3h', '2h 30m', '15h 20m', '2h 30m', '18h 15m', '9h 20m', '2h 30m', '2h 20m', '7h 15m', '6h 25m', '27h 20m', '8h 55m', '26h 20m', '13h 30m', '7h 30m', '11h 50m', '4h 25m', '6h 35m', '22h 15m', '1h 30m', '1h 35m', '2h 20m', '14h 25m', '2h 30m', '22h 55m', '2h 20m', '9h 50m', '26h 10m', '18h', '16h 5m', '2h 45m', '14h 55m', '5h 25m', '8h 40m', '2h 45m', '22h 25m', '13h 20m', '3h 15m', '2h 30m', '1h 25m', '6h 20m', '7h 35m', '23h 35m', '2h 20m', '19h 15m', '2h 55m', '9h 35m', '22h 55m', '3h', '2h 30m', '1h 30m', '1h 30m', '30h 30m', '12h 30m', '25h 5m', '6h', '21h 15m', '10h 30m', '2h 20m', '15h 10m', '2h 50m', '7h 5m', '5h 30m', '2h 40m', '7h 40m', '2h 45m', '2h 35m', '2h 35m', '2h 20m', '2h 35m', '1h 30m', '2h 25m', '13h 25m', '1h 30m', '6h 5m', '10h 50m', '18h 20m', '14h 35m', '2h 50m', '11h 5m', '2h 30m', '23h 50m', '26h 55m', '3h', '7h 35m', '31h 50m', '3h 15m', '7h 15m', '15h 10m', '18h 45m', '18h 20m', '25h 55m', '1h 30m', '23h 30m', '5h', '2h 45m', '7h 50m', '38h 20m', '3h 10m', '5h 10m', '8h', '3h 5m', '7h 35m', '9h 50m', '20h 10m', '21h 35m', '2h 20m', '2h 55m', '2h 50m', '4h 40m', '12h 30m', '10h 40m', '22h 45m', '16h 45m', '2h 35m', '24h 55m', '5h 30m', '2h 35m', '26h 35m', '5h', '21h 15m', '1h 30m', '9h 40m', '12h 25m', '2h 50m', '9h 45m', '5h 30m', '9h 50m', '4h 5m', '18h 45m', '2h 50m', '2h 35m', '2h 30m', '10h 5m', '16h 5m', '1h 30m', '5h', '4h 55m', '2h 45m', '2h 45m', '14h', '9h 15m', '12h', '1h 30m', '2h 45m', '21h 25m', '42h 45m', '2h 55m', '2h 45m', '38h 20m', '1h 30m', '1h 30m', '2h 45m', '23h 40m', '2h 55m', '2h 40m', '12h 15m', '8h 15m', '2h 50m', '1h 25m', '11h', '3h 15m', '9h 30m', '4h 55m', '6h', '1h 30m', '10h 10m', '1h 30m', '6h 40m', '2h 35m', '16h 25m', '22h 45m', '7h 50m', '26h 20m', '2h 50m', '19h 30m', '3h 5m', '3h 15m', '2h 20m', '9h 10m', '2h 15m', '6h', '9h 50m', '29h 50m', '6h 25m', '2h 20m', '6h 15m', '2h 40m', '6h 15m', '24h 35m', '5h 45m', '3h 15m', '14h 55m', '3h 40m', '8h 5m', '13h 25m', '1h 25m', '2h 50m', '15h 35m', '7h 20m', '13h 55m', '2h 30m', '2h 50m', '3h 15m', '2h 40m', '26h 15m', '2h 50m', '6h 15m', '3h', '4h 40m', '1h 25m', '12h', '13h 10m', '9h', '6h 10m', '3h 25m', '1h 30m', '2h 30m', '3h 15m', '1h 30m', '10h 15m', '8h 45m', '2h 45m', '5h', '2h 45m', '5h 55m', '3h 35m', '3h', '17h 40m', '2h 50m', '9h 10m', '9h 45m', '2h 55m', '26h 55m', '11h 55m', '11h 30m', '20h 55m', '5h 5m', '19h 45m', '17h 55m', '26h', '11h 45m', '12h 55m', '13h 20m', '13h 30m', '7h 35m', '3h 15m', '18h 25m', '24h 15m', '2h 50m', '2h 40m', '2h 20m', '1h 30m', '2h 50m', '1h 30m', '10h 20m', '12h 25m', '8h 40m', '5h 25m', '2h 55m', '20h 55m', '21h 25m', '1h 30m', '24h 40m', '2h 50m', '2h 15m', '23h 30m', '29h 20m', '5h 15m', '7h 5m', '7h', '1h 30m', '7h 5m', '19h 25m', '29h 35m', '17h 5m', '12h', '2h 45m', '8h 40m', '6h 5m', '13h 20m', '2h 25m', '9h 50m', '13h 40m', '18h', '6h 30m', '8h 30m', '10h 40m', '9h 30m', '4h 30m', '2h 30m', '10h 25m', '2h 45m', '12h 35m', '27h 45m', '21h 45m', '29h 20m', '2h 30m', '15h 30m', '23h', '16h 45m', '4h 40m', '7h 30m', '13h 30m', '10h 35m', '17h 5m', '27h 50m', '13h 25m', '13h', '11h', '15h 5m', '14h 55m', '23h 35m', '23h 35m', '13h 20m', '2h 25m', '2h 30m', '8h 20m', '1h 30m', '14h 10m', '2h 20m', '7h 15m', '5h 25m', '9h', '14h 50m', '1h 25m', '3h', '12h 55m', '2h 35m', '6h 15m', '26h', '1h 30m', '14h 5m', '8h', '12h 10m', '10h 30m', '3h', '5h 15m', '38h', '23h 30m', '27h 50m', '2h 45m', '6h 35m', '8h', '16h 45m', '7h 50m', '10h 30m', '2h 50m', '4h 50m', '3h', '26h 35m', '9h 50m', '2h 50m', '1h 30m', '6h 35m', '12h 10m', '9h 50m', '25h 20m', '37h 10m', '11h 40m', '1h 30m', '2h 35m', '7h 5m', '2h 35m', '19h 55m', '1h 25m', '11h 5m', '4h 40m', '13h 30m', '7h 35m', '1h 25m', '1h 30m', '13h 50m', '8h 35m', '3h 15m', '10h 25m', '2h 20m', '23h 30m', '11h', '18h', '2h 15m', '2h 15m', '12h 35m', '14h 20m', '2h 45m', '15h 40m', '2h 45m', '2h 30m', '2h 20m', '9h 15m', '18h 40m', '2h 50m', '25h 25m', '1h 20m', '2h 30m', '2h 50m', '3h 15m', '25h 45m', '2h 35m', '2h 35m', '8h 10m', '23h 40m', '11h 45m', '9h 20m', '14h 35m', '21h 35m', '6h 25m', '5h 35m', '25h 55m', '10h 15m', '1h 20m', '10h 20m', '2h 15m', '3h', '23h 45m', '13h 15m', '3h 15m', '9h 50m', '18h 20m', '29h 20m', '7h 45m', '2h 25m', '7h 35m', '2h 20m', '3h 10m', '6h 25m', '16h 45m', '10h 25m', '13h', '2h 55m', '2h 35m', '2h 50m', '13h 30m', '13h 15m', '13h 30m', '36h 10m', '2h 25m', '2h 25m', '2h 50m', '12h 10m', '8h 25m', '22h 15m', '3h 5m', '2h 35m', '22h 55m', '2h 15m', '26h 20m', '27h 40m', '16h 45m', '2h 50m', '12h 30m', '5h 15m', '2h 50m', '7h 30m', '11h 55m', '13h 5m', '7h 20m', '2h 20m', '18h', '8h 40m', '2h 50m', '20h 10m', '8h', '27h 20m', '2h 20m', '2h 20m', '38h', '7h 35m', '5h 45m', '2h 50m', '2h 45m', '27h 35m', '3h', '14h 25m', '9h 20m', '9h 50m', '2h 20m', '6h 30m', '7h 35m', '2h 55m', '2h 50m', '17h 55m', '1h 20m', '21h 25m', '1h 30m', '1h 30m', '5h 20m', '10h', '12h 10m', '16h 45m', '2h 50m', '10h 40m', '27h 35m', '25h 50m', '16h 10m', '30h 30m', '20h 10m', '2h 50m', '30h 30m', '26h 55m', '3h 15m', '6h 40m', '3h', '8h', '27h 35m', '2h 50m', '25h 40m', '9h 35m', '2h 30m', '2h 20m', '10h 15m', '7h 5m', '1h 30m', '11h 30m', '2h 45m', '13h 15m', '14h 30m', '7h 5m', '12h 45m', '2h 50m', '2h 50m', '1h 30m', '25h 45m', '2h 30m', '27h 40m', '22h 35m', '2h 55m', '3h 5m', '2h 55m', '6h 30m', '14h 20m', '20h', '7h 45m', '18h 45m', '6h 40m', '2h 55m', '14h 20m', '13h', '2h 20m', '16h 55m', '5h 45m', '19h 20m', '3h 5m', '27h 45m', '2h 45m', '2h 20m', '12h 45m', '17h 45m', '3h', '16h 35m', '26h 10m', '7h 35m', '13h', '2h 40m', '3h', '4h 40m', '23h 50m', '8h 10m', '29h 20m', '2h 45m', '2h 50m', '2h 35m', '19h 5m', '9h 30m', '8h 40m', '22h 5m', '26h', '2h 35m', '7h 50m', '10h 45m', '10h 30m', '14h 5m', '13h 20m', '2h 50m', '1h 30m', '19h 40m', '2h 55m', '23h 20m', '2h 40m', '16h 15m', '1h 30m', '9h 15m', '20h 35m', '2h 15m', '2h 25m', '3h 5m', '2h 50m', '5h 40m', '18h 40m', '25h', '13h 15m', '2h 30m', '8h 20m', '7h', '25h 50m', '2h 55m', '9h 10m', '8h 40m', '2h 50m', '21h 45m', '6h 40m', '1h 30m', '7h 20m', '4h', '14h 5m', '12h 15m', '30h 30m', '27h', '16h 10m', '9h', '5h 55m', '1h 25m', '3h', '7h 5m', '2h 50m', '6h 5m', '2h 45m', '15h 20m', '23h 35m', '23h 50m', '13h 50m', '2h 35m', '4h 5m', '7h 40m', '2h 20m', '9h 35m', '9h 35m', '11h 25m', '12h 10m', '2h 55m', '1h 30m', '3h 10m', '12h 25m', '11h 45m', '11h 5m', '9h 45m', '17h 25m', '15h', '6h 20m', '12h 45m', '1h 30m', '25h 45m', '21h', '9h 20m', '22h 15m', '8h 15m', '12h 30m', '8h 30m', '11h 50m', '10h 30m', '12h 10m', '5h', '2h 35m', '17h 25m', '5h 10m', '9h 30m', '10h 40m', '8h 40m', '9h 40m', '2h 15m', '11h 15m', '23h 30m', '8h 40m', '6h 20m', '23h 50m', '12h 55m', '5h', '13h 15m', '2h 30m', '7h', '6h 35m', '18h 10m', '21h 25m', '24h 55m', '2h 50m', '13h 15m', '22h 10m', '2h 45m', '14h 25m', '2h 20m', '2h 30m', '7h 30m', '5h 45m', '21h 25m', '1h 30m', '7h 15m', '12h 30m', '23h 15m', '12h 5m', '10h 55m', '25h 20m', '1h 30m', '2h 55m', '4h', '20h 10m', '13h', '2h 30m', '7h 5m', '19h', '26h 55m', '12h 20m', '10h 50m', '9h 45m', '9h 35m', '18h 45m', '13h', '2h 40m', '2h 30m', '2h 30m', '5h 55m', '8h 30m', '21h', '2h 50m', '3h 15m', '14h 20m', '8h 40m', '21h 55m', '8h 40m', '2h 50m', '11h 45m', '7h 15m', '5h', '6h 40m', '24h', '5h 25m', '27h', '7h', '10h 5m', '3h', '9h 10m', '15h', '2h 35m', '5h', '1h 20m', '1h 30m', '24h 40m', '2h 45m', '18h 45m', '2h 50m', '2h 40m', '12h', '11h 5m', '26h 20m', '21h 25m', '5h 45m', '14h', '1h 30m', '2h 50m', '22h 35m', '2h 55m', '17h 5m', '1h 30m', '14h 35m', '2h 35m', '12h 45m', '3h', '12h 35m', '2h 20m', '17h 50m', '12h 20m', '14h 25m', '29h 20m', '2h 50m', '25h 50m', '22h 55m', '13h', '22h 35m', '7h 20m', '2h 20m', '13h 20m', '8h 40m', '12h 25m', '2h 50m', '2h 45m', '2h 35m', '3h 15m', '30h 55m', '9h 30m', '13h 20m', '15h 20m', '23h 40m', '5h 45m', '8h 20m', '1h 25m', '2h 20m', '20h 55m', '3h', '9h 20m', '1h 25m', '20h 5m', '22h 25m', '22h 30m', '9h 50m', '18h 10m', '2h 20m', '11h 45m', '11h', '1h 25m', '26h 10m', '23h 40m', '15h 20m', '11h', '2h 50m', '5h 25m', '19h 40m', '15h 10m', '1h 30m', '27h 5m', '32h 5m', '13h 30m', '26h 10m', '23h 40m', '6h 55m', '3h', '2h 30m', '15h 25m', '2h 35m', '2h 50m', '6h 30m', '25h 40m', '2h 50m', '2h 35m', '8h 30m', '12h 15m', '7h 35m', '10h 30m', '2h 30m', '9h 30m', '8h 35m', '16h 15m', '3h 15m', '5h 15m', '2h 50m', '2h 50m', '16h', '22h 55m', '6h 55m', '2h 35m', '2h 35m', '9h 15m', '26h 10m', '12h', '21h 40m', '2h 45m', '12h', '27h 20m', '23h 50m', '12h 30m', '9h 10m', '12h 20m', '1h 30m', '5h 30m', '28h', '3h', '1h 30m', '2h 45m', '5h 20m', '26h 30m', '26h 55m', '11h 5m', '2h 30m', '1h 30m', '7h 30m', '29h 5m', '17h 35m', '24h 55m', '29h 20m', '3h', '2h 40m', '5h 25m', '23h 50m', '30h 40m', '2h 45m', '11h 50m', '2h 35m', '20h 25m', '27h', '2h 40m', '1h 30m', '1h 30m', '2h 30m', '2h 35m', '2h 50m', '2h 20m', '2h 45m', '2h 25m', '5h 40m', '27h 40m', '2h 20m', '5h', '2h 35m', '11h 30m', '26h 15m', '16h 45m', '18h 10m', '1h 30m', '13h 25m', '12h', '2h 15m', '15h 10m', '6h', '23h 15m', '7h 15m', '11h 30m', '12h 35m', '10h', '3h', '23h 50m', '2h 40m', '19h', '1h 30m', '2h 50m', '2h 50m', '14h 40m', '2h 45m', '1h 30m', '30h 30m', '6h', '29h 30m', '2h 30m', '15h 10m', '26h 50m', '28h 5m', '10h 10m', '7h 30m', '8h 40m', '34h 30m', '26h 55m', '2h 55m', '13h 15m', '1h 35m', '2h 45m', '2h 40m', '2h 35m', '27h 5m', '20h 35m', '3h', '3h 15m', '4h 30m', '3h 5m', '11h', '27h 5m', '6h 35m', '26h 10m', '23h 55m', '2h 30m', '13h 30m', '6h 30m', '2h 35m', '5h 30m', '12h 10m', '18h 20m', '22h 55m', '2h 45m', '11h 30m', '8h 20m', '4h 45m', '28h', '2h 20m', '3h', '9h 20m', '22h 10m', '2h 45m', '8h 25m', '15h 20m', '2h 45m', '5h 20m', '19h 30m', '3h', '2h 35m', '13h 30m', '26h', '2h 45m', '2h 30m', '25h 45m', '24h 10m', '15h 55m', '5h 40m', '26h 25m', '2h 20m', '9h 50m', '8h', '29h 35m', '37h 25m', '7h 35m', '6h 35m', '9h 30m', '14h 15m', '7h 5m', '8h', '1h 30m', '1h 25m', '13h 15m', '1h 25m', '2h 45m', '18h 10m', '25h 40m', '22h', '5h 10m', '5h 15m', '2h 55m', '24h', '6h 40m', '17h 40m', '26h 35m', '2h 35m', '17h 5m', '3h 15m', '3h 15m', '2h 35m', '12h 15m', '3h 35m', '11h 40m', '7h 5m', '1h 30m', '16h 5m', '13h 20m', '1h 25m', '24h 15m', '2h 55m', '19h 5m', '1h 30m', '26h 10m', '11h 45m', '27h 35m', '3h', '1h 25m', '12h 45m', '24h', '15h 55m', '28h 50m', '14h', '2h 35m', '14h 35m', '2h 30m', '22h 30m', '3h', '27h', '27h 20m', '2h 40m', '11h 45m', '22h 25m', '2h 50m', '2h 40m', '2h 25m', '8h 25m', '3h 5m', '10h 40m', '20h', '14h 50m', '21h 25m', '6h', '4h 30m', '27h 10m', '2h 55m', '4h 50m', '2h 25m', '20h', '2h 35m', '23h 10m', '10h 10m', '1h 30m', '10h 25m', '5h 35m', '9h', '17h 45m', '11h 15m', '6h 15m', '13h 30m', '26h 35m', '9h', '2h 40m', '7h 35m', '14h 45m', '6h 10m', '2h 45m', '7h 40m', '1h 30m', '14h 25m', '11h 30m', '3h 15m', '8h 30m', '2h 15m', '2h 45m', '4h 30m', '3h 40m', '14h', '1h 30m', '9h 25m', '2h 15m', '2h 55m', '13h 20m', '2h 20m', '6h 40m', '11h 45m', '4h 55m', '8h 35m', '16h 5m', '5h 5m', '6h 5m', '6h 25m', '9h 50m', '1h 20m', '19h 25m', '9h 20m', '16h 45m', '8h 5m', '2h 50m', '17h 25m', '2h 15m', '19h 55m', '14h 20m', '6h 15m', '12h', '5h 15m', '22h 55m', '3h', '13h 15m', '26h', '26h', '15h 30m', '3h', '2h 30m', '24h', '20h 55m', '22h', '2h 40m', '9h 35m', '3h', '2h 45m', '8h', '15h', '37h 25m', '13h 20m', '11h 50m', '9h 45m', '2h 20m', '2h 50m', '2h 50m', '33h 15m', '17h 45m', '13h 50m', '4h 30m', '2h 50m', '13h 50m', '2h 25m', '2h 40m', '13h 55m', '9h 10m', '13h 25m', '14h 35m', '2h 55m', '18h 45m', '5h 55m', '26h 30m', '8h 40m', '12h 10m', '2h 40m', '23h 15m', '12h 25m', '3h', '13h 55m', '14h 5m', '3h', '3h 10m', '2h 50m', '4h 35m', '11h 55m', '5h 40m', '11h 45m', '6h 10m', '13h 50m', '11h 25m', '20h 20m', '3h', '3h 10m', '23h 40m', '9h 35m', '13h 45m', '12h 45m', '6h 25m', '13h 50m', '2h 35m', '2h 20m', '2h 45m', '6h 35m', '1h 15m', '3h', '13h 25m', '12h 35m', '24h 30m', '29h 20m', '1h 25m', '9h 30m', '2h 30m', '8h 30m', '2h 50m', '2h 20m', '10h 15m', '2h 30m', '7h 5m', '10h 15m', '3h 15m', '2h 50m', '10h 25m', '10h 30m', '10h 55m', '2h 50m', '11h 40m', '18h 45m', '6h 25m', '1h 30m', '2h 20m', '7h 5m', '4h 25m', '10h 30m', '5h 10m', '2h 50m', '22h 25m', '10h', '38h', '1h 30m', '26h 35m', '12h 10m', '9h 30m', '2h 55m', '24h 40m', '4h 35m', '16h 5m', '2h 15m', '10h 15m', '2h 45m', '8h', '13h 55m', '12h 25m', '18h 25m', '17h 45m', '1h 20m', '2h 55m', '2h 50m', '15h 20m', '14h 5m', '1h 30m', '18h 25m', '2h 50m', '6h', '2h 50m', '12h 25m', '2h 50m', '1h 20m', '1h 30m', '11h 35m', '9h 20m', '27h 5m', '2h 55m', '15h 10m', '23h 15m', '8h 10m', '2h 35m', '12h 10m', '9h 30m', '6h 35m', '7h 5m', '9h 50m', '32h 5m', '14h 55m', '29h 20m', '9h 20m', '25h', '25h 25m', '7h 45m', '2h 30m', '2h 50m', '6h 25m', '28h 10m', '26h 40m', '6h 10m', '23h 15m', '6h 35m', '3h 10m', '15h 25m', '20h 10m', '2h 50m', '25h 35m', '1h 25m', '2h 40m', '11h 5m', '38h 15m', '2h 50m', '9h 50m', '8h', '9h 30m', '5h 50m', '6h', '2h 35m', '5h', '8h 15m', '3h', '9h', '2h 15m', '7h', '2h 35m', '7h 30m', '8h 40m', '13h 20m', '27h', '27h 10m', '1h 30m', '9h', '27h 10m', '3h 5m', '4h', '5h 55m', '2h 15m', '22h 55m', '6h 40m', '5h 30m', '23h', '15h 10m', '7h 30m', '14h', '3h', '18h 45m', '2h 50m', '18h 50m', '17h 5m', '21h 25m', '2h 55m', '12h 15m', '2h 35m', '14h 20m', '1h 30m', '3h', '2h 50m', '2h 45m', '3h 40m', '6h', '1h 30m', '25h 15m', '2h 55m', '4h 25m', '5h', '7h 5m', '26h 55m', '9h 20m', '13h', '6h', '29h 20m', '2h 15m', '24h 45m', '26h 25m', '19h 15m', '22h 55m', '2h 50m', '15h 20m', '16h', '14h 45m', '6h 25m', '22h 55m', '5h', '1h 30m', '2h 15m', '2h 30m', '26h 55m', '5h 45m', '1h 30m', '5h 5m', '2h 50m', '15h 35m', '25h', '2h 50m', '13h 20m', '28h 50m', '7h 20m', '2h 30m', '2h 20m', '9h 30m', '2h 20m', '9h 15m', '2h 40m', '1h 30m', '1h 25m', '13h 20m', '8h 55m', '11h 40m', '27h', '13h 15m', '1h 30m', '12h 30m', '11h 40m', '6h 55m', '7h 50m', '2h 55m', '15h 50m', '14h 35m', '13h 30m', '8h 40m', '22h 45m', '1h 30m', '24h 45m', '15h 55m', '2h 50m', '7h 15m', '5h 50m', '15h 20m', '14h 25m', '21h 25m', '2h 20m', '8h 40m', '38h 15m', '3h 15m', '14h 40m', '4h 55m', '12h 25m', '22h', '15h 40m', '13h', '23h 5m', '2h 20m', '16h 50m', '3h', '3h', '2h 35m', '3h', '2h 35m', '6h 5m', '9h 35m', '5h 30m', '16h 5m', '11h 15m', '2h 40m', '13h 45m', '7h 45m', '2h 50m', '22h 35m', '5h 15m', '1h 30m', '10h 30m', '5h 20m', '37h 20m', '15h 25m', '19h 45m', '14h 55m', '25h 30m', '3h', '15h 20m', '24h 40m', '2h 15m', '21h 35m', '2h 45m', '11h 45m', '8h 20m', '11h 30m', '23h 40m', '15h 35m', '27h 20m', '15h 10m', '8h 40m', '8h', '14h 5m', '2h 55m', '8h 20m', '7h 35m', '13h 20m', '3h', '18h 35m', '21h 10m', '13h 30m', '12h 35m', '15h 45m', '18h 10m', '21h 45m', '22h 5m', '6h 20m', '22h', '15h 30m', '24h', '19h 25m', '4h 55m', '22h 30m', '16h 45m', '20h 25m', '26h 35m', '25h 15m', '2h 55m', '9h', '5h 10m', '2h 55m', '7h 30m', '24h 45m', '2h 50m', '16h 20m', '14h 35m', '14h 20m', '2h 50m', '13h 30m', '2h 50m', '2h 35m', '2h 20m', '2h 35m', '3h 10m', '25h', '14h 30m', '5h 5m', '26h 15m', '8h 10m', '1h 25m', '24h 50m', '28h', '8h 25m', '7h 5m', '5h', '2h 20m', '28h 20m', '14h 10m', '7h 45m', '14h', '25h', '11h 30m', '4h 35m', '2h 45m', '10h 15m', '15h 10m', '12h 10m', '21h 35m', '25h 50m', '6h 30m', '6h 35m', '9h', '2h 55m', '3h', '18h 45m', '6h 5m', '13h', '9h 5m', '2h 20m', '2h 30m', '5h 10m', '7h 5m', '1h 15m', '2h 50m', '7h 5m', '14h 30m', '18h 25m', '13h 30m', '30h 20m', '29h 35m', '6h 35m', '26h 40m', '6h 5m', '14h 5m', '2h 30m', '7h 30m', '16h 5m', '2h 55m', '27h 20m', '20h 15m', '10h 35m', '6h 20m', '4h', '2h 45m', '2h 20m', '2h 55m', '9h 30m', '6h 20m', '2h 55m', '8h 35m', '3h', '13h 50m', '21h', '24h 25m', '23h', '27h 20m', '5h 25m', '2h 25m', '16h 5m', '11h 30m', '24h 10m', '17h 55m', '5h 45m', '2h 55m', '25h 5m', '8h 15m', '2h 20m', '39h 5m', '5h', '2h 50m', '2h 50m', '24h 10m', '2h 50m', '12h', '2h 45m', '23h 30m', '15h', '2h 35m', '21h 50m', '2h 55m', '2h 15m', '22h 15m', '4h 30m', '2h 15m', '21h 35m', '16h 5m', '14h 50m', '16h 55m', '7h 15m', '19h 30m', '2h 30m', '7h', '9h 45m', '23h 45m', '8h 40m', '14h 25m', '7h 15m', '13h 50m', '6h 25m', '3h', '10h 30m', '14h 40m', '2h 45m', '14h 25m', '14h 35m', '9h 10m', '21h 15m', '18h 10m', '2h 35m', '13h 25m', '26h 35m', '8h 20m', '1h 30m', '11h 30m', '3h 15m', '12h', '1h 30m', '11h 5m', '1h 25m', '7h 15m', '2h 50m', '24h', '25h 35m', '1h 35m', '2h 55m', '18h 45m', '6h 50m', '2h 45m', '9h 20m', '12h 30m', '5h 15m', '3h', '15h 20m', '24h 30m', '2h 25m', '13h 20m', '13h 50m', '7h 35m', '13h 20m', '8h 20m', '8h 55m', '23h 50m', '9h 5m', '26h 30m', '1h 30m', '10h 10m', '2h 25m', '22h 35m', '1h 30m', '7h 50m', '2h 30m', '3h 10m', '1h 15m', '1h 30m', '2h 20m', '2h 25m', '25h 45m', '26h 20m', '28h', '2h 55m', '1h 20m', '25h 25m', '27h 5m', '2h 35m', '2h 50m', '5h 30m', '3h 10m', '5h 45m', '9h 45m', '9h 50m', '22h 5m', '8h 25m', '26h 30m', '13h 45m', '7h 45m', '1h 30m', '11h', '7h 50m', '33h 15m', '14h 55m', '6h', '19h 10m', '25h 45m', '9h 35m', '21h 20m', '26h 20m', '24h 35m', '3h', '5h 30m', '2h 25m', '2h 45m', '2h 55m', '21h 15m', '23h 40m', '32h 20m', '16h 5m', '9h 35m', '13h 50m', '10h 25m', '3h', '10h 30m', '9h 50m', '2h 25m', '2h 20m', '12h 45m', '26h 50m', '4h 55m', '10h 30m', '18h 20m', '8h 25m', '7h 15m', '7h 15m', '2h 15m', '10h 45m', '1h 30m', '10h 25m', '11h 45m', '2h 50m', '2h 50m', '13h 30m', '11h 55m', '5h 20m', '13h 15m', '2h 55m', '10h 45m', '2h 35m', '9h', '9h 35m', '2h 50m', '4h 30m', '2h 20m', '2h 20m', '11h 40m', '3h 40m', '2h 20m', '12h 15m', '9h 5m', '23h 15m', '13h 30m', '38h 15m', '1h 30m', '24h 45m', '1h 25m', '18h 20m', '8h 40m', '6h 45m', '5h 30m', '14h 5m', '26h 55m', '1h 30m', '2h 35m', '2h 50m', '28h 5m', '27h', '2h 50m', '9h 45m', '12h 10m', '5h', '2h 15m', '21h 10m', '17h 35m', '1h 25m', '22h 15m', '2h 35m', '14h 55m', '9h 50m', '2h 20m', '1h 30m', '15h 55m', '11h 55m', '7h 15m', '2h 35m', '17h 5m', '7h 5m', '12h 35m', '26h 35m', '1h 30m', '20h 25m', '3h 5m', '19h 40m', '22h 55m', '7h 20m', '14h 30m', '2h 50m', '2h 50m', '5h', '13h 30m', '2h 50m', '20h 35m', '13h 20m', '11h 15m', '22h 40m', '2h 50m', '2h 35m', '9h 50m', '2h 20m', '10h 30m', '8h 55m', '6h 15m', '2h 35m', '2h 20m', '13h 25m', '10h 30m', '2h 50m', '11h 5m', '13h 45m', '25h 40m', '8h 20m', '14h 35m', '2h 55m', '5h 5m', '8h 55m', '2h 50m', '1h 35m', '2h 40m', '2h 20m', '29h 5m', '5h 30m', '17h 25m', '12h', '6h 30m', '2h 45m', '2h 55m', '26h 50m', '24h 40m', '27h 5m', '4h 55m', '20h 50m', '2h 15m', '14h 20m', '2h 40m', '22h 55m', '6h 15m', '3h 15m', '2h 55m', '6h 40m', '11h', '4h 35m', '2h 45m', '28h', '31h 40m', '27h 20m', '2h 45m', '8h 45m', '14h 55m', '2h 15m', '16h 25m', '11h 5m', '5h', '11h 5m', '5h 45m', '14h 45m', '2h 30m', '1h 30m', '1h 30m', '28h 15m', '23h 20m', '7h 35m', '21h 25m', '10h 45m', '2h 35m', '12h 15m', '2h 50m', '25h 50m', '23h', '26h', '10h 55m', '5h 45m', '7h 15m', '12h 15m', '15h 20m', '2h 35m', '11h 55m', '7h 5m', '14h 55m', '10h 50m', '27h 35m', '11h 50m', '5h 30m', '8h 35m', '11h', '2h 50m', '4h 45m', '9h 15m', '13h 25m', '6h 30m', '1h 25m', '7h 45m', '18h 20m', '10h', '20h 10m', '8h 10m', '11h 40m', '10h 50m', '12h 10m', '9h 20m', '2h 45m', '8h', '9h 5m', '2h 30m', '1h 30m', '5h 30m', '23h 5m', '1h 25m', '16h 5m', '3h', '13h 25m', '1h 30m', '13h 20m', '3h', '21h 25m', '5h 10m', '22h', '2h 30m', '24h 40m', '9h', '1h 30m', '2h 50m', '24h 45m', '30h 40m', '12h 5m', '3h 5m', '16h 55m', '2h 50m', '2h 50m', '25h 35m', '22h', '9h 55m', '20h 20m', '28h 20m', '7h 15m', '2h 20m', '22h 25m', '16h 45m', '6h 55m', '5h 10m', '2h 35m', '9h 50m', '27h 10m', '2h 55m', '1h 20m', '3h', '4h 30m', '16h 5m', '10h 15m', '14h 25m', '12h 45m', '4h 40m', '2h 30m', '25h 40m', '28h 50m', '2h 20m', '10h 35m', '12h 15m', '2h 45m', '5h', '2h 45m', '26h 55m', '9h 35m', '17h 25m', '10h 25m', '17h 25m', '2h 45m', '7h 55m', '24h 50m', '13h 55m', '10h 30m', '10h 15m', '13h 20m', '8h 40m', '9h 25m', '3h 10m', '3h 15m', '7h 30m', '3h', '2h 45m', '7h 35m', '2h 30m', '21h 40m', '2h 50m', '26h 10m', '16h 10m', '3h 5m', '1h 30m', '21h 15m', '26h 55m', '26h 20m', '23h', '2h 35m', '22h 45m', '24h 55m', '2h 15m', '8h 5m', '10h', '3h', '23h 10m', '5h 35m', '23h 15m', '1h 30m', '15h 20m', '9h 30m', '8h 25m', '10h 10m', '1h 25m', '27h 5m', '22h 35m', '14h 25m', '4h 55m', '24h', '30h 20m', '23h 10m', '1h 30m', '6h 35m', '12h', '2h 30m', '12h 25m', '1h 15m', '13h 30m', '2h 30m', '13h 10m', '21h 35m', '2h 30m', '5h 45m', '11h 15m', '2h 15m', '9h 30m', '2h 25m', '24h', '1h 20m', '2h 15m', '21h 5m', '2h 50m', '7h 30m', '5h 15m', '8h 30m', '4h 55m', '1h 30m', '3h', '2h 50m', '8h 30m', '23h 15m', '14h 25m', '2h 50m', '19h', '2h 55m', '40h 20m', '2h 35m', '2h 45m', '10h 40m', '9h 20m', '8h 40m', '9h', '31h 55m', '6h 35m', '3h', '2h 45m', '5h 55m', '10h 25m', '13h 20m', '14h 25m', '8h 30m', '2h 20m', '13h', '22h 15m', '2h 50m', '2h 35m', '23h 45m', '23h 40m', '1h 30m', '28h 20m', '13h 35m', '2h 50m', '21h', '12h 35m', '1h 20m', '1h 30m', '14h', '2h 20m', '9h 25m', '26h', '7h 55m', '6h 5m', '15h 10m', '4h 40m', '2h 50m', '14h 30m', '1h 30m', '8h 50m', '2h 35m', '12h 25m', '27h 20m', '2h 35m', '1h 25m', '2h 45m', '27h', '2h 50m', '26h 30m', '16h 45m', '13h', '2h 55m', '14h 25m', '11h 5m', '22h 5m', '1h 15m', '7h 35m', '2h 35m', '7h 5m', '1h 30m', '19h 25m', '2h 35m', '6h 55m', '29h 20m', '2h 45m', '16h 55m', '9h 50m', '18h 45m', '28h 20m', '3h 15m', '16h 25m', '2h 55m', '3h', '11h 45m', '6h 15m', '25h 55m', '2h 15m', '26h 35m', '2h 55m', '23h 45m', '25h 45m', '10h', '12h 35m', '2h 50m', '3h', '9h 45m', '3h 5m', '2h 35m', '2h 55m', '2h 20m', '5h 25m', '26h 35m', '6h 5m', '9h 5m', '2h 50m', '15h 20m', '2h 30m', '3h', '11h 30m', '24h 10m', '2h 35m', '3h', '2h 30m', '2h 55m', '1h 30m', '13h 55m', '4h 5m', '9h 50m', '7h 15m', '7h 15m', '14h 20m', '2h 55m', '20h 35m', '3h', '7h 20m', '7h 55m', '30h 20m', '2h 25m', '4h 55m', '19h 5m', '27h 40m', '14h 25m', '27h 40m', '24h 35m', '26h 55m', '9h 5m', '3h 15m', '47h 40m', '11h 45m', '7h 45m', '1h 20m', '1h 30m', '2h 45m', '1h 25m', '1h 25m', '6h 45m', '2h 50m', '13h 25m', '2h 50m', '2h 55m', '2h 15m', '2h 30m', '5h 20m', '2h 55m', '23h 10m', '13h 50m', '24h 45m', '13h 25m', '2h 50m', '23h 40m', '20h 10m', '2h 45m', '5h 10m', '16h 15m', '22h 45m', '21h 25m', '2h 20m', '10h 15m', '8h 25m', '2h 50m', '2h 25m', '3h 10m', '11h', '7h 40m', '1h 25m', '3h 15m', '13h 20m', '3h', '17h 5m', '16h 50m', '2h 45m', '18h 10m', '8h 35m', '1h 30m', '2h 45m', '14h 30m', '14h', '23h 30m', '8h 30m', '15h 30m', '3h 15m', '2h 55m', '26h 40m', '3h', '1h 20m', '8h 20m', '2h 45m', '2h 45m', '2h 50m', '19h 55m', '2h 35m', '22h 5m', '2h 35m', '10h 20m', '1h 35m', '7h 20m', '13h', '18h 45m', '8h 20m', '11h 15m', '3h', '4h', '1h 25m', '2h 35m', '2h 40m', '2h 25m', '12h 15m', '10h 30m', '6h 15m', '15h 10m', '12h 45m', '24h 30m', '1h 25m', '5h 40m', '2h 45m', '7h 35m', '2h 45m', '25h 45m', '13h 30m', '26h 35m', '5h 30m', '2h 30m', '24h 50m', '9h 35m', '13h 25m', '13h 30m', '30h 40m', '20h 50m', '2h 55m', '13h 30m', '22h 15m', '19h 15m', '18h 55m', '25h 55m', '21h 5m', '2h 50m', '28h 15m', '27h 20m', '5h 45m', '2h 20m', '2h 20m', '20h 55m', '20h', '8h 40m', '26h 35m', '4h 25m', '20h 20m', '1h 30m', '20h 55m', '12h 15m', '9h 15m', '19h 25m', '10h 15m', '6h 40m', '10h 15m', '24h 45m', '7h 15m', '2h 55m', '6h 20m', '1h 35m', '22h 55m', '2h 45m', '23h', '17h 5m', '4h 30m', '13h 30m', '9h 30m', '26h 35m', '2h 55m', '24h 45m', '26h 40m', '8h 10m', '10h 40m', '26h 40m', '5h 25m', '2h 50m', '2h 55m', '11h 25m', '16h 25m', '22h 10m', '1h 30m', '2h 20m', '1h 25m', '13h 20m', '3h 5m', '15h 15m', '2h 55m', '26h 55m', '1h 30m', '2h 35m', '5h 45m', '2h 35m', '2h 35m', '16h 10m', '19h 55m', '26h 20m', '7h 20m', '2h 55m', '22h 15m', '5h 30m', '9h 5m', '26h 45m', '5h 45m', '17h 55m', '7h 15m', '26h 55m', '13h 45m', '5h 30m', '3h 5m', '14h', '38h', '24h 35m', '2h 20m', '26h 50m', '6h 30m', '8h 25m', '8h 25m', '13h 30m', '3h 15m', '26h 20m', '2h 40m', '8h 25m', '7h 40m', '25h 35m', '21h 55m', '2h 40m', '1h 25m', '2h 40m', '13h 20m', '2h 55m', '2h 50m', '2h 55m', '6h 15m', '20h 10m', '17h 5m', '2h 55m', '2h 30m', '24h 45m', '21h 25m', '7h 20m', '11h 15m', '17h 25m', '1h 20m', '19h 55m', '15h', '24h 45m', '1h 20m', '8h 40m', '2h 40m', '2h 30m', '2h 35m', '3h', '2h 40m', '8h 20m']\n"
          ]
        }
      ],
      "source": [
        "print(duration)"
      ]
    },
    {
      "cell_type": "code",
      "execution_count": null,
      "metadata": {
        "id": "twibtVgwKav4"
      },
      "outputs": [],
      "source": [
        "#perulangan untuk menyamaratakan format setelah itu memisahkan menajadi masing2 kolom jam dan menit \n",
        "for i in range(len(duration)):\n",
        "    if len(duration[i].split()) != 2:    # Periksa apakah durasi hanya berisi jam atau menit\n",
        "        if \"h\" in duration[i]:\n",
        "            duration[i] = duration[i].strip() + \" 0m\"   # Adds 0 minute\n",
        "        else:\n",
        "            duration[i] = \"0h \" + duration[i]           # Adds 0 hour\n",
        "\n",
        "duration_hours = []\n",
        "duration_mins = []\n",
        "for i in range(len(duration)):\n",
        "    duration_hours.append(int(duration[i].split(sep = \"h\")[0]))    # Ekstrak jam dari durasi\n",
        "    duration_mins.append(int(duration[i].split(sep = \"m\")[0].split()[-1]))   # Ekstrak hanya menit dari durasi\n",
        "\n",
        "# menambahkan kolom durasi ke dataframe\n",
        "df[\"Duration_hours\"] = duration_hours\n",
        "df[\"Duration_mins\"] = duration_mins\n",
        "df.drop([\"Duration\"], axis = 1, inplace = True)\n"
      ]
    },
    {
      "cell_type": "code",
      "execution_count": null,
      "metadata": {
        "colab": {
          "base_uri": "https://localhost:8080/",
          "height": 206
        },
        "id": "_mYqo-DgLYqq",
        "outputId": "f4f511d0-ec53-49cc-94fc-13cbc1d9dddf"
      },
      "outputs": [
        {
          "output_type": "execute_result",
          "data": {
            "text/plain": [
              "       Airline    Source Destination Total_Stops  Price  Journey_days  \\\n",
              "0       IndiGo  Banglore   New Delhi    non-stop   3897            24   \n",
              "1    Air India   Kolkata    Banglore     2 stops   7662             1   \n",
              "2  Jet Airways     Delhi      Cochin     2 stops  13882             9   \n",
              "3       IndiGo   Kolkata    Banglore      1 stop   6218            12   \n",
              "4       IndiGo  Banglore   New Delhi      1 stop  13302             1   \n",
              "\n",
              "   Journey_month  Dep_hour  Dep_minute  Arrival_hour  Arrival_minute  \\\n",
              "0              3        22          20             1              10   \n",
              "1              5         5          50            13              15   \n",
              "2              6         9          25             4              25   \n",
              "3              5        18           5            23              30   \n",
              "4              3        16          50            21              35   \n",
              "\n",
              "   Duration_hours  Duration_mins  \n",
              "0               2             50  \n",
              "1               7             25  \n",
              "2              19              0  \n",
              "3               5             25  \n",
              "4               4             45  "
            ],
            "text/html": [
              "\n",
              "  <div id=\"df-1cdf344e-562b-40c5-9acc-59d213e9736d\">\n",
              "    <div class=\"colab-df-container\">\n",
              "      <div>\n",
              "<style scoped>\n",
              "    .dataframe tbody tr th:only-of-type {\n",
              "        vertical-align: middle;\n",
              "    }\n",
              "\n",
              "    .dataframe tbody tr th {\n",
              "        vertical-align: top;\n",
              "    }\n",
              "\n",
              "    .dataframe thead th {\n",
              "        text-align: right;\n",
              "    }\n",
              "</style>\n",
              "<table border=\"1\" class=\"dataframe\">\n",
              "  <thead>\n",
              "    <tr style=\"text-align: right;\">\n",
              "      <th></th>\n",
              "      <th>Airline</th>\n",
              "      <th>Source</th>\n",
              "      <th>Destination</th>\n",
              "      <th>Total_Stops</th>\n",
              "      <th>Price</th>\n",
              "      <th>Journey_days</th>\n",
              "      <th>Journey_month</th>\n",
              "      <th>Dep_hour</th>\n",
              "      <th>Dep_minute</th>\n",
              "      <th>Arrival_hour</th>\n",
              "      <th>Arrival_minute</th>\n",
              "      <th>Duration_hours</th>\n",
              "      <th>Duration_mins</th>\n",
              "    </tr>\n",
              "  </thead>\n",
              "  <tbody>\n",
              "    <tr>\n",
              "      <th>0</th>\n",
              "      <td>IndiGo</td>\n",
              "      <td>Banglore</td>\n",
              "      <td>New Delhi</td>\n",
              "      <td>non-stop</td>\n",
              "      <td>3897</td>\n",
              "      <td>24</td>\n",
              "      <td>3</td>\n",
              "      <td>22</td>\n",
              "      <td>20</td>\n",
              "      <td>1</td>\n",
              "      <td>10</td>\n",
              "      <td>2</td>\n",
              "      <td>50</td>\n",
              "    </tr>\n",
              "    <tr>\n",
              "      <th>1</th>\n",
              "      <td>Air India</td>\n",
              "      <td>Kolkata</td>\n",
              "      <td>Banglore</td>\n",
              "      <td>2 stops</td>\n",
              "      <td>7662</td>\n",
              "      <td>1</td>\n",
              "      <td>5</td>\n",
              "      <td>5</td>\n",
              "      <td>50</td>\n",
              "      <td>13</td>\n",
              "      <td>15</td>\n",
              "      <td>7</td>\n",
              "      <td>25</td>\n",
              "    </tr>\n",
              "    <tr>\n",
              "      <th>2</th>\n",
              "      <td>Jet Airways</td>\n",
              "      <td>Delhi</td>\n",
              "      <td>Cochin</td>\n",
              "      <td>2 stops</td>\n",
              "      <td>13882</td>\n",
              "      <td>9</td>\n",
              "      <td>6</td>\n",
              "      <td>9</td>\n",
              "      <td>25</td>\n",
              "      <td>4</td>\n",
              "      <td>25</td>\n",
              "      <td>19</td>\n",
              "      <td>0</td>\n",
              "    </tr>\n",
              "    <tr>\n",
              "      <th>3</th>\n",
              "      <td>IndiGo</td>\n",
              "      <td>Kolkata</td>\n",
              "      <td>Banglore</td>\n",
              "      <td>1 stop</td>\n",
              "      <td>6218</td>\n",
              "      <td>12</td>\n",
              "      <td>5</td>\n",
              "      <td>18</td>\n",
              "      <td>5</td>\n",
              "      <td>23</td>\n",
              "      <td>30</td>\n",
              "      <td>5</td>\n",
              "      <td>25</td>\n",
              "    </tr>\n",
              "    <tr>\n",
              "      <th>4</th>\n",
              "      <td>IndiGo</td>\n",
              "      <td>Banglore</td>\n",
              "      <td>New Delhi</td>\n",
              "      <td>1 stop</td>\n",
              "      <td>13302</td>\n",
              "      <td>1</td>\n",
              "      <td>3</td>\n",
              "      <td>16</td>\n",
              "      <td>50</td>\n",
              "      <td>21</td>\n",
              "      <td>35</td>\n",
              "      <td>4</td>\n",
              "      <td>45</td>\n",
              "    </tr>\n",
              "  </tbody>\n",
              "</table>\n",
              "</div>\n",
              "      <button class=\"colab-df-convert\" onclick=\"convertToInteractive('df-1cdf344e-562b-40c5-9acc-59d213e9736d')\"\n",
              "              title=\"Convert this dataframe to an interactive table.\"\n",
              "              style=\"display:none;\">\n",
              "        \n",
              "  <svg xmlns=\"http://www.w3.org/2000/svg\" height=\"24px\"viewBox=\"0 0 24 24\"\n",
              "       width=\"24px\">\n",
              "    <path d=\"M0 0h24v24H0V0z\" fill=\"none\"/>\n",
              "    <path d=\"M18.56 5.44l.94 2.06.94-2.06 2.06-.94-2.06-.94-.94-2.06-.94 2.06-2.06.94zm-11 1L8.5 8.5l.94-2.06 2.06-.94-2.06-.94L8.5 2.5l-.94 2.06-2.06.94zm10 10l.94 2.06.94-2.06 2.06-.94-2.06-.94-.94-2.06-.94 2.06-2.06.94z\"/><path d=\"M17.41 7.96l-1.37-1.37c-.4-.4-.92-.59-1.43-.59-.52 0-1.04.2-1.43.59L10.3 9.45l-7.72 7.72c-.78.78-.78 2.05 0 2.83L4 21.41c.39.39.9.59 1.41.59.51 0 1.02-.2 1.41-.59l7.78-7.78 2.81-2.81c.8-.78.8-2.07 0-2.86zM5.41 20L4 18.59l7.72-7.72 1.47 1.35L5.41 20z\"/>\n",
              "  </svg>\n",
              "      </button>\n",
              "      \n",
              "  <style>\n",
              "    .colab-df-container {\n",
              "      display:flex;\n",
              "      flex-wrap:wrap;\n",
              "      gap: 12px;\n",
              "    }\n",
              "\n",
              "    .colab-df-convert {\n",
              "      background-color: #E8F0FE;\n",
              "      border: none;\n",
              "      border-radius: 50%;\n",
              "      cursor: pointer;\n",
              "      display: none;\n",
              "      fill: #1967D2;\n",
              "      height: 32px;\n",
              "      padding: 0 0 0 0;\n",
              "      width: 32px;\n",
              "    }\n",
              "\n",
              "    .colab-df-convert:hover {\n",
              "      background-color: #E2EBFA;\n",
              "      box-shadow: 0px 1px 2px rgba(60, 64, 67, 0.3), 0px 1px 3px 1px rgba(60, 64, 67, 0.15);\n",
              "      fill: #174EA6;\n",
              "    }\n",
              "\n",
              "    [theme=dark] .colab-df-convert {\n",
              "      background-color: #3B4455;\n",
              "      fill: #D2E3FC;\n",
              "    }\n",
              "\n",
              "    [theme=dark] .colab-df-convert:hover {\n",
              "      background-color: #434B5C;\n",
              "      box-shadow: 0px 1px 3px 1px rgba(0, 0, 0, 0.15);\n",
              "      filter: drop-shadow(0px 1px 2px rgba(0, 0, 0, 0.3));\n",
              "      fill: #FFFFFF;\n",
              "    }\n",
              "  </style>\n",
              "\n",
              "      <script>\n",
              "        const buttonEl =\n",
              "          document.querySelector('#df-1cdf344e-562b-40c5-9acc-59d213e9736d button.colab-df-convert');\n",
              "        buttonEl.style.display =\n",
              "          google.colab.kernel.accessAllowed ? 'block' : 'none';\n",
              "\n",
              "        async function convertToInteractive(key) {\n",
              "          const element = document.querySelector('#df-1cdf344e-562b-40c5-9acc-59d213e9736d');\n",
              "          const dataTable =\n",
              "            await google.colab.kernel.invokeFunction('convertToInteractive',\n",
              "                                                     [key], {});\n",
              "          if (!dataTable) return;\n",
              "\n",
              "          const docLinkHtml = 'Like what you see? Visit the ' +\n",
              "            '<a target=\"_blank\" href=https://colab.research.google.com/notebooks/data_table.ipynb>data table notebook</a>'\n",
              "            + ' to learn more about interactive tables.';\n",
              "          element.innerHTML = '';\n",
              "          dataTable['output_type'] = 'display_data';\n",
              "          await google.colab.output.renderOutput(dataTable, element);\n",
              "          const docLink = document.createElement('div');\n",
              "          docLink.innerHTML = docLinkHtml;\n",
              "          element.appendChild(docLink);\n",
              "        }\n",
              "      </script>\n",
              "    </div>\n",
              "  </div>\n",
              "  "
            ]
          },
          "metadata": {},
          "execution_count": 84
        }
      ],
      "source": [
        "df.head()"
      ]
    },
    {
      "cell_type": "markdown",
      "source": [
        "## Handling \"Total_stops\""
      ],
      "metadata": {
        "id": "XYjts6UiR3-Z"
      }
    },
    {
      "cell_type": "markdown",
      "source": [
        "Pada atribut ini terdapat 5 value utama yang dapat dilakukan label encoding dengan nilai 0-4"
      ],
      "metadata": {
        "id": "zxJ6vtbem4uu"
      }
    },
    {
      "cell_type": "code",
      "execution_count": null,
      "metadata": {
        "id": "TyRnfv5O2lr8",
        "colab": {
          "base_uri": "https://localhost:8080/"
        },
        "outputId": "f5f1d1f1-614f-406e-c22e-b4f8e5a3b53f"
      },
      "outputs": [
        {
          "output_type": "execute_result",
          "data": {
            "text/plain": [
              "1 stop      5625\n",
              "non-stop    3491\n",
              "2 stops     1520\n",
              "3 stops       45\n",
              "4 stops        1\n",
              "Name: Total_Stops, dtype: int64"
            ]
          },
          "metadata": {},
          "execution_count": 85
        }
      ],
      "source": [
        "df[\"Total_Stops\"].value_counts()"
      ]
    },
    {
      "cell_type": "code",
      "source": [
        "#label encoding value nya menjadi interval 0-4\n",
        "df.replace({\"non-stop\": 0, \"1 stop\": 1, \"2 stops\": 2, \"3 stops\": 3, \"4 stops\": 4}, inplace = True)\n"
      ],
      "metadata": {
        "id": "7JmL70_MfSVC"
      },
      "execution_count": null,
      "outputs": []
    },
    {
      "cell_type": "markdown",
      "source": [
        "## Handling \"Airplane\""
      ],
      "metadata": {
        "id": "FkzZUvXGRhuK"
      }
    },
    {
      "cell_type": "markdown",
      "source": [
        "Berbeda dengan atribut-atribuk numerik sebelumnya, pada kolom akan dilakukan penyederhanaan atau penggabungan value. Untuk value yang di gabung adalah value yang memiliki jumlah sedikit seperti 'Trujet','Vistara Premium economy','Jet Airways Business','Multiple carriers Premium economy' maka akan di gabung menjadi satu value yaitu “Other”."
      ],
      "metadata": {
        "id": "UdExTIo5m8-T"
      }
    },
    {
      "cell_type": "code",
      "execution_count": null,
      "metadata": {
        "colab": {
          "base_uri": "https://localhost:8080/"
        },
        "id": "ReuGOURxLhPw",
        "outputId": "94dae209-14de-4dc5-c207-5248b54fb746"
      },
      "outputs": [
        {
          "output_type": "execute_result",
          "data": {
            "text/plain": [
              "Jet Airways                          3849\n",
              "IndiGo                               2053\n",
              "Air India                            1751\n",
              "Multiple carriers                    1196\n",
              "SpiceJet                              818\n",
              "Vistara                               479\n",
              "Air Asia                              319\n",
              "GoAir                                 194\n",
              "Multiple carriers Premium economy      13\n",
              "Jet Airways Business                    6\n",
              "Vistara Premium economy                 3\n",
              "Trujet                                  1\n",
              "Name: Airline, dtype: int64"
            ]
          },
          "metadata": {},
          "execution_count": 87
        }
      ],
      "source": [
        "df['Airline'].value_counts()"
      ]
    },
    {
      "cell_type": "markdown",
      "metadata": {
        "id": "bu41_xYAj2jW"
      },
      "source": [
        "Mengelompokkan jenis pesawat yang memilki jumlah sedikit menjadi satu value yaitu \"other\""
      ]
    },
    {
      "cell_type": "code",
      "execution_count": null,
      "metadata": {
        "colab": {
          "base_uri": "https://localhost:8080/"
        },
        "id": "-GcSEE9NMA9Q",
        "outputId": "1142baa1-e86d-4170-fd6d-b3af72bd1203"
      },
      "outputs": [
        {
          "output_type": "stream",
          "name": "stderr",
          "text": [
            "<ipython-input-88-02a4c499e34a>:11: SettingWithCopyWarning: \n",
            "A value is trying to be set on a copy of a slice from a DataFrame.\n",
            "Try using .loc[row_indexer,col_indexer] = value instead\n",
            "\n",
            "See the caveats in the documentation: https://pandas.pydata.org/pandas-docs/stable/user_guide/indexing.html#returning-a-view-versus-a-copy\n",
            "  Airline['Airline'] = pd.DataFrame(new_list)\n"
          ]
        },
        {
          "output_type": "execute_result",
          "data": {
            "text/plain": [
              "Jet Airways          3849\n",
              "IndiGo               2053\n",
              "Air India            1750\n",
              "Multiple carriers    1196\n",
              "SpiceJet              818\n",
              "Vistara               479\n",
              "Air Asia              319\n",
              "GoAir                 194\n",
              "Other                  23\n",
              "Name: Airline, dtype: int64"
            ]
          },
          "metadata": {},
          "execution_count": 88
        }
      ],
      "source": [
        "Airline = df[['Airline']]\n",
        "current_list = Airline['Airline']\n",
        "new_list = []\n",
        "\n",
        "for carrier in current_list:\n",
        "  if carrier in ['Trujet','Vistara Premium economy','Jet Airways Business','Multiple carriers Premium economy']:\n",
        "    new_list.append('Other')\n",
        "  else:\n",
        "    new_list.append(carrier)\n",
        "\n",
        "Airline['Airline'] = pd.DataFrame(new_list)\n",
        "Airline['Airline'].value_counts()"
      ]
    },
    {
      "cell_type": "code",
      "execution_count": null,
      "metadata": {
        "colab": {
          "base_uri": "https://localhost:8080/",
          "height": 206
        },
        "id": "Guq1uE35kdrt",
        "outputId": "9a6c8646-8295-4f90-c3c1-32d3dfc04e67"
      },
      "outputs": [
        {
          "output_type": "execute_result",
          "data": {
            "text/plain": [
              "   Airline_Air India  Airline_GoAir  Airline_IndiGo  Airline_Jet Airways  \\\n",
              "0                  0              0               1                    0   \n",
              "1                  1              0               0                    0   \n",
              "2                  0              0               0                    1   \n",
              "3                  0              0               1                    0   \n",
              "4                  0              0               1                    0   \n",
              "\n",
              "   Airline_Multiple carriers  Airline_Other  Airline_SpiceJet  Airline_Vistara  \n",
              "0                          0              0                 0                0  \n",
              "1                          0              0                 0                0  \n",
              "2                          0              0                 0                0  \n",
              "3                          0              0                 0                0  \n",
              "4                          0              0                 0                0  "
            ],
            "text/html": [
              "\n",
              "  <div id=\"df-2ba82078-be85-48d9-b3b5-feaca0281fb2\">\n",
              "    <div class=\"colab-df-container\">\n",
              "      <div>\n",
              "<style scoped>\n",
              "    .dataframe tbody tr th:only-of-type {\n",
              "        vertical-align: middle;\n",
              "    }\n",
              "\n",
              "    .dataframe tbody tr th {\n",
              "        vertical-align: top;\n",
              "    }\n",
              "\n",
              "    .dataframe thead th {\n",
              "        text-align: right;\n",
              "    }\n",
              "</style>\n",
              "<table border=\"1\" class=\"dataframe\">\n",
              "  <thead>\n",
              "    <tr style=\"text-align: right;\">\n",
              "      <th></th>\n",
              "      <th>Airline_Air India</th>\n",
              "      <th>Airline_GoAir</th>\n",
              "      <th>Airline_IndiGo</th>\n",
              "      <th>Airline_Jet Airways</th>\n",
              "      <th>Airline_Multiple carriers</th>\n",
              "      <th>Airline_Other</th>\n",
              "      <th>Airline_SpiceJet</th>\n",
              "      <th>Airline_Vistara</th>\n",
              "    </tr>\n",
              "  </thead>\n",
              "  <tbody>\n",
              "    <tr>\n",
              "      <th>0</th>\n",
              "      <td>0</td>\n",
              "      <td>0</td>\n",
              "      <td>1</td>\n",
              "      <td>0</td>\n",
              "      <td>0</td>\n",
              "      <td>0</td>\n",
              "      <td>0</td>\n",
              "      <td>0</td>\n",
              "    </tr>\n",
              "    <tr>\n",
              "      <th>1</th>\n",
              "      <td>1</td>\n",
              "      <td>0</td>\n",
              "      <td>0</td>\n",
              "      <td>0</td>\n",
              "      <td>0</td>\n",
              "      <td>0</td>\n",
              "      <td>0</td>\n",
              "      <td>0</td>\n",
              "    </tr>\n",
              "    <tr>\n",
              "      <th>2</th>\n",
              "      <td>0</td>\n",
              "      <td>0</td>\n",
              "      <td>0</td>\n",
              "      <td>1</td>\n",
              "      <td>0</td>\n",
              "      <td>0</td>\n",
              "      <td>0</td>\n",
              "      <td>0</td>\n",
              "    </tr>\n",
              "    <tr>\n",
              "      <th>3</th>\n",
              "      <td>0</td>\n",
              "      <td>0</td>\n",
              "      <td>1</td>\n",
              "      <td>0</td>\n",
              "      <td>0</td>\n",
              "      <td>0</td>\n",
              "      <td>0</td>\n",
              "      <td>0</td>\n",
              "    </tr>\n",
              "    <tr>\n",
              "      <th>4</th>\n",
              "      <td>0</td>\n",
              "      <td>0</td>\n",
              "      <td>1</td>\n",
              "      <td>0</td>\n",
              "      <td>0</td>\n",
              "      <td>0</td>\n",
              "      <td>0</td>\n",
              "      <td>0</td>\n",
              "    </tr>\n",
              "  </tbody>\n",
              "</table>\n",
              "</div>\n",
              "      <button class=\"colab-df-convert\" onclick=\"convertToInteractive('df-2ba82078-be85-48d9-b3b5-feaca0281fb2')\"\n",
              "              title=\"Convert this dataframe to an interactive table.\"\n",
              "              style=\"display:none;\">\n",
              "        \n",
              "  <svg xmlns=\"http://www.w3.org/2000/svg\" height=\"24px\"viewBox=\"0 0 24 24\"\n",
              "       width=\"24px\">\n",
              "    <path d=\"M0 0h24v24H0V0z\" fill=\"none\"/>\n",
              "    <path d=\"M18.56 5.44l.94 2.06.94-2.06 2.06-.94-2.06-.94-.94-2.06-.94 2.06-2.06.94zm-11 1L8.5 8.5l.94-2.06 2.06-.94-2.06-.94L8.5 2.5l-.94 2.06-2.06.94zm10 10l.94 2.06.94-2.06 2.06-.94-2.06-.94-.94-2.06-.94 2.06-2.06.94z\"/><path d=\"M17.41 7.96l-1.37-1.37c-.4-.4-.92-.59-1.43-.59-.52 0-1.04.2-1.43.59L10.3 9.45l-7.72 7.72c-.78.78-.78 2.05 0 2.83L4 21.41c.39.39.9.59 1.41.59.51 0 1.02-.2 1.41-.59l7.78-7.78 2.81-2.81c.8-.78.8-2.07 0-2.86zM5.41 20L4 18.59l7.72-7.72 1.47 1.35L5.41 20z\"/>\n",
              "  </svg>\n",
              "      </button>\n",
              "      \n",
              "  <style>\n",
              "    .colab-df-container {\n",
              "      display:flex;\n",
              "      flex-wrap:wrap;\n",
              "      gap: 12px;\n",
              "    }\n",
              "\n",
              "    .colab-df-convert {\n",
              "      background-color: #E8F0FE;\n",
              "      border: none;\n",
              "      border-radius: 50%;\n",
              "      cursor: pointer;\n",
              "      display: none;\n",
              "      fill: #1967D2;\n",
              "      height: 32px;\n",
              "      padding: 0 0 0 0;\n",
              "      width: 32px;\n",
              "    }\n",
              "\n",
              "    .colab-df-convert:hover {\n",
              "      background-color: #E2EBFA;\n",
              "      box-shadow: 0px 1px 2px rgba(60, 64, 67, 0.3), 0px 1px 3px 1px rgba(60, 64, 67, 0.15);\n",
              "      fill: #174EA6;\n",
              "    }\n",
              "\n",
              "    [theme=dark] .colab-df-convert {\n",
              "      background-color: #3B4455;\n",
              "      fill: #D2E3FC;\n",
              "    }\n",
              "\n",
              "    [theme=dark] .colab-df-convert:hover {\n",
              "      background-color: #434B5C;\n",
              "      box-shadow: 0px 1px 3px 1px rgba(0, 0, 0, 0.15);\n",
              "      filter: drop-shadow(0px 1px 2px rgba(0, 0, 0, 0.3));\n",
              "      fill: #FFFFFF;\n",
              "    }\n",
              "  </style>\n",
              "\n",
              "      <script>\n",
              "        const buttonEl =\n",
              "          document.querySelector('#df-2ba82078-be85-48d9-b3b5-feaca0281fb2 button.colab-df-convert');\n",
              "        buttonEl.style.display =\n",
              "          google.colab.kernel.accessAllowed ? 'block' : 'none';\n",
              "\n",
              "        async function convertToInteractive(key) {\n",
              "          const element = document.querySelector('#df-2ba82078-be85-48d9-b3b5-feaca0281fb2');\n",
              "          const dataTable =\n",
              "            await google.colab.kernel.invokeFunction('convertToInteractive',\n",
              "                                                     [key], {});\n",
              "          if (!dataTable) return;\n",
              "\n",
              "          const docLinkHtml = 'Like what you see? Visit the ' +\n",
              "            '<a target=\"_blank\" href=https://colab.research.google.com/notebooks/data_table.ipynb>data table notebook</a>'\n",
              "            + ' to learn more about interactive tables.';\n",
              "          element.innerHTML = '';\n",
              "          dataTable['output_type'] = 'display_data';\n",
              "          await google.colab.output.renderOutput(dataTable, element);\n",
              "          const docLink = document.createElement('div');\n",
              "          docLink.innerHTML = docLinkHtml;\n",
              "          element.appendChild(docLink);\n",
              "        }\n",
              "      </script>\n",
              "    </div>\n",
              "  </div>\n",
              "  "
            ]
          },
          "metadata": {},
          "execution_count": 89
        }
      ],
      "source": [
        "#OneHotEncoding\n",
        "Airline= pd.get_dummies(Airline, drop_first=True)\n",
        "Airline.head()"
      ]
    },
    {
      "cell_type": "markdown",
      "metadata": {
        "id": "zvcd_5ZgkziM"
      },
      "source": [
        "## Handling \"Source\""
      ]
    },
    {
      "cell_type": "code",
      "execution_count": null,
      "metadata": {
        "colab": {
          "base_uri": "https://localhost:8080/"
        },
        "id": "xByBC2Lhkqmu",
        "outputId": "93b70bd9-b12e-4b24-addd-083aae011ee9"
      },
      "outputs": [
        {
          "output_type": "execute_result",
          "data": {
            "text/plain": [
              "Delhi       4536\n",
              "Kolkata     2871\n",
              "Banglore    2197\n",
              "Mumbai       697\n",
              "Chennai      381\n",
              "Name: Source, dtype: int64"
            ]
          },
          "metadata": {},
          "execution_count": 90
        }
      ],
      "source": [
        "df['Source'].value_counts()"
      ]
    },
    {
      "cell_type": "code",
      "execution_count": null,
      "metadata": {
        "colab": {
          "base_uri": "https://localhost:8080/"
        },
        "id": "6_3tYkzXlbqh",
        "outputId": "267993a0-f819-490f-bd1e-293612c2fd8e"
      },
      "outputs": [
        {
          "output_type": "execute_result",
          "data": {
            "text/plain": [
              "0        Banglore\n",
              "1         Kolkata\n",
              "2           Delhi\n",
              "3         Kolkata\n",
              "4        Banglore\n",
              "           ...   \n",
              "10678     Kolkata\n",
              "10679     Kolkata\n",
              "10680    Banglore\n",
              "10681    Banglore\n",
              "10682       Delhi\n",
              "Name: Source, Length: 10682, dtype: object"
            ]
          },
          "metadata": {},
          "execution_count": 91
        }
      ],
      "source": [
        "df['Source']"
      ]
    },
    {
      "cell_type": "code",
      "execution_count": null,
      "metadata": {
        "colab": {
          "base_uri": "https://localhost:8080/",
          "height": 206
        },
        "id": "WkxdXMQRk5vr",
        "outputId": "37099f8b-ca2d-4808-91d3-2d1bfaf956c6"
      },
      "outputs": [
        {
          "output_type": "execute_result",
          "data": {
            "text/plain": [
              "   Source_Chennai  Source_Delhi  Source_Kolkata  Source_Mumbai\n",
              "0               0             0               0              0\n",
              "1               0             0               1              0\n",
              "2               0             1               0              0\n",
              "3               0             0               1              0\n",
              "4               0             0               0              0"
            ],
            "text/html": [
              "\n",
              "  <div id=\"df-72585999-420b-47ea-96f6-c2fcb23f2a8c\">\n",
              "    <div class=\"colab-df-container\">\n",
              "      <div>\n",
              "<style scoped>\n",
              "    .dataframe tbody tr th:only-of-type {\n",
              "        vertical-align: middle;\n",
              "    }\n",
              "\n",
              "    .dataframe tbody tr th {\n",
              "        vertical-align: top;\n",
              "    }\n",
              "\n",
              "    .dataframe thead th {\n",
              "        text-align: right;\n",
              "    }\n",
              "</style>\n",
              "<table border=\"1\" class=\"dataframe\">\n",
              "  <thead>\n",
              "    <tr style=\"text-align: right;\">\n",
              "      <th></th>\n",
              "      <th>Source_Chennai</th>\n",
              "      <th>Source_Delhi</th>\n",
              "      <th>Source_Kolkata</th>\n",
              "      <th>Source_Mumbai</th>\n",
              "    </tr>\n",
              "  </thead>\n",
              "  <tbody>\n",
              "    <tr>\n",
              "      <th>0</th>\n",
              "      <td>0</td>\n",
              "      <td>0</td>\n",
              "      <td>0</td>\n",
              "      <td>0</td>\n",
              "    </tr>\n",
              "    <tr>\n",
              "      <th>1</th>\n",
              "      <td>0</td>\n",
              "      <td>0</td>\n",
              "      <td>1</td>\n",
              "      <td>0</td>\n",
              "    </tr>\n",
              "    <tr>\n",
              "      <th>2</th>\n",
              "      <td>0</td>\n",
              "      <td>1</td>\n",
              "      <td>0</td>\n",
              "      <td>0</td>\n",
              "    </tr>\n",
              "    <tr>\n",
              "      <th>3</th>\n",
              "      <td>0</td>\n",
              "      <td>0</td>\n",
              "      <td>1</td>\n",
              "      <td>0</td>\n",
              "    </tr>\n",
              "    <tr>\n",
              "      <th>4</th>\n",
              "      <td>0</td>\n",
              "      <td>0</td>\n",
              "      <td>0</td>\n",
              "      <td>0</td>\n",
              "    </tr>\n",
              "  </tbody>\n",
              "</table>\n",
              "</div>\n",
              "      <button class=\"colab-df-convert\" onclick=\"convertToInteractive('df-72585999-420b-47ea-96f6-c2fcb23f2a8c')\"\n",
              "              title=\"Convert this dataframe to an interactive table.\"\n",
              "              style=\"display:none;\">\n",
              "        \n",
              "  <svg xmlns=\"http://www.w3.org/2000/svg\" height=\"24px\"viewBox=\"0 0 24 24\"\n",
              "       width=\"24px\">\n",
              "    <path d=\"M0 0h24v24H0V0z\" fill=\"none\"/>\n",
              "    <path d=\"M18.56 5.44l.94 2.06.94-2.06 2.06-.94-2.06-.94-.94-2.06-.94 2.06-2.06.94zm-11 1L8.5 8.5l.94-2.06 2.06-.94-2.06-.94L8.5 2.5l-.94 2.06-2.06.94zm10 10l.94 2.06.94-2.06 2.06-.94-2.06-.94-.94-2.06-.94 2.06-2.06.94z\"/><path d=\"M17.41 7.96l-1.37-1.37c-.4-.4-.92-.59-1.43-.59-.52 0-1.04.2-1.43.59L10.3 9.45l-7.72 7.72c-.78.78-.78 2.05 0 2.83L4 21.41c.39.39.9.59 1.41.59.51 0 1.02-.2 1.41-.59l7.78-7.78 2.81-2.81c.8-.78.8-2.07 0-2.86zM5.41 20L4 18.59l7.72-7.72 1.47 1.35L5.41 20z\"/>\n",
              "  </svg>\n",
              "      </button>\n",
              "      \n",
              "  <style>\n",
              "    .colab-df-container {\n",
              "      display:flex;\n",
              "      flex-wrap:wrap;\n",
              "      gap: 12px;\n",
              "    }\n",
              "\n",
              "    .colab-df-convert {\n",
              "      background-color: #E8F0FE;\n",
              "      border: none;\n",
              "      border-radius: 50%;\n",
              "      cursor: pointer;\n",
              "      display: none;\n",
              "      fill: #1967D2;\n",
              "      height: 32px;\n",
              "      padding: 0 0 0 0;\n",
              "      width: 32px;\n",
              "    }\n",
              "\n",
              "    .colab-df-convert:hover {\n",
              "      background-color: #E2EBFA;\n",
              "      box-shadow: 0px 1px 2px rgba(60, 64, 67, 0.3), 0px 1px 3px 1px rgba(60, 64, 67, 0.15);\n",
              "      fill: #174EA6;\n",
              "    }\n",
              "\n",
              "    [theme=dark] .colab-df-convert {\n",
              "      background-color: #3B4455;\n",
              "      fill: #D2E3FC;\n",
              "    }\n",
              "\n",
              "    [theme=dark] .colab-df-convert:hover {\n",
              "      background-color: #434B5C;\n",
              "      box-shadow: 0px 1px 3px 1px rgba(0, 0, 0, 0.15);\n",
              "      filter: drop-shadow(0px 1px 2px rgba(0, 0, 0, 0.3));\n",
              "      fill: #FFFFFF;\n",
              "    }\n",
              "  </style>\n",
              "\n",
              "      <script>\n",
              "        const buttonEl =\n",
              "          document.querySelector('#df-72585999-420b-47ea-96f6-c2fcb23f2a8c button.colab-df-convert');\n",
              "        buttonEl.style.display =\n",
              "          google.colab.kernel.accessAllowed ? 'block' : 'none';\n",
              "\n",
              "        async function convertToInteractive(key) {\n",
              "          const element = document.querySelector('#df-72585999-420b-47ea-96f6-c2fcb23f2a8c');\n",
              "          const dataTable =\n",
              "            await google.colab.kernel.invokeFunction('convertToInteractive',\n",
              "                                                     [key], {});\n",
              "          if (!dataTable) return;\n",
              "\n",
              "          const docLinkHtml = 'Like what you see? Visit the ' +\n",
              "            '<a target=\"_blank\" href=https://colab.research.google.com/notebooks/data_table.ipynb>data table notebook</a>'\n",
              "            + ' to learn more about interactive tables.';\n",
              "          element.innerHTML = '';\n",
              "          dataTable['output_type'] = 'display_data';\n",
              "          await google.colab.output.renderOutput(dataTable, element);\n",
              "          const docLink = document.createElement('div');\n",
              "          docLink.innerHTML = docLinkHtml;\n",
              "          element.appendChild(docLink);\n",
              "        }\n",
              "      </script>\n",
              "    </div>\n",
              "  </div>\n",
              "  "
            ]
          },
          "metadata": {},
          "execution_count": 92
        }
      ],
      "source": [
        "#oneHotEncoding\n",
        "Source= df[['Source']]\n",
        "Source= pd.get_dummies(Source,drop_first=True)\n",
        "Source.head()"
      ]
    },
    {
      "cell_type": "markdown",
      "source": [
        "## Handling \"Destination\""
      ],
      "metadata": {
        "id": "AA4klCDFRyMk"
      }
    },
    {
      "cell_type": "markdown",
      "source": [
        "Sama seperti atribut Airline, kita juga dapat melakukan penyederhanaan / penggabungan value yang memilki makna yang sama yaitu “New Delhi” dan “Delhi” sehingga dapat di satukan menjadi “Delhi”. "
      ],
      "metadata": {
        "id": "ZkEpIy0CnDfn"
      }
    },
    {
      "cell_type": "code",
      "execution_count": null,
      "metadata": {
        "colab": {
          "base_uri": "https://localhost:8080/"
        },
        "id": "G4qvhI5vmZWF",
        "outputId": "2eab5e6c-1feb-4331-c828-3b4346b7bd4d"
      },
      "outputs": [
        {
          "output_type": "execute_result",
          "data": {
            "text/plain": [
              "Cochin       4536\n",
              "Banglore     2871\n",
              "Delhi        1265\n",
              "New Delhi     932\n",
              "Hyderabad     697\n",
              "Kolkata       381\n",
              "Name: Destination, dtype: int64"
            ]
          },
          "metadata": {},
          "execution_count": 93
        }
      ],
      "source": [
        "df['Destination'].value_counts()"
      ]
    },
    {
      "cell_type": "code",
      "execution_count": null,
      "metadata": {
        "colab": {
          "base_uri": "https://localhost:8080/",
          "height": 310
        },
        "id": "sNK-QryWxXSO",
        "outputId": "f614bb3c-5a89-444c-d279-dfcd31485eed"
      },
      "outputs": [
        {
          "output_type": "stream",
          "name": "stderr",
          "text": [
            "<ipython-input-94-9d6110a0f869>:12: SettingWithCopyWarning: \n",
            "A value is trying to be set on a copy of a slice from a DataFrame.\n",
            "Try using .loc[row_indexer,col_indexer] = value instead\n",
            "\n",
            "See the caveats in the documentation: https://pandas.pydata.org/pandas-docs/stable/user_guide/indexing.html#returning-a-view-versus-a-copy\n",
            "  Destination['Destination'] =  pd.DataFrame(new_destination)\n"
          ]
        },
        {
          "output_type": "execute_result",
          "data": {
            "text/plain": [
              "   Destination_Cochin  Destination_Delhi  Destination_Hyderabad  \\\n",
              "0                   0                  1                      0   \n",
              "1                   0                  0                      0   \n",
              "2                   1                  0                      0   \n",
              "3                   0                  0                      0   \n",
              "4                   0                  1                      0   \n",
              "\n",
              "   Destination_Kolkata  \n",
              "0                    0  \n",
              "1                    0  \n",
              "2                    0  \n",
              "3                    0  \n",
              "4                    0  "
            ],
            "text/html": [
              "\n",
              "  <div id=\"df-4c992a6d-e015-47fa-8348-c647c9942bb3\">\n",
              "    <div class=\"colab-df-container\">\n",
              "      <div>\n",
              "<style scoped>\n",
              "    .dataframe tbody tr th:only-of-type {\n",
              "        vertical-align: middle;\n",
              "    }\n",
              "\n",
              "    .dataframe tbody tr th {\n",
              "        vertical-align: top;\n",
              "    }\n",
              "\n",
              "    .dataframe thead th {\n",
              "        text-align: right;\n",
              "    }\n",
              "</style>\n",
              "<table border=\"1\" class=\"dataframe\">\n",
              "  <thead>\n",
              "    <tr style=\"text-align: right;\">\n",
              "      <th></th>\n",
              "      <th>Destination_Cochin</th>\n",
              "      <th>Destination_Delhi</th>\n",
              "      <th>Destination_Hyderabad</th>\n",
              "      <th>Destination_Kolkata</th>\n",
              "    </tr>\n",
              "  </thead>\n",
              "  <tbody>\n",
              "    <tr>\n",
              "      <th>0</th>\n",
              "      <td>0</td>\n",
              "      <td>1</td>\n",
              "      <td>0</td>\n",
              "      <td>0</td>\n",
              "    </tr>\n",
              "    <tr>\n",
              "      <th>1</th>\n",
              "      <td>0</td>\n",
              "      <td>0</td>\n",
              "      <td>0</td>\n",
              "      <td>0</td>\n",
              "    </tr>\n",
              "    <tr>\n",
              "      <th>2</th>\n",
              "      <td>1</td>\n",
              "      <td>0</td>\n",
              "      <td>0</td>\n",
              "      <td>0</td>\n",
              "    </tr>\n",
              "    <tr>\n",
              "      <th>3</th>\n",
              "      <td>0</td>\n",
              "      <td>0</td>\n",
              "      <td>0</td>\n",
              "      <td>0</td>\n",
              "    </tr>\n",
              "    <tr>\n",
              "      <th>4</th>\n",
              "      <td>0</td>\n",
              "      <td>1</td>\n",
              "      <td>0</td>\n",
              "      <td>0</td>\n",
              "    </tr>\n",
              "  </tbody>\n",
              "</table>\n",
              "</div>\n",
              "      <button class=\"colab-df-convert\" onclick=\"convertToInteractive('df-4c992a6d-e015-47fa-8348-c647c9942bb3')\"\n",
              "              title=\"Convert this dataframe to an interactive table.\"\n",
              "              style=\"display:none;\">\n",
              "        \n",
              "  <svg xmlns=\"http://www.w3.org/2000/svg\" height=\"24px\"viewBox=\"0 0 24 24\"\n",
              "       width=\"24px\">\n",
              "    <path d=\"M0 0h24v24H0V0z\" fill=\"none\"/>\n",
              "    <path d=\"M18.56 5.44l.94 2.06.94-2.06 2.06-.94-2.06-.94-.94-2.06-.94 2.06-2.06.94zm-11 1L8.5 8.5l.94-2.06 2.06-.94-2.06-.94L8.5 2.5l-.94 2.06-2.06.94zm10 10l.94 2.06.94-2.06 2.06-.94-2.06-.94-.94-2.06-.94 2.06-2.06.94z\"/><path d=\"M17.41 7.96l-1.37-1.37c-.4-.4-.92-.59-1.43-.59-.52 0-1.04.2-1.43.59L10.3 9.45l-7.72 7.72c-.78.78-.78 2.05 0 2.83L4 21.41c.39.39.9.59 1.41.59.51 0 1.02-.2 1.41-.59l7.78-7.78 2.81-2.81c.8-.78.8-2.07 0-2.86zM5.41 20L4 18.59l7.72-7.72 1.47 1.35L5.41 20z\"/>\n",
              "  </svg>\n",
              "      </button>\n",
              "      \n",
              "  <style>\n",
              "    .colab-df-container {\n",
              "      display:flex;\n",
              "      flex-wrap:wrap;\n",
              "      gap: 12px;\n",
              "    }\n",
              "\n",
              "    .colab-df-convert {\n",
              "      background-color: #E8F0FE;\n",
              "      border: none;\n",
              "      border-radius: 50%;\n",
              "      cursor: pointer;\n",
              "      display: none;\n",
              "      fill: #1967D2;\n",
              "      height: 32px;\n",
              "      padding: 0 0 0 0;\n",
              "      width: 32px;\n",
              "    }\n",
              "\n",
              "    .colab-df-convert:hover {\n",
              "      background-color: #E2EBFA;\n",
              "      box-shadow: 0px 1px 2px rgba(60, 64, 67, 0.3), 0px 1px 3px 1px rgba(60, 64, 67, 0.15);\n",
              "      fill: #174EA6;\n",
              "    }\n",
              "\n",
              "    [theme=dark] .colab-df-convert {\n",
              "      background-color: #3B4455;\n",
              "      fill: #D2E3FC;\n",
              "    }\n",
              "\n",
              "    [theme=dark] .colab-df-convert:hover {\n",
              "      background-color: #434B5C;\n",
              "      box-shadow: 0px 1px 3px 1px rgba(0, 0, 0, 0.15);\n",
              "      filter: drop-shadow(0px 1px 2px rgba(0, 0, 0, 0.3));\n",
              "      fill: #FFFFFF;\n",
              "    }\n",
              "  </style>\n",
              "\n",
              "      <script>\n",
              "        const buttonEl =\n",
              "          document.querySelector('#df-4c992a6d-e015-47fa-8348-c647c9942bb3 button.colab-df-convert');\n",
              "        buttonEl.style.display =\n",
              "          google.colab.kernel.accessAllowed ? 'block' : 'none';\n",
              "\n",
              "        async function convertToInteractive(key) {\n",
              "          const element = document.querySelector('#df-4c992a6d-e015-47fa-8348-c647c9942bb3');\n",
              "          const dataTable =\n",
              "            await google.colab.kernel.invokeFunction('convertToInteractive',\n",
              "                                                     [key], {});\n",
              "          if (!dataTable) return;\n",
              "\n",
              "          const docLinkHtml = 'Like what you see? Visit the ' +\n",
              "            '<a target=\"_blank\" href=https://colab.research.google.com/notebooks/data_table.ipynb>data table notebook</a>'\n",
              "            + ' to learn more about interactive tables.';\n",
              "          element.innerHTML = '';\n",
              "          dataTable['output_type'] = 'display_data';\n",
              "          await google.colab.output.renderOutput(dataTable, element);\n",
              "          const docLink = document.createElement('div');\n",
              "          docLink.innerHTML = docLinkHtml;\n",
              "          element.appendChild(docLink);\n",
              "        }\n",
              "      </script>\n",
              "    </div>\n",
              "  </div>\n",
              "  "
            ]
          },
          "metadata": {},
          "execution_count": 94
        }
      ],
      "source": [
        "#value \"new delhi\" dan \"Delhi\" dapat disatukan menjadi satu value \"Delhi\" \n",
        "Destination = df[['Destination']]\n",
        "current_destination = Destination['Destination']\n",
        "new_destination = [ ]\n",
        "\n",
        "for carrier in current_destination:\n",
        "  if carrier in ['New Delhi']:\n",
        "    new_destination.append('Delhi')\n",
        "  else :\n",
        "    new_destination.append(carrier)\n",
        "\n",
        "Destination['Destination'] =  pd.DataFrame(new_destination)\n",
        "\n",
        "#oneHotEncoding\n",
        "Destination= pd.get_dummies(Destination, drop_first= True)\n",
        "Destination.head()\n"
      ]
    },
    {
      "cell_type": "markdown",
      "source": [
        "##Concenate dataframe Airline,Source, dan Destination"
      ],
      "metadata": {
        "id": "i1yIEo3SLXkz"
      }
    },
    {
      "cell_type": "markdown",
      "source": [
        "Penyatuan 3 atribut catagorik yang telah dilakukan teknik One hot encoding pada tiap variabelnya ke dataframe utama “df”"
      ],
      "metadata": {
        "id": "88m75a2knIp3"
      }
    },
    {
      "cell_type": "code",
      "source": [
        "# Concatenate dataframe --> df + Airline + Source + Destination \n",
        "df_train = pd.concat([df, Airline, Source, Destination], axis = 1)\n",
        "df_train.drop([\"Airline\", \"Source\", \"Destination\"], axis = 1, inplace = True)"
      ],
      "metadata": {
        "id": "GNi_n5a-elnB"
      },
      "execution_count": null,
      "outputs": []
    },
    {
      "cell_type": "code",
      "source": [
        "df_train.head()"
      ],
      "metadata": {
        "colab": {
          "base_uri": "https://localhost:8080/",
          "height": 300
        },
        "id": "J4V5TY7Sf0oC",
        "outputId": "eb705b5e-f72c-4688-ee46-21a84e294de1"
      },
      "execution_count": null,
      "outputs": [
        {
          "output_type": "execute_result",
          "data": {
            "text/plain": [
              "   Total_Stops  Price  Journey_days  Journey_month  Dep_hour  Dep_minute  \\\n",
              "0            0   3897            24              3        22          20   \n",
              "1            2   7662             1              5         5          50   \n",
              "2            2  13882             9              6         9          25   \n",
              "3            1   6218            12              5        18           5   \n",
              "4            1  13302             1              3        16          50   \n",
              "\n",
              "   Arrival_hour  Arrival_minute  Duration_hours  Duration_mins  ...  \\\n",
              "0             1              10               2             50  ...   \n",
              "1            13              15               7             25  ...   \n",
              "2             4              25              19              0  ...   \n",
              "3            23              30               5             25  ...   \n",
              "4            21              35               4             45  ...   \n",
              "\n",
              "   Airline_SpiceJet  Airline_Vistara  Source_Chennai  Source_Delhi  \\\n",
              "0                 0                0               0             0   \n",
              "1                 0                0               0             0   \n",
              "2                 0                0               0             1   \n",
              "3                 0                0               0             0   \n",
              "4                 0                0               0             0   \n",
              "\n",
              "   Source_Kolkata  Source_Mumbai  Destination_Cochin  Destination_Delhi  \\\n",
              "0               0              0                   0                  1   \n",
              "1               1              0                   0                  0   \n",
              "2               0              0                   1                  0   \n",
              "3               1              0                   0                  0   \n",
              "4               0              0                   0                  1   \n",
              "\n",
              "   Destination_Hyderabad  Destination_Kolkata  \n",
              "0                      0                    0  \n",
              "1                      0                    0  \n",
              "2                      0                    0  \n",
              "3                      0                    0  \n",
              "4                      0                    0  \n",
              "\n",
              "[5 rows x 26 columns]"
            ],
            "text/html": [
              "\n",
              "  <div id=\"df-061bfba2-896e-48b6-b825-157a8303c06d\">\n",
              "    <div class=\"colab-df-container\">\n",
              "      <div>\n",
              "<style scoped>\n",
              "    .dataframe tbody tr th:only-of-type {\n",
              "        vertical-align: middle;\n",
              "    }\n",
              "\n",
              "    .dataframe tbody tr th {\n",
              "        vertical-align: top;\n",
              "    }\n",
              "\n",
              "    .dataframe thead th {\n",
              "        text-align: right;\n",
              "    }\n",
              "</style>\n",
              "<table border=\"1\" class=\"dataframe\">\n",
              "  <thead>\n",
              "    <tr style=\"text-align: right;\">\n",
              "      <th></th>\n",
              "      <th>Total_Stops</th>\n",
              "      <th>Price</th>\n",
              "      <th>Journey_days</th>\n",
              "      <th>Journey_month</th>\n",
              "      <th>Dep_hour</th>\n",
              "      <th>Dep_minute</th>\n",
              "      <th>Arrival_hour</th>\n",
              "      <th>Arrival_minute</th>\n",
              "      <th>Duration_hours</th>\n",
              "      <th>Duration_mins</th>\n",
              "      <th>...</th>\n",
              "      <th>Airline_SpiceJet</th>\n",
              "      <th>Airline_Vistara</th>\n",
              "      <th>Source_Chennai</th>\n",
              "      <th>Source_Delhi</th>\n",
              "      <th>Source_Kolkata</th>\n",
              "      <th>Source_Mumbai</th>\n",
              "      <th>Destination_Cochin</th>\n",
              "      <th>Destination_Delhi</th>\n",
              "      <th>Destination_Hyderabad</th>\n",
              "      <th>Destination_Kolkata</th>\n",
              "    </tr>\n",
              "  </thead>\n",
              "  <tbody>\n",
              "    <tr>\n",
              "      <th>0</th>\n",
              "      <td>0</td>\n",
              "      <td>3897</td>\n",
              "      <td>24</td>\n",
              "      <td>3</td>\n",
              "      <td>22</td>\n",
              "      <td>20</td>\n",
              "      <td>1</td>\n",
              "      <td>10</td>\n",
              "      <td>2</td>\n",
              "      <td>50</td>\n",
              "      <td>...</td>\n",
              "      <td>0</td>\n",
              "      <td>0</td>\n",
              "      <td>0</td>\n",
              "      <td>0</td>\n",
              "      <td>0</td>\n",
              "      <td>0</td>\n",
              "      <td>0</td>\n",
              "      <td>1</td>\n",
              "      <td>0</td>\n",
              "      <td>0</td>\n",
              "    </tr>\n",
              "    <tr>\n",
              "      <th>1</th>\n",
              "      <td>2</td>\n",
              "      <td>7662</td>\n",
              "      <td>1</td>\n",
              "      <td>5</td>\n",
              "      <td>5</td>\n",
              "      <td>50</td>\n",
              "      <td>13</td>\n",
              "      <td>15</td>\n",
              "      <td>7</td>\n",
              "      <td>25</td>\n",
              "      <td>...</td>\n",
              "      <td>0</td>\n",
              "      <td>0</td>\n",
              "      <td>0</td>\n",
              "      <td>0</td>\n",
              "      <td>1</td>\n",
              "      <td>0</td>\n",
              "      <td>0</td>\n",
              "      <td>0</td>\n",
              "      <td>0</td>\n",
              "      <td>0</td>\n",
              "    </tr>\n",
              "    <tr>\n",
              "      <th>2</th>\n",
              "      <td>2</td>\n",
              "      <td>13882</td>\n",
              "      <td>9</td>\n",
              "      <td>6</td>\n",
              "      <td>9</td>\n",
              "      <td>25</td>\n",
              "      <td>4</td>\n",
              "      <td>25</td>\n",
              "      <td>19</td>\n",
              "      <td>0</td>\n",
              "      <td>...</td>\n",
              "      <td>0</td>\n",
              "      <td>0</td>\n",
              "      <td>0</td>\n",
              "      <td>1</td>\n",
              "      <td>0</td>\n",
              "      <td>0</td>\n",
              "      <td>1</td>\n",
              "      <td>0</td>\n",
              "      <td>0</td>\n",
              "      <td>0</td>\n",
              "    </tr>\n",
              "    <tr>\n",
              "      <th>3</th>\n",
              "      <td>1</td>\n",
              "      <td>6218</td>\n",
              "      <td>12</td>\n",
              "      <td>5</td>\n",
              "      <td>18</td>\n",
              "      <td>5</td>\n",
              "      <td>23</td>\n",
              "      <td>30</td>\n",
              "      <td>5</td>\n",
              "      <td>25</td>\n",
              "      <td>...</td>\n",
              "      <td>0</td>\n",
              "      <td>0</td>\n",
              "      <td>0</td>\n",
              "      <td>0</td>\n",
              "      <td>1</td>\n",
              "      <td>0</td>\n",
              "      <td>0</td>\n",
              "      <td>0</td>\n",
              "      <td>0</td>\n",
              "      <td>0</td>\n",
              "    </tr>\n",
              "    <tr>\n",
              "      <th>4</th>\n",
              "      <td>1</td>\n",
              "      <td>13302</td>\n",
              "      <td>1</td>\n",
              "      <td>3</td>\n",
              "      <td>16</td>\n",
              "      <td>50</td>\n",
              "      <td>21</td>\n",
              "      <td>35</td>\n",
              "      <td>4</td>\n",
              "      <td>45</td>\n",
              "      <td>...</td>\n",
              "      <td>0</td>\n",
              "      <td>0</td>\n",
              "      <td>0</td>\n",
              "      <td>0</td>\n",
              "      <td>0</td>\n",
              "      <td>0</td>\n",
              "      <td>0</td>\n",
              "      <td>1</td>\n",
              "      <td>0</td>\n",
              "      <td>0</td>\n",
              "    </tr>\n",
              "  </tbody>\n",
              "</table>\n",
              "<p>5 rows × 26 columns</p>\n",
              "</div>\n",
              "      <button class=\"colab-df-convert\" onclick=\"convertToInteractive('df-061bfba2-896e-48b6-b825-157a8303c06d')\"\n",
              "              title=\"Convert this dataframe to an interactive table.\"\n",
              "              style=\"display:none;\">\n",
              "        \n",
              "  <svg xmlns=\"http://www.w3.org/2000/svg\" height=\"24px\"viewBox=\"0 0 24 24\"\n",
              "       width=\"24px\">\n",
              "    <path d=\"M0 0h24v24H0V0z\" fill=\"none\"/>\n",
              "    <path d=\"M18.56 5.44l.94 2.06.94-2.06 2.06-.94-2.06-.94-.94-2.06-.94 2.06-2.06.94zm-11 1L8.5 8.5l.94-2.06 2.06-.94-2.06-.94L8.5 2.5l-.94 2.06-2.06.94zm10 10l.94 2.06.94-2.06 2.06-.94-2.06-.94-.94-2.06-.94 2.06-2.06.94z\"/><path d=\"M17.41 7.96l-1.37-1.37c-.4-.4-.92-.59-1.43-.59-.52 0-1.04.2-1.43.59L10.3 9.45l-7.72 7.72c-.78.78-.78 2.05 0 2.83L4 21.41c.39.39.9.59 1.41.59.51 0 1.02-.2 1.41-.59l7.78-7.78 2.81-2.81c.8-.78.8-2.07 0-2.86zM5.41 20L4 18.59l7.72-7.72 1.47 1.35L5.41 20z\"/>\n",
              "  </svg>\n",
              "      </button>\n",
              "      \n",
              "  <style>\n",
              "    .colab-df-container {\n",
              "      display:flex;\n",
              "      flex-wrap:wrap;\n",
              "      gap: 12px;\n",
              "    }\n",
              "\n",
              "    .colab-df-convert {\n",
              "      background-color: #E8F0FE;\n",
              "      border: none;\n",
              "      border-radius: 50%;\n",
              "      cursor: pointer;\n",
              "      display: none;\n",
              "      fill: #1967D2;\n",
              "      height: 32px;\n",
              "      padding: 0 0 0 0;\n",
              "      width: 32px;\n",
              "    }\n",
              "\n",
              "    .colab-df-convert:hover {\n",
              "      background-color: #E2EBFA;\n",
              "      box-shadow: 0px 1px 2px rgba(60, 64, 67, 0.3), 0px 1px 3px 1px rgba(60, 64, 67, 0.15);\n",
              "      fill: #174EA6;\n",
              "    }\n",
              "\n",
              "    [theme=dark] .colab-df-convert {\n",
              "      background-color: #3B4455;\n",
              "      fill: #D2E3FC;\n",
              "    }\n",
              "\n",
              "    [theme=dark] .colab-df-convert:hover {\n",
              "      background-color: #434B5C;\n",
              "      box-shadow: 0px 1px 3px 1px rgba(0, 0, 0, 0.15);\n",
              "      filter: drop-shadow(0px 1px 2px rgba(0, 0, 0, 0.3));\n",
              "      fill: #FFFFFF;\n",
              "    }\n",
              "  </style>\n",
              "\n",
              "      <script>\n",
              "        const buttonEl =\n",
              "          document.querySelector('#df-061bfba2-896e-48b6-b825-157a8303c06d button.colab-df-convert');\n",
              "        buttonEl.style.display =\n",
              "          google.colab.kernel.accessAllowed ? 'block' : 'none';\n",
              "\n",
              "        async function convertToInteractive(key) {\n",
              "          const element = document.querySelector('#df-061bfba2-896e-48b6-b825-157a8303c06d');\n",
              "          const dataTable =\n",
              "            await google.colab.kernel.invokeFunction('convertToInteractive',\n",
              "                                                     [key], {});\n",
              "          if (!dataTable) return;\n",
              "\n",
              "          const docLinkHtml = 'Like what you see? Visit the ' +\n",
              "            '<a target=\"_blank\" href=https://colab.research.google.com/notebooks/data_table.ipynb>data table notebook</a>'\n",
              "            + ' to learn more about interactive tables.';\n",
              "          element.innerHTML = '';\n",
              "          dataTable['output_type'] = 'display_data';\n",
              "          await google.colab.output.renderOutput(dataTable, element);\n",
              "          const docLink = document.createElement('div');\n",
              "          docLink.innerHTML = docLinkHtml;\n",
              "          element.appendChild(docLink);\n",
              "        }\n",
              "      </script>\n",
              "    </div>\n",
              "  </div>\n",
              "  "
            ]
          },
          "metadata": {},
          "execution_count": 96
        }
      ]
    },
    {
      "cell_type": "code",
      "source": [
        "df_train.shape"
      ],
      "metadata": {
        "colab": {
          "base_uri": "https://localhost:8080/"
        },
        "id": "opV25dc3f4zG",
        "outputId": "ac21f1ce-3919-4b3b-fda1-75f32d1671c8"
      },
      "execution_count": null,
      "outputs": [
        {
          "output_type": "execute_result",
          "data": {
            "text/plain": [
              "(10682, 26)"
            ]
          },
          "metadata": {},
          "execution_count": 97
        }
      ]
    },
    {
      "cell_type": "markdown",
      "source": [
        "#Split data"
      ],
      "metadata": {
        "id": "6mhk_KiikP4a"
      }
    },
    {
      "cell_type": "code",
      "source": [
        "X= df_train.drop(['Price'],axis=1)  #feature\n",
        "y=df_train['Price'] #target\n",
        "\n",
        "print(X.shape, y.shape)"
      ],
      "metadata": {
        "colab": {
          "base_uri": "https://localhost:8080/"
        },
        "id": "fsIaFAj6gaKh",
        "outputId": "28e9a8aa-4076-4920-c9f9-127efde4123f"
      },
      "execution_count": null,
      "outputs": [
        {
          "output_type": "stream",
          "name": "stdout",
          "text": [
            "(10682, 25) (10682,)\n"
          ]
        }
      ]
    },
    {
      "cell_type": "code",
      "source": [
        "X_train, X_test, y_train, y_test = train_test_split(X, y, test_size = 0.2, random_state = 43)"
      ],
      "metadata": {
        "id": "HGpQSEOgBYLd"
      },
      "execution_count": null,
      "outputs": []
    },
    {
      "cell_type": "markdown",
      "source": [
        "#Model Deployment"
      ],
      "metadata": {
        "id": "B6qnhd_SSFoV"
      }
    },
    {
      "cell_type": "code",
      "source": [
        "# Siapkan dataframe untuk analisis model\n",
        "models = pd.DataFrame(index=['train_mse', 'test_R2_Score', 'train_Mae'], \n",
        "                      columns=['KNN', 'RandomForest', 'Boosting'])"
      ],
      "metadata": {
        "id": "3OBGkK8v8p4w"
      },
      "execution_count": null,
      "outputs": []
    },
    {
      "cell_type": "markdown",
      "source": [
        "**KNeighborsRegressor**\n",
        "\n",
        "Pada dataset nilai K terbaik setelah pengujian beberapa nilai K didapatkan nilai K terbaik adalah 3 .Namun algoritma ini bukan hasil yang terbaik pada ketiga modelling. Selain itu , ini juga merupakan kekurangan karena nilai K yang sulit ditemukan"
      ],
      "metadata": {
        "id": "6rUFpplZnh9M"
      }
    },
    {
      "cell_type": "code",
      "source": [
        "knn = KNeighborsRegressor(n_neighbors=3)\n",
        "knn.fit(X_train, y_train)\n",
        " \n",
        "models.loc['train_mse','knn'] = mean_squared_error(y_pred = knn.predict(X_train), y_true=y_train)\n",
        "models.loc['train_R2_Score','knn'] = r2_score(y_pred = knn.predict(X_train), y_true=y_train)\n",
        "models.loc['train_mae','knn'] = mean_absolute_error(y_pred = knn.predict(X_train), y_true=y_train)"
      ],
      "metadata": {
        "id": "sFqsRS5482kO"
      },
      "execution_count": null,
      "outputs": []
    },
    {
      "cell_type": "markdown",
      "source": [
        "**RandomForestRegressor**\n",
        "\n",
        "Pada modelling menggunakan n_estimators=50, max_depth=16, random_state=55, n_jobs=-1 dengan parameter tersebut memberikan hasil algoritma paling baik diantara algoritma lainnya"
      ],
      "metadata": {
        "id": "xpLhFCyOnlUk"
      }
    },
    {
      "cell_type": "code",
      "source": [
        "\n",
        "RF = RandomForestRegressor(n_estimators=50, max_depth=16, random_state=55, n_jobs=-1)\n",
        "RF.fit(X_train, y_train)\n",
        " \n",
        "models.loc['train_mse','RandomForest'] = mean_squared_error(y_pred=RF.predict(X_train), y_true=y_train) \n",
        "models.loc['train_R2_Score','RandomForest'] = r2_score(y_pred=RF.predict(X_train), y_true=y_train) \n",
        "models.loc['train_mae','RandomForest'] = mean_absolute_error(y_pred = RF.predict(X_train), y_true=y_train)"
      ],
      "metadata": {
        "id": "xDpEKrt7-cw6"
      },
      "execution_count": null,
      "outputs": []
    },
    {
      "cell_type": "markdown",
      "source": [
        "**DecisionTreeRegressor**\n",
        "\n",
        "Pada modelling ini menggunakan parameter max_depth=20 , namun setelah di evaluasi terjadi overfitting sesuai dengan kekurangan yang dijelaskan di atas. Sehingga Algoritma ini tidak lebih baik daripada Random Forest Regressor tapi sedikit lebih baik dari Algoritma KNeighborsRegressor"
      ],
      "metadata": {
        "id": "Kg5_2CYMns3x"
      }
    },
    {
      "cell_type": "code",
      "source": [
        "DTR= DecisionTreeRegressor(max_depth=20, random_state=3)\n",
        "DTR.fit(X_train, y_train)\n",
        "\n",
        "models.loc['train_mse','DTR'] = mean_squared_error(y_pred=DTR.predict(X_train), y_true=y_train)\n",
        "models.loc['train_R2_Score','DTR'] = r2_score(y_pred=DTR.predict(X_train), y_true=y_train)\n",
        "models.loc['train_mae','DTR'] = mean_absolute_error(y_pred = DTR.predict(X_train), y_true=y_train)"
      ],
      "metadata": {
        "id": "-zW-WUc4xb52"
      },
      "execution_count": null,
      "outputs": []
    },
    {
      "cell_type": "markdown",
      "source": [
        "#EVALUASI MODEL"
      ],
      "metadata": {
        "id": "eb7OqkppB__Y"
      }
    },
    {
      "cell_type": "markdown",
      "source": [
        "**R2_Score**\n",
        "\n",
        "R2 Score adalah metrik yang digunakan untuk mengukur seberapa baik model regresi memprediksi target. Formula R2 Score adalah:\n",
        "R2 = 1 - (SSres / SStot)\n",
        "\n",
        "\n",
        "Ket: \\\n",
        "*  SSres adalah sum of squared residuals, yaitu jumlah kuadrat selisih antara nilai target aktual dan nilai target prediksi. \\\n",
        "* SStot adalah total sum of squares, yaitu jumlah kuadrat selisih antara nilai target aktual dan nilai rata-rata target.\n",
        "\n",
        "\n",
        "\n",
        "\n",
        "\n"
      ],
      "metadata": {
        "id": "Eq8D5opZoNDR"
      }
    },
    {
      "cell_type": "code",
      "source": [
        "# Buat variabel R2_Score yang isinya adalah dataframe nilai R2_Score data train dan test pada masing-masing algoritma\n",
        "R2_Score = pd.DataFrame(columns=['train', 'test'], index=['KNN','RF','DTR'])\n",
        " \n",
        "# Buat dictionary untuk setiap algoritma yang digunakan\n",
        "model_dict = {'KNN': knn, 'RF': RF,'DTR':DTR}\n",
        " \n",
        "# Hitung Mean Squared Error masing-masing algoritma pada data train dan test\n",
        "for name, model in model_dict.items():\n",
        "    R2_Score.loc[name, 'train'] = r2_score(y_true=y_train, y_pred=model.predict(X_train))\n",
        "    R2_Score.loc[name, 'test'] = r2_score(y_true=y_test, y_pred=model.predict(X_test))\n",
        " \n",
        "# Panggil R2_Score\n",
        "R2_Score"
      ],
      "metadata": {
        "colab": {
          "base_uri": "https://localhost:8080/",
          "height": 143
        },
        "id": "y6XIBWKUrnLs",
        "outputId": "d088d733-fea1-49e1-d217-7976dbb2f4a8"
      },
      "execution_count": null,
      "outputs": [
        {
          "output_type": "execute_result",
          "data": {
            "text/plain": [
              "        train      test\n",
              "KNN  0.798497  0.624805\n",
              "RF   0.941121  0.825389\n",
              "DTR  0.972591  0.737278"
            ],
            "text/html": [
              "\n",
              "  <div id=\"df-57842df4-4f7d-4b8d-adfc-8e6fb5ded592\">\n",
              "    <div class=\"colab-df-container\">\n",
              "      <div>\n",
              "<style scoped>\n",
              "    .dataframe tbody tr th:only-of-type {\n",
              "        vertical-align: middle;\n",
              "    }\n",
              "\n",
              "    .dataframe tbody tr th {\n",
              "        vertical-align: top;\n",
              "    }\n",
              "\n",
              "    .dataframe thead th {\n",
              "        text-align: right;\n",
              "    }\n",
              "</style>\n",
              "<table border=\"1\" class=\"dataframe\">\n",
              "  <thead>\n",
              "    <tr style=\"text-align: right;\">\n",
              "      <th></th>\n",
              "      <th>train</th>\n",
              "      <th>test</th>\n",
              "    </tr>\n",
              "  </thead>\n",
              "  <tbody>\n",
              "    <tr>\n",
              "      <th>KNN</th>\n",
              "      <td>0.798497</td>\n",
              "      <td>0.624805</td>\n",
              "    </tr>\n",
              "    <tr>\n",
              "      <th>RF</th>\n",
              "      <td>0.941121</td>\n",
              "      <td>0.825389</td>\n",
              "    </tr>\n",
              "    <tr>\n",
              "      <th>DTR</th>\n",
              "      <td>0.972591</td>\n",
              "      <td>0.737278</td>\n",
              "    </tr>\n",
              "  </tbody>\n",
              "</table>\n",
              "</div>\n",
              "      <button class=\"colab-df-convert\" onclick=\"convertToInteractive('df-57842df4-4f7d-4b8d-adfc-8e6fb5ded592')\"\n",
              "              title=\"Convert this dataframe to an interactive table.\"\n",
              "              style=\"display:none;\">\n",
              "        \n",
              "  <svg xmlns=\"http://www.w3.org/2000/svg\" height=\"24px\"viewBox=\"0 0 24 24\"\n",
              "       width=\"24px\">\n",
              "    <path d=\"M0 0h24v24H0V0z\" fill=\"none\"/>\n",
              "    <path d=\"M18.56 5.44l.94 2.06.94-2.06 2.06-.94-2.06-.94-.94-2.06-.94 2.06-2.06.94zm-11 1L8.5 8.5l.94-2.06 2.06-.94-2.06-.94L8.5 2.5l-.94 2.06-2.06.94zm10 10l.94 2.06.94-2.06 2.06-.94-2.06-.94-.94-2.06-.94 2.06-2.06.94z\"/><path d=\"M17.41 7.96l-1.37-1.37c-.4-.4-.92-.59-1.43-.59-.52 0-1.04.2-1.43.59L10.3 9.45l-7.72 7.72c-.78.78-.78 2.05 0 2.83L4 21.41c.39.39.9.59 1.41.59.51 0 1.02-.2 1.41-.59l7.78-7.78 2.81-2.81c.8-.78.8-2.07 0-2.86zM5.41 20L4 18.59l7.72-7.72 1.47 1.35L5.41 20z\"/>\n",
              "  </svg>\n",
              "      </button>\n",
              "      \n",
              "  <style>\n",
              "    .colab-df-container {\n",
              "      display:flex;\n",
              "      flex-wrap:wrap;\n",
              "      gap: 12px;\n",
              "    }\n",
              "\n",
              "    .colab-df-convert {\n",
              "      background-color: #E8F0FE;\n",
              "      border: none;\n",
              "      border-radius: 50%;\n",
              "      cursor: pointer;\n",
              "      display: none;\n",
              "      fill: #1967D2;\n",
              "      height: 32px;\n",
              "      padding: 0 0 0 0;\n",
              "      width: 32px;\n",
              "    }\n",
              "\n",
              "    .colab-df-convert:hover {\n",
              "      background-color: #E2EBFA;\n",
              "      box-shadow: 0px 1px 2px rgba(60, 64, 67, 0.3), 0px 1px 3px 1px rgba(60, 64, 67, 0.15);\n",
              "      fill: #174EA6;\n",
              "    }\n",
              "\n",
              "    [theme=dark] .colab-df-convert {\n",
              "      background-color: #3B4455;\n",
              "      fill: #D2E3FC;\n",
              "    }\n",
              "\n",
              "    [theme=dark] .colab-df-convert:hover {\n",
              "      background-color: #434B5C;\n",
              "      box-shadow: 0px 1px 3px 1px rgba(0, 0, 0, 0.15);\n",
              "      filter: drop-shadow(0px 1px 2px rgba(0, 0, 0, 0.3));\n",
              "      fill: #FFFFFF;\n",
              "    }\n",
              "  </style>\n",
              "\n",
              "      <script>\n",
              "        const buttonEl =\n",
              "          document.querySelector('#df-57842df4-4f7d-4b8d-adfc-8e6fb5ded592 button.colab-df-convert');\n",
              "        buttonEl.style.display =\n",
              "          google.colab.kernel.accessAllowed ? 'block' : 'none';\n",
              "\n",
              "        async function convertToInteractive(key) {\n",
              "          const element = document.querySelector('#df-57842df4-4f7d-4b8d-adfc-8e6fb5ded592');\n",
              "          const dataTable =\n",
              "            await google.colab.kernel.invokeFunction('convertToInteractive',\n",
              "                                                     [key], {});\n",
              "          if (!dataTable) return;\n",
              "\n",
              "          const docLinkHtml = 'Like what you see? Visit the ' +\n",
              "            '<a target=\"_blank\" href=https://colab.research.google.com/notebooks/data_table.ipynb>data table notebook</a>'\n",
              "            + ' to learn more about interactive tables.';\n",
              "          element.innerHTML = '';\n",
              "          dataTable['output_type'] = 'display_data';\n",
              "          await google.colab.output.renderOutput(dataTable, element);\n",
              "          const docLink = document.createElement('div');\n",
              "          docLink.innerHTML = docLinkHtml;\n",
              "          element.appendChild(docLink);\n",
              "        }\n",
              "      </script>\n",
              "    </div>\n",
              "  </div>\n",
              "  "
            ]
          },
          "metadata": {},
          "execution_count": 104
        }
      ]
    },
    {
      "cell_type": "markdown",
      "source": [
        "Metrik ini mengukur seberapa baik model regresi menjelaskan variasi dari target (tarif pesawat). Nilai R2_Score berkisar antara 0 dan 1, dimana nilai 1 menunjukkan model regresi yang sempurna dan nilai 0 menunjukkan model regresi yang buruk. Dalam hal prediksi tarif pesawat, nilai R2_Score yang tinggi menunjukkan bahwa model regresi memiliki kemampuan yang baik dalam memprediksi tarif pesawat.\n"
      ],
      "metadata": {
        "id": "rzHq-4nLoWs5"
      }
    },
    {
      "cell_type": "code",
      "source": [
        "fig, ax = plt.subplots()\n",
        "R2_Score.sort_values(by='test', ascending=False).plot(kind='barh', ax=ax, zorder=3)\n",
        "ax.grid(zorder=0)\n",
        "ax.set_title(\"PLOT R2_SCORE\")"
      ],
      "metadata": {
        "colab": {
          "base_uri": "https://localhost:8080/",
          "height": 298
        },
        "id": "XsH_Y8G8Cg-J",
        "outputId": "cd9e011e-7d93-44c1-958b-8dbc9bf11bab"
      },
      "execution_count": null,
      "outputs": [
        {
          "output_type": "execute_result",
          "data": {
            "text/plain": [
              "Text(0.5, 1.0, 'PLOT R2_SCORE')"
            ]
          },
          "metadata": {},
          "execution_count": 105
        },
        {
          "output_type": "display_data",
          "data": {
            "text/plain": [
              "<Figure size 432x288 with 1 Axes>"
            ],
            "image/png": "[encoded data removed]"
          },
          "metadata": {
            "needs_background": "light"
          }
        }
      ]
    },
    {
      "cell_type": "markdown",
      "source": [
        "**Mean Squared Error (MSE)**\n",
        "\n",
        "Mean Squared Error (MSE) adalah metrik yang digunakan untuk mengukur kualitas model regresi. Formula MSE adalah:\n",
        "MSE = (1 / n) * Σ (yi - ŷi)^2\n",
        "\n",
        "\n",
        "ket:\n",
        "\n",
        "\n",
        "* n adalah jumlah data \n",
        "*  yi adalah nilai target aktual\n",
        "*  ŷi adalah nilai target prediksi\n",
        "* Σ (yi - ŷi)^2 adalah jumlah kuadrat selisih antara nilai target aktual dan nilai target prediksi\n",
        "\n",
        "\n",
        "\n",
        "\n",
        "\n",
        "\n"
      ],
      "metadata": {
        "id": "qkq77ZtuobDU"
      }
    },
    {
      "cell_type": "code",
      "source": [
        "# Buat variabel mse yang isinya adalah dataframe nilai mse data train dan test pada masing-masing algoritma\n",
        "mse = pd.DataFrame(columns=['train', 'test'], index=['KNN','RF','DTR'])\n",
        " \n",
        "# Buat dictionary untuk setiap algoritma yang digunakan\n",
        "model_dict = {'KNN': knn, 'RF': RF, 'DTR':DTR}\n",
        " \n",
        "# Hitung Mean Squared Error masing-masing algoritma pada data train dan test\n",
        "for name, model in model_dict.items():\n",
        "    mse.loc[name, 'train'] = mean_squared_error(y_true=y_train, y_pred=model.predict(X_train))/1e3 \n",
        "    mse.loc[name, 'test'] = mean_squared_error(y_true=y_test, y_pred=model.predict(X_test))/1e3\n",
        " \n",
        "# Panggil mse\n",
        "mse"
      ],
      "metadata": {
        "colab": {
          "base_uri": "https://localhost:8080/",
          "height": 143
        },
        "id": "O0BLsOGWCQGA",
        "outputId": "96e4d1d4-ef55-4799-b0fc-dcc0e96cd625"
      },
      "execution_count": null,
      "outputs": [
        {
          "output_type": "execute_result",
          "data": {
            "text/plain": [
              "           train         test\n",
              "KNN  4186.297999  8712.025152\n",
              "RF   1223.235661     4054.469\n",
              "DTR    569.42498  6100.403468"
            ],
            "text/html": [
              "\n",
              "  <div id=\"df-e363a32c-6126-4f2d-8ef0-e8f2343536a8\">\n",
              "    <div class=\"colab-df-container\">\n",
              "      <div>\n",
              "<style scoped>\n",
              "    .dataframe tbody tr th:only-of-type {\n",
              "        vertical-align: middle;\n",
              "    }\n",
              "\n",
              "    .dataframe tbody tr th {\n",
              "        vertical-align: top;\n",
              "    }\n",
              "\n",
              "    .dataframe thead th {\n",
              "        text-align: right;\n",
              "    }\n",
              "</style>\n",
              "<table border=\"1\" class=\"dataframe\">\n",
              "  <thead>\n",
              "    <tr style=\"text-align: right;\">\n",
              "      <th></th>\n",
              "      <th>train</th>\n",
              "      <th>test</th>\n",
              "    </tr>\n",
              "  </thead>\n",
              "  <tbody>\n",
              "    <tr>\n",
              "      <th>KNN</th>\n",
              "      <td>4186.297999</td>\n",
              "      <td>8712.025152</td>\n",
              "    </tr>\n",
              "    <tr>\n",
              "      <th>RF</th>\n",
              "      <td>1223.235661</td>\n",
              "      <td>4054.469</td>\n",
              "    </tr>\n",
              "    <tr>\n",
              "      <th>DTR</th>\n",
              "      <td>569.42498</td>\n",
              "      <td>6100.403468</td>\n",
              "    </tr>\n",
              "  </tbody>\n",
              "</table>\n",
              "</div>\n",
              "      <button class=\"colab-df-convert\" onclick=\"convertToInteractive('df-e363a32c-6126-4f2d-8ef0-e8f2343536a8')\"\n",
              "              title=\"Convert this dataframe to an interactive table.\"\n",
              "              style=\"display:none;\">\n",
              "        \n",
              "  <svg xmlns=\"http://www.w3.org/2000/svg\" height=\"24px\"viewBox=\"0 0 24 24\"\n",
              "       width=\"24px\">\n",
              "    <path d=\"M0 0h24v24H0V0z\" fill=\"none\"/>\n",
              "    <path d=\"M18.56 5.44l.94 2.06.94-2.06 2.06-.94-2.06-.94-.94-2.06-.94 2.06-2.06.94zm-11 1L8.5 8.5l.94-2.06 2.06-.94-2.06-.94L8.5 2.5l-.94 2.06-2.06.94zm10 10l.94 2.06.94-2.06 2.06-.94-2.06-.94-.94-2.06-.94 2.06-2.06.94z\"/><path d=\"M17.41 7.96l-1.37-1.37c-.4-.4-.92-.59-1.43-.59-.52 0-1.04.2-1.43.59L10.3 9.45l-7.72 7.72c-.78.78-.78 2.05 0 2.83L4 21.41c.39.39.9.59 1.41.59.51 0 1.02-.2 1.41-.59l7.78-7.78 2.81-2.81c.8-.78.8-2.07 0-2.86zM5.41 20L4 18.59l7.72-7.72 1.47 1.35L5.41 20z\"/>\n",
              "  </svg>\n",
              "      </button>\n",
              "      \n",
              "  <style>\n",
              "    .colab-df-container {\n",
              "      display:flex;\n",
              "      flex-wrap:wrap;\n",
              "      gap: 12px;\n",
              "    }\n",
              "\n",
              "    .colab-df-convert {\n",
              "      background-color: #E8F0FE;\n",
              "      border: none;\n",
              "      border-radius: 50%;\n",
              "      cursor: pointer;\n",
              "      display: none;\n",
              "      fill: #1967D2;\n",
              "      height: 32px;\n",
              "      padding: 0 0 0 0;\n",
              "      width: 32px;\n",
              "    }\n",
              "\n",
              "    .colab-df-convert:hover {\n",
              "      background-color: #E2EBFA;\n",
              "      box-shadow: 0px 1px 2px rgba(60, 64, 67, 0.3), 0px 1px 3px 1px rgba(60, 64, 67, 0.15);\n",
              "      fill: #174EA6;\n",
              "    }\n",
              "\n",
              "    [theme=dark] .colab-df-convert {\n",
              "      background-color: #3B4455;\n",
              "      fill: #D2E3FC;\n",
              "    }\n",
              "\n",
              "    [theme=dark] .colab-df-convert:hover {\n",
              "      background-color: #434B5C;\n",
              "      box-shadow: 0px 1px 3px 1px rgba(0, 0, 0, 0.15);\n",
              "      filter: drop-shadow(0px 1px 2px rgba(0, 0, 0, 0.3));\n",
              "      fill: #FFFFFF;\n",
              "    }\n",
              "  </style>\n",
              "\n",
              "      <script>\n",
              "        const buttonEl =\n",
              "          document.querySelector('#df-e363a32c-6126-4f2d-8ef0-e8f2343536a8 button.colab-df-convert');\n",
              "        buttonEl.style.display =\n",
              "          google.colab.kernel.accessAllowed ? 'block' : 'none';\n",
              "\n",
              "        async function convertToInteractive(key) {\n",
              "          const element = document.querySelector('#df-e363a32c-6126-4f2d-8ef0-e8f2343536a8');\n",
              "          const dataTable =\n",
              "            await google.colab.kernel.invokeFunction('convertToInteractive',\n",
              "                                                     [key], {});\n",
              "          if (!dataTable) return;\n",
              "\n",
              "          const docLinkHtml = 'Like what you see? Visit the ' +\n",
              "            '<a target=\"_blank\" href=https://colab.research.google.com/notebooks/data_table.ipynb>data table notebook</a>'\n",
              "            + ' to learn more about interactive tables.';\n",
              "          element.innerHTML = '';\n",
              "          dataTable['output_type'] = 'display_data';\n",
              "          await google.colab.output.renderOutput(dataTable, element);\n",
              "          const docLink = document.createElement('div');\n",
              "          docLink.innerHTML = docLinkHtml;\n",
              "          element.appendChild(docLink);\n",
              "        }\n",
              "      </script>\n",
              "    </div>\n",
              "  </div>\n",
              "  "
            ]
          },
          "metadata": {},
          "execution_count": 106
        }
      ]
    },
    {
      "cell_type": "markdown",
      "source": [
        "Metrik ini mengukur rata-rata kuadrat selisih antara nilai target aktual (tarif pesawat) dan nilai target prediksi. Semakin kecil nilai MSE, semakin baik model regresi dalam memprediksi tarif pesawat. Dalam hal prediksi tarif pesawat, model regresi dengan MSE yang lebih kecil akan dianggap memiliki performa yang lebih baik dibandingkan dengan model yang memiliki MSE yang lebih besar."
      ],
      "metadata": {
        "id": "JPXLGNBCpUTR"
      }
    },
    {
      "cell_type": "code",
      "source": [
        "fig, ax = plt.subplots()\n",
        "mse.sort_values(by='test', ascending=False).plot(kind='barh', ax=ax, zorder=3)\n",
        "ax.grid(zorder=0)\n",
        "ax.set_title(\"PLOT MSE\")"
      ],
      "metadata": {
        "colab": {
          "base_uri": "https://localhost:8080/",
          "height": 298
        },
        "id": "1lPd89pr42Nj",
        "outputId": "7a13f9a0-c354-4552-c695-7159bf9cfa54"
      },
      "execution_count": null,
      "outputs": [
        {
          "output_type": "execute_result",
          "data": {
            "text/plain": [
              "Text(0.5, 1.0, 'PLOT MSE')"
            ]
          },
          "metadata": {},
          "execution_count": 107
        },
        {
          "output_type": "display_data",
          "data": {
            "text/plain": [
              "<Figure size 432x288 with 1 Axes>"
            ],
            "image/png": "[encoded data removed]"
          },
          "metadata": {
            "needs_background": "light"
          }
        }
      ]
    },
    {
      "cell_type": "markdown",
      "source": [
        "**Mean Absolute Error** \\\n",
        "Mean Absolute Error (MAE) adalah metrik yang digunakan untuk mengukur kualitas model regresi. Formula MAE adalah:\n",
        "\n",
        "MAE = (1 / n) * Σ |yi - ŷi|\n",
        "\n",
        "\n",
        "\n",
        "ket:\n",
        "\n",
        "\n",
        "* n adalah jumlah data \n",
        "*  yi adalah nilai target aktual\n",
        "*  ŷi adalah nilai target prediksi\n",
        "* Σ |yi - ŷi| adalah jumlah absolute selisih antara nilai target aktual dan nilai target prediksi\n",
        "\n",
        "\n",
        "\n",
        "\n",
        "\n",
        "\n"
      ],
      "metadata": {
        "id": "ivlOuW0lpeCO"
      }
    },
    {
      "cell_type": "code",
      "source": [
        "# Buat variabel mae yang isinya adalah dataframe nilai mae data train dan test pada masing-masing algoritma\n",
        "mae = pd.DataFrame(columns=['train', 'test'], index=['KNN','RF','DTR'])\n",
        " \n",
        "# Buat dictionary untuk setiap algoritma yang digunakan\n",
        "model_dict = {'KNN': knn, 'RF': RF, 'DTR':DTR}\n",
        " \n",
        "# Hitung Mean Squared Error masing-masing algoritma pada data train dan test\n",
        "for name, model in model_dict.items():\n",
        "    mae.loc[name, 'train'] = mean_absolute_error(y_true=y_train, y_pred=model.predict(X_train))/1e3 \n",
        "    mae.loc[name, 'test'] = mean_absolute_error(y_true=y_test, y_pred=model.predict(X_test))/1e3\n",
        " \n",
        "# Panggil mae\n",
        "mae"
      ],
      "metadata": {
        "id": "5bHwSu-fv0jw",
        "colab": {
          "base_uri": "https://localhost:8080/",
          "height": 143
        },
        "outputId": "c3232918-19ba-424c-92ed-804238e777ad"
      },
      "execution_count": null,
      "outputs": [
        {
          "output_type": "execute_result",
          "data": {
            "text/plain": [
              "        train      test\n",
              "KNN   1.24639  1.799676\n",
              "RF   0.690195  1.236153\n",
              "DTR  0.296922  1.440906"
            ],
            "text/html": [
              "\n",
              "  <div id=\"df-535ea6ed-91ce-47e3-926a-08883fc37473\">\n",
              "    <div class=\"colab-df-container\">\n",
              "      <div>\n",
              "<style scoped>\n",
              "    .dataframe tbody tr th:only-of-type {\n",
              "        vertical-align: middle;\n",
              "    }\n",
              "\n",
              "    .dataframe tbody tr th {\n",
              "        vertical-align: top;\n",
              "    }\n",
              "\n",
              "    .dataframe thead th {\n",
              "        text-align: right;\n",
              "    }\n",
              "</style>\n",
              "<table border=\"1\" class=\"dataframe\">\n",
              "  <thead>\n",
              "    <tr style=\"text-align: right;\">\n",
              "      <th></th>\n",
              "      <th>train</th>\n",
              "      <th>test</th>\n",
              "    </tr>\n",
              "  </thead>\n",
              "  <tbody>\n",
              "    <tr>\n",
              "      <th>KNN</th>\n",
              "      <td>1.24639</td>\n",
              "      <td>1.799676</td>\n",
              "    </tr>\n",
              "    <tr>\n",
              "      <th>RF</th>\n",
              "      <td>0.690195</td>\n",
              "      <td>1.236153</td>\n",
              "    </tr>\n",
              "    <tr>\n",
              "      <th>DTR</th>\n",
              "      <td>0.296922</td>\n",
              "      <td>1.440906</td>\n",
              "    </tr>\n",
              "  </tbody>\n",
              "</table>\n",
              "</div>\n",
              "      <button class=\"colab-df-convert\" onclick=\"convertToInteractive('df-535ea6ed-91ce-47e3-926a-08883fc37473')\"\n",
              "              title=\"Convert this dataframe to an interactive table.\"\n",
              "              style=\"display:none;\">\n",
              "        \n",
              "  <svg xmlns=\"http://www.w3.org/2000/svg\" height=\"24px\"viewBox=\"0 0 24 24\"\n",
              "       width=\"24px\">\n",
              "    <path d=\"M0 0h24v24H0V0z\" fill=\"none\"/>\n",
              "    <path d=\"M18.56 5.44l.94 2.06.94-2.06 2.06-.94-2.06-.94-.94-2.06-.94 2.06-2.06.94zm-11 1L8.5 8.5l.94-2.06 2.06-.94-2.06-.94L8.5 2.5l-.94 2.06-2.06.94zm10 10l.94 2.06.94-2.06 2.06-.94-2.06-.94-.94-2.06-.94 2.06-2.06.94z\"/><path d=\"M17.41 7.96l-1.37-1.37c-.4-.4-.92-.59-1.43-.59-.52 0-1.04.2-1.43.59L10.3 9.45l-7.72 7.72c-.78.78-.78 2.05 0 2.83L4 21.41c.39.39.9.59 1.41.59.51 0 1.02-.2 1.41-.59l7.78-7.78 2.81-2.81c.8-.78.8-2.07 0-2.86zM5.41 20L4 18.59l7.72-7.72 1.47 1.35L5.41 20z\"/>\n",
              "  </svg>\n",
              "      </button>\n",
              "      \n",
              "  <style>\n",
              "    .colab-df-container {\n",
              "      display:flex;\n",
              "      flex-wrap:wrap;\n",
              "      gap: 12px;\n",
              "    }\n",
              "\n",
              "    .colab-df-convert {\n",
              "      background-color: #E8F0FE;\n",
              "      border: none;\n",
              "      border-radius: 50%;\n",
              "      cursor: pointer;\n",
              "      display: none;\n",
              "      fill: #1967D2;\n",
              "      height: 32px;\n",
              "      padding: 0 0 0 0;\n",
              "      width: 32px;\n",
              "    }\n",
              "\n",
              "    .colab-df-convert:hover {\n",
              "      background-color: #E2EBFA;\n",
              "      box-shadow: 0px 1px 2px rgba(60, 64, 67, 0.3), 0px 1px 3px 1px rgba(60, 64, 67, 0.15);\n",
              "      fill: #174EA6;\n",
              "    }\n",
              "\n",
              "    [theme=dark] .colab-df-convert {\n",
              "      background-color: #3B4455;\n",
              "      fill: #D2E3FC;\n",
              "    }\n",
              "\n",
              "    [theme=dark] .colab-df-convert:hover {\n",
              "      background-color: #434B5C;\n",
              "      box-shadow: 0px 1px 3px 1px rgba(0, 0, 0, 0.15);\n",
              "      filter: drop-shadow(0px 1px 2px rgba(0, 0, 0, 0.3));\n",
              "      fill: #FFFFFF;\n",
              "    }\n",
              "  </style>\n",
              "\n",
              "      <script>\n",
              "        const buttonEl =\n",
              "          document.querySelector('#df-535ea6ed-91ce-47e3-926a-08883fc37473 button.colab-df-convert');\n",
              "        buttonEl.style.display =\n",
              "          google.colab.kernel.accessAllowed ? 'block' : 'none';\n",
              "\n",
              "        async function convertToInteractive(key) {\n",
              "          const element = document.querySelector('#df-535ea6ed-91ce-47e3-926a-08883fc37473');\n",
              "          const dataTable =\n",
              "            await google.colab.kernel.invokeFunction('convertToInteractive',\n",
              "                                                     [key], {});\n",
              "          if (!dataTable) return;\n",
              "\n",
              "          const docLinkHtml = 'Like what you see? Visit the ' +\n",
              "            '<a target=\"_blank\" href=https://colab.research.google.com/notebooks/data_table.ipynb>data table notebook</a>'\n",
              "            + ' to learn more about interactive tables.';\n",
              "          element.innerHTML = '';\n",
              "          dataTable['output_type'] = 'display_data';\n",
              "          await google.colab.output.renderOutput(dataTable, element);\n",
              "          const docLink = document.createElement('div');\n",
              "          docLink.innerHTML = docLinkHtml;\n",
              "          element.appendChild(docLink);\n",
              "        }\n",
              "      </script>\n",
              "    </div>\n",
              "  </div>\n",
              "  "
            ]
          },
          "metadata": {},
          "execution_count": 108
        }
      ]
    },
    {
      "cell_type": "markdown",
      "source": [
        "Metrik ini mengukur rata-rata selisih antara nilai target aktual (tarif pesawat) dan nilai target prediksi. Semakin kecil nilai MAE, semakin baik model regresi dalam memprediksi tarif pesawat. Dalam hal prediksi tarif pesawat, model regresi dengan MAE yang lebih kecil akan dianggap memiliki performa yang lebih baik dibandingkan dengan model yang memiliki MAE yang lebih besar."
      ],
      "metadata": {
        "id": "jQoKjraippxl"
      }
    },
    {
      "cell_type": "code",
      "source": [
        "fig, ax = plt.subplots()\n",
        "mae.sort_values(by='test', ascending=False).plot(kind='barh', ax=ax, zorder=3)\n",
        "ax.grid(zorder=0)\n",
        "ax.set_title(\"PLOT MAE\")"
      ],
      "metadata": {
        "id": "C4ES5pmXv4FR",
        "colab": {
          "base_uri": "https://localhost:8080/",
          "height": 298
        },
        "outputId": "70e06d08-22e8-40fd-c8f0-31d4aaded2fe"
      },
      "execution_count": null,
      "outputs": [
        {
          "output_type": "execute_result",
          "data": {
            "text/plain": [
              "Text(0.5, 1.0, 'PLOT MAE')"
            ]
          },
          "metadata": {},
          "execution_count": 109
        },
        {
          "output_type": "display_data",
          "data": {
            "text/plain": [
              "<Figure size 432x288 with 1 Axes>"
            ],
            "image/png": "[encoded data removed]"
          },
          "metadata": {
            "needs_background": "light"
          }
        }
      ]
    },
    {
      "cell_type": "code",
      "source": [
        "#menguji\n",
        "prediksi = X_test.iloc[:5].copy()\n",
        "pred_dict = {'y_true':y_test[:5]}\n",
        "for name, model in model_dict.items():\n",
        "    pred_dict['prediksi_'+name] = model.predict(prediksi).round(1)\n",
        " \n",
        "pd.DataFrame(pred_dict)"
      ],
      "metadata": {
        "colab": {
          "base_uri": "https://localhost:8080/",
          "height": 206
        },
        "id": "EAV2-o6Css-t",
        "outputId": "fd8e453a-4c3c-4248-c0ff-5f8c38913738"
      },
      "execution_count": null,
      "outputs": [
        {
          "output_type": "execute_result",
          "data": {
            "text/plain": [
              "      y_true  prediksi_KNN  prediksi_RF  prediksi_DTR\n",
              "7606    7870        9147.0       9120.8       10188.0\n",
              "15     14011       12278.3      13519.8       14221.0\n",
              "145    10844       10844.0      11383.6       10809.7\n",
              "3828    4077        4423.0       4302.2        3943.0\n",
              "6168    5298        5932.0       5775.2        5298.0"
            ],
            "text/html": [
              "\n",
              "  <div id=\"df-5f6c4aef-96b7-4d7a-a3d0-7de93e7aa667\">\n",
              "    <div class=\"colab-df-container\">\n",
              "      <div>\n",
              "<style scoped>\n",
              "    .dataframe tbody tr th:only-of-type {\n",
              "        vertical-align: middle;\n",
              "    }\n",
              "\n",
              "    .dataframe tbody tr th {\n",
              "        vertical-align: top;\n",
              "    }\n",
              "\n",
              "    .dataframe thead th {\n",
              "        text-align: right;\n",
              "    }\n",
              "</style>\n",
              "<table border=\"1\" class=\"dataframe\">\n",
              "  <thead>\n",
              "    <tr style=\"text-align: right;\">\n",
              "      <th></th>\n",
              "      <th>y_true</th>\n",
              "      <th>prediksi_KNN</th>\n",
              "      <th>prediksi_RF</th>\n",
              "      <th>prediksi_DTR</th>\n",
              "    </tr>\n",
              "  </thead>\n",
              "  <tbody>\n",
              "    <tr>\n",
              "      <th>7606</th>\n",
              "      <td>7870</td>\n",
              "      <td>9147.0</td>\n",
              "      <td>9120.8</td>\n",
              "      <td>10188.0</td>\n",
              "    </tr>\n",
              "    <tr>\n",
              "      <th>15</th>\n",
              "      <td>14011</td>\n",
              "      <td>12278.3</td>\n",
              "      <td>13519.8</td>\n",
              "      <td>14221.0</td>\n",
              "    </tr>\n",
              "    <tr>\n",
              "      <th>145</th>\n",
              "      <td>10844</td>\n",
              "      <td>10844.0</td>\n",
              "      <td>11383.6</td>\n",
              "      <td>10809.7</td>\n",
              "    </tr>\n",
              "    <tr>\n",
              "      <th>3828</th>\n",
              "      <td>4077</td>\n",
              "      <td>4423.0</td>\n",
              "      <td>4302.2</td>\n",
              "      <td>3943.0</td>\n",
              "    </tr>\n",
              "    <tr>\n",
              "      <th>6168</th>\n",
              "      <td>5298</td>\n",
              "      <td>5932.0</td>\n",
              "      <td>5775.2</td>\n",
              "      <td>5298.0</td>\n",
              "    </tr>\n",
              "  </tbody>\n",
              "</table>\n",
              "</div>\n",
              "      <button class=\"colab-df-convert\" onclick=\"convertToInteractive('df-5f6c4aef-96b7-4d7a-a3d0-7de93e7aa667')\"\n",
              "              title=\"Convert this dataframe to an interactive table.\"\n",
              "              style=\"display:none;\">\n",
              "        \n",
              "  <svg xmlns=\"http://www.w3.org/2000/svg\" height=\"24px\"viewBox=\"0 0 24 24\"\n",
              "       width=\"24px\">\n",
              "    <path d=\"M0 0h24v24H0V0z\" fill=\"none\"/>\n",
              "    <path d=\"M18.56 5.44l.94 2.06.94-2.06 2.06-.94-2.06-.94-.94-2.06-.94 2.06-2.06.94zm-11 1L8.5 8.5l.94-2.06 2.06-.94-2.06-.94L8.5 2.5l-.94 2.06-2.06.94zm10 10l.94 2.06.94-2.06 2.06-.94-2.06-.94-.94-2.06-.94 2.06-2.06.94z\"/><path d=\"M17.41 7.96l-1.37-1.37c-.4-.4-.92-.59-1.43-.59-.52 0-1.04.2-1.43.59L10.3 9.45l-7.72 7.72c-.78.78-.78 2.05 0 2.83L4 21.41c.39.39.9.59 1.41.59.51 0 1.02-.2 1.41-.59l7.78-7.78 2.81-2.81c.8-.78.8-2.07 0-2.86zM5.41 20L4 18.59l7.72-7.72 1.47 1.35L5.41 20z\"/>\n",
              "  </svg>\n",
              "      </button>\n",
              "      \n",
              "  <style>\n",
              "    .colab-df-container {\n",
              "      display:flex;\n",
              "      flex-wrap:wrap;\n",
              "      gap: 12px;\n",
              "    }\n",
              "\n",
              "    .colab-df-convert {\n",
              "      background-color: #E8F0FE;\n",
              "      border: none;\n",
              "      border-radius: 50%;\n",
              "      cursor: pointer;\n",
              "      display: none;\n",
              "      fill: #1967D2;\n",
              "      height: 32px;\n",
              "      padding: 0 0 0 0;\n",
              "      width: 32px;\n",
              "    }\n",
              "\n",
              "    .colab-df-convert:hover {\n",
              "      background-color: #E2EBFA;\n",
              "      box-shadow: 0px 1px 2px rgba(60, 64, 67, 0.3), 0px 1px 3px 1px rgba(60, 64, 67, 0.15);\n",
              "      fill: #174EA6;\n",
              "    }\n",
              "\n",
              "    [theme=dark] .colab-df-convert {\n",
              "      background-color: #3B4455;\n",
              "      fill: #D2E3FC;\n",
              "    }\n",
              "\n",
              "    [theme=dark] .colab-df-convert:hover {\n",
              "      background-color: #434B5C;\n",
              "      box-shadow: 0px 1px 3px 1px rgba(0, 0, 0, 0.15);\n",
              "      filter: drop-shadow(0px 1px 2px rgba(0, 0, 0, 0.3));\n",
              "      fill: #FFFFFF;\n",
              "    }\n",
              "  </style>\n",
              "\n",
              "      <script>\n",
              "        const buttonEl =\n",
              "          document.querySelector('#df-5f6c4aef-96b7-4d7a-a3d0-7de93e7aa667 button.colab-df-convert');\n",
              "        buttonEl.style.display =\n",
              "          google.colab.kernel.accessAllowed ? 'block' : 'none';\n",
              "\n",
              "        async function convertToInteractive(key) {\n",
              "          const element = document.querySelector('#df-5f6c4aef-96b7-4d7a-a3d0-7de93e7aa667');\n",
              "          const dataTable =\n",
              "            await google.colab.kernel.invokeFunction('convertToInteractive',\n",
              "                                                     [key], {});\n",
              "          if (!dataTable) return;\n",
              "\n",
              "          const docLinkHtml = 'Like what you see? Visit the ' +\n",
              "            '<a target=\"_blank\" href=https://colab.research.google.com/notebooks/data_table.ipynb>data table notebook</a>'\n",
              "            + ' to learn more about interactive tables.';\n",
              "          element.innerHTML = '';\n",
              "          dataTable['output_type'] = 'display_data';\n",
              "          await google.colab.output.renderOutput(dataTable, element);\n",
              "          const docLink = document.createElement('div');\n",
              "          docLink.innerHTML = docLinkHtml;\n",
              "          element.appendChild(docLink);\n",
              "        }\n",
              "      </script>\n",
              "    </div>\n",
              "  </div>\n",
              "  "
            ]
          },
          "metadata": {},
          "execution_count": 110
        }
      ]
    }
  ],
  "metadata": {
    "colab": {
      "provenance": [],
      "mount_file_id": "1SNK_mrbnVvqHXFDWCp04H7J08PtZ4-ea",
      "authorship_tag": "ABX9TyOvSk9ZAgGFC1hLU3QlzlxQ",
      "include_colab_link": true
    },
    "kernelspec": {
      "display_name": "Python 3",
      "name": "python3"
    },
    "language_info": {
      "name": "python"
    }
  },
  "nbformat": 4,
  "nbformat_minor": 0
}